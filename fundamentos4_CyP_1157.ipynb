{
  "nbformat": 4,
  "nbformat_minor": 0,
  "metadata": {
    "colab": {
      "name": "fundamentos4_CyP_1157.ipynb",
      "provenance": [],
      "collapsed_sections": [],
      "authorship_tag": "ABX9TyMEKGdqmwy8tGUvxt4wfBE1",
      "include_colab_link": true
    },
    "kernelspec": {
      "name": "python3",
      "display_name": "Python 3"
    },
    "language_info": {
      "name": "python"
    }
  },
  "cells": [
    {
      "cell_type": "markdown",
      "metadata": {
        "id": "view-in-github",
        "colab_type": "text"
      },
      "source": [
        "<a href=\"https://colab.research.google.com/github/diaanis/fundamentosCyP1157.ipynb/blob/main/fundamentos4_CyP_1157.ipynb\" target=\"_parent\"><img src=\"https://colab.research.google.com/assets/colab-badge.svg\" alt=\"Open In Colab\"/></a>"
      ]
    },
    {
      "cell_type": "markdown",
      "metadata": {
        "id": "PnQqrnhSUnPH"
      },
      "source": [
        "#Modularidad (Funciones)\n",
        "Una función es una unidad de código reutilizable, ademas de ser un mecanismo para organizar código.\n",
        "\n",
        "La gran ventaja de emplear funciones de simplificar la programación.\n",
        "\n",
        "### Estructura \n",
        "Una función puede tomar cualquier cantidad de parametros de entrada( de cualquier tipo) y retornar unicamente un solo valor.\n",
        "\n",
        "Un parametro de entrada es un valor que recibe la funcion para realizar sus operaciones.\n",
        "\n",
        "Con una función se pueden hacer 2 cosas.\n",
        "1. definirla\n",
        "1. involucrarla(ejecutarla)\n",
        "\n",
        "La gran ventaja de tener una función declarada es que la podemos reutilizar como se desee.\n"
      ]
    },
    {
      "cell_type": "markdown",
      "metadata": {
        "id": "rDZkecbjWtPN"
      },
      "source": [
        "![fncbloque.jpeg](data:image/jpeg;base64,/9j/4AAQSkZJRgABAQEAYABgAAD/4RDiRXhpZgAATU0AKgAAAAgABAE7AAIAAAAIAAAISodpAAQAAAABAAAIUpydAAEAAAAQAAAQyuocAAcAAAgMAAAAPgAAAAAc6gAAAAgAAAAAAAAAAAAAAAAAAAAAAAAAAAAAAAAAAAAAAAAAAAAAAAAAAAAAAAAAAAAAAAAAAAAAAAAAAAAAAAAAAAAAAAAAAAAAAAAAAAAAAAAAAAAAAAAAAAAAAAAAAAAAAAAAAAAAAAAAAAAAAAAAAAAAAAAAAAAAAAAAAAAAAAAAAAAAAAAAAAAAAAAAAAAAAAAAAAAAAAAAAAAAAAAAAAAAAAAAAAAAAAAAAAAAAAAAAAAAAAAAAAAAAAAAAAAAAAAAAAAAAAAAAAAAAAAAAAAAAAAAAAAAAAAAAAAAAAAAAAAAAAAAAAAAAAAAAAAAAAAAAAAAAAAAAAAAAAAAAAAAAAAAAAAAAAAAAAAAAAAAAAAAAAAAAAAAAAAAAAAAAAAAAAAAAAAAAAAAAAAAAAAAAAAAAAAAAAAAAAAAAAAAAAAAAAAAAAAAAAAAAAAAAAAAAAAAAAAAAAAAAAAAAAAAAAAAAAAAAAAAAAAAAAAAAAAAAAAAAAAAAAAAAAAAAAAAAAAAAAAAAAAAAAAAAAAAAAAAAAAAAAAAAAAAAAAAAAAAAAAAAAAAAAAAAAAAAAAAAAAAAAAAAAAAAAAAAAAAAAAAAAAAAAAAAAAAAAAAAAAAAAAAAAAAAAAAAAAAAAAAAAAAAAAAAAAAAAAAAAAAAAAAAAAAAAAAAAAAAAAAAAAAAAAAAAAAAAAAAAAAAAAAAAAAAAAAAAAAAAAAAAAAAAAAAAAAAAAAAAAAAAAAAAAAAAAAAAAAAAAAAAAAAAAAAAAAAAAAAAAAAAAAAAAAAAAAAAAAAAAAAAAAAAAAAAAAAAAAAAAAAAAAAAAAAAAAAAAAAAAAAAAAAAAAAAAAAAAAAAAAAAAAAAAAAAAAAAAAAAAAAAAAAAAAAAAAAAAAAAAAAAAAAAAAAAAAAAAAAAAAAAAAAAAAAAAAAAAAAAAAAAAAAAAAAAAAAAAAAAAAAAAAAAAAAAAAAAAAAAAAAAAAAAAAAAAAAAAAAAAAAAAAAAAAAAAAAAAAAAAAAAAAAAAAAAAAAAAAAAAAAAAAAAAAAAAAAAAAAAAAAAAAAAAAAAAAAAAAAAAAAAAAAAAAAAAAAAAAAAAAAAAAAAAAAAAAAAAAAAAAAAAAAAAAAAAAAAAAAAAAAAAAAAAAAAAAAAAAAAAAAAAAAAAAAAAAAAAAAAAAAAAAAAAAAAAAAAAAAAAAAAAAAAAAAAAAAAAAAAAAAAAAAAAAAAAAAAAAAAAAAAAAAAAAAAAAAAAAAAAAAAAAAAAAAAAAAAAAAAAAAAAAAAAAAAAAAAAAAAAAAAAAAAAAAAAAAAAAAAAAAAAAAAAAAAAAAAAAAAAAAAAAAAAAAAAAAAAAAAAAAAAAAAAAAAAAAAAAAAAAAAAAAAAAAAAAAAAAAAAAAAAAAAAAAAAAAAAAAAAAAAAAAAAAAAAAAAAAAAAAAAAAAAAAAAAAAAAAAAAAAAAAAAAAAAAAAAAAAAAAAAAAAAAAAAAAAAAAAAAAAAAAAAAAAAAAAAAAAAAAAAAAAAAAAAAAAAAAAAAAAAAAAAAAAAAAAAAAAAAAAAAAAAAAAAAAAAAAAAAAAAAAAAAAAAAAAAAAAAAAAAAAAAAAAAAAAAAAAAAAAAAAAAAAAAAAAAAAAAAAAAAAAAAAAAAAAAAAAAAAAAAAAAAAAAAAAAAAAAAAAAAAAAAAAAAAAAAAAAAAAAAAAAAAAAAAAAAAAAAAAAAAAAAAAAAAAAAAAAAAAAAAAAAAAAAAAAAAAAAAAAAAAAAAAAAAAAAAAAAAAAAAAAAAAAAAAAAAAAAAAAAAAAAAAAAAAAAAAAAAAAAAAAAAAAAAAAAAAAAAAAAAAAAAAAAAAAAAAAAAAAAAAAAAAAAAAAAAAAAAAAAAAAAAAAAAAAAAAAAAAAAAAAAAAAAAAAAAAAAAAAAAAAAAAAAAAAAAAAAAAAAAAAAAAAAAAAAAAAAAAAAAAAAAAAAAAAAAAAAAAAAAAAAAAAAAAAAAAAAAAAAAAAAAAAAAAAAAAAAAAAAAAAAAAAAAAAAAAAAAAAAAAAAAAAAAAAAAAAAAAAAAAAAAAAAAAAAAAAAAAAAAAAAAAAAAAAAAAAAAAAAAAAAAAAAAAAAAAAAAAAAAAAAAAAAAAAAAAAAAAAAAAAAAAAAAAAAAAAAAAAAAAAAAAAAAAAAAAAAAAAAAAAAAAAAAAAAAAAAAAAAAAAAAAAAAAAAAAAAAAAAAAAAAAAAAAAAAAAAAAAAAAAAAAAAAAAAAAAAAAAAAAAAAAAAAAAAAAAAAAAAAAAAAAAAAAAAAAAAAAAAAAAAAAAAAAAAAAAAAAAAAAAAAAAAAAAAAAAAAAAAAAAAAAAAAAAAAAAAAAAAAAAAAAAAAAAAAAAAAAAAAAAAAAAAAAAAAAAAAAAAAAAAAAAAAAAAAAAAAAAAAAAAAAAAAAAAAAAAAAAAAAAAAAAAAAAAAAAAAAAAAAAAAAAAAAAAAAAAAAAAAAAAAAAAAAAAAAAAAAAAAAAAAAAAAAAAAAAAAAAAAAAAAAAAAAAAAAAAAAAAAAAAAAAAAAAAAAAAAAAAAAAAAAAAAAAAAAAAAAAAAAAAAAAAAAAAAAAAAAAAAAAAAAAAAAAAAAAAAAAAAAAAAAAAAAAAAAAAAAAAAAAAAAAAAAAAAAAAAAAAAAAAAAAAAAAAAAAAAAAAAAAAAAAAAAAAAAAAAAAAAAAAAAAAAAAAAAAAAAAAAAAAAAAAAAAAAAExBQkNPTTIAAAWQAwACAAAAFAAAEKCQBAACAAAAFAAAELSSkQACAAAAAzM3AACSkgACAAAAAzM3AADqHAAHAAAIDAAACJQAAAAAHOoAAAAIAAAAAAAAAAAAAAAAAAAAAAAAAAAAAAAAAAAAAAAAAAAAAAAAAAAAAAAAAAAAAAAAAAAAAAAAAAAAAAAAAAAAAAAAAAAAAAAAAAAAAAAAAAAAAAAAAAAAAAAAAAAAAAAAAAAAAAAAAAAAAAAAAAAAAAAAAAAAAAAAAAAAAAAAAAAAAAAAAAAAAAAAAAAAAAAAAAAAAAAAAAAAAAAAAAAAAAAAAAAAAAAAAAAAAAAAAAAAAAAAAAAAAAAAAAAAAAAAAAAAAAAAAAAAAAAAAAAAAAAAAAAAAAAAAAAAAAAAAAAAAAAAAAAAAAAAAAAAAAAAAAAAAAAAAAAAAAAAAAAAAAAAAAAAAAAAAAAAAAAAAAAAAAAAAAAAAAAAAAAAAAAAAAAAAAAAAAAAAAAAAAAAAAAAAAAAAAAAAAAAAAAAAAAAAAAAAAAAAAAAAAAAAAAAAAAAAAAAAAAAAAAAAAAAAAAAAAAAAAAAAAAAAAAAAAAAAAAAAAAAAAAAAAAAAAAAAAAAAAAAAAAAAAAAAAAAAAAAAAAAAAAAAAAAAAAAAAAAAAAAAAAAAAAAAAAAAAAAAAAAAAAAAAAAAAAAAAAAAAAAAAAAAAAAAAAAAAAAAAAAAAAAAAAAAAAAAAAAAAAAAAAAAAAAAAAAAAAAAAAAAAAAAAAAAAAAAAAAAAAAAAAAAAAAAAAAAAAAAAAAAAAAAAAAAAAAAAAAAAAAAAAAAAAAAAAAAAAAAAAAAAAAAAAAAAAAAAAAAAAAAAAAAAAAAAAAAAAAAAAAAAAAAAAAAAAAAAAAAAAAAAAAAAAAAAAAAAAAAAAAAAAAAAAAAAAAAAAAAAAAAAAAAAAAAAAAAAAAAAAAAAAAAAAAAAAAAAAAAAAAAAAAAAAAAAAAAAAAAAAAAAAAAAAAAAAAAAAAAAAAAAAAAAAAAAAAAAAAAAAAAAAAAAAAAAAAAAAAAAAAAAAAAAAAAAAAAAAAAAAAAAAAAAAAAAAAAAAAAAAAAAAAAAAAAAAAAAAAAAAAAAAAAAAAAAAAAAAAAAAAAAAAAAAAAAAAAAAAAAAAAAAAAAAAAAAAAAAAAAAAAAAAAAAAAAAAAAAAAAAAAAAAAAAAAAAAAAAAAAAAAAAAAAAAAAAAAAAAAAAAAAAAAAAAAAAAAAAAAAAAAAAAAAAAAAAAAAAAAAAAAAAAAAAAAAAAAAAAAAAAAAAAAAAAAAAAAAAAAAAAAAAAAAAAAAAAAAAAAAAAAAAAAAAAAAAAAAAAAAAAAAAAAAAAAAAAAAAAAAAAAAAAAAAAAAAAAAAAAAAAAAAAAAAAAAAAAAAAAAAAAAAAAAAAAAAAAAAAAAAAAAAAAAAAAAAAAAAAAAAAAAAAAAAAAAAAAAAAAAAAAAAAAAAAAAAAAAAAAAAAAAAAAAAAAAAAAAAAAAAAAAAAAAAAAAAAAAAAAAAAAAAAAAAAAAAAAAAAAAAAAAAAAAAAAAAAAAAAAAAAAAAAAAAAAAAAAAAAAAAAAAAAAAAAAAAAAAAAAAAAAAAAAAAAAAAAAAAAAAAAAAAAAAAAAAAAAAAAAAAAAAAAAAAAAAAAAAAAAAAAAAAAAAAAAAAAAAAAAAAAAAAAAAAAAAAAAAAAAAAAAAAAAAAAAAAAAAAAAAAAAAAAAAAAAAAAAAAAAAAAAAAAAAAAAAAAAAAAAAAAAAAAAAAAAAAAAAAAAAAAAAAAAAAAAAAAAAAAAAAAAAAAAAAAAAAAAAAAAAAAAAAAAAAAAAAAAAAAAAAAAAAAAAAAAAAAAAAAAAAAAAAAAAAAAAAAAAAAAAAAAAAAAAAAAAAAAAAAAAAAAAAAAAAAAAAAAAAAAAAAAAAAAAAAAAAAAAAAAAAAAAAAAAAAAAAAAAAAAAAAAAAAAAAAAAAAAAAAAAAAAAAAAAAAAAAAAAAAAAAAAAAAAAAAAAAAAAAAAAAAAAAAAAAAAAAAAAAAAAAAAAAAAAAAAAAAAAAAAAAAAAAAAAAAAAAAAAAAAAAAAAAAAAAAAAAAAAAAAAAAAAAAAAAAAAAAAAAAAAAAAAAAAAAAAAAAAAAAAAAAAAAAAAAAAAAAAAAAAAAAAAAAAAAAAAAAAAAAAAAAAAAAAAAAAAAAAAAAAAAAAAAAAAAAAAAAAAAAAAAAAAAAAAAAAAAAAAAAAAAAAAAAAAAAAAAAAAAAAAAAAAAAAAAAAAAAAAAAAAAAAAAAAAAAAAAAAAAAAAAAAAAAAAAAAAAAAAAAAAAAAAAAAAAAAAAAAAAAAAAAAAAAAAAAAAAAAAAAAAAAAAAAAAAAAAAAAAAAAAAAAAAAAAAAAAAAAAAAAAAAAAAAAAAAAAAAAAAAAAAAAAAAAAAAAAAAAAAAAAAAAAAAAAAAAAAAAAAAAAAAAAAAAAAAAAAAAAAAAAAAAAAAAAAAAAAAAAAAAAAAAAAAAAAAAAAAAAAAAAAAAAAAAAAAAAAAAAAAAAAAAAAAAAAAAAAAAAAAAAAAAAAAAAAAAAAAAAAAAAAAAAAAAAAAAAAAAAAAAAAAAAAAAAAAAAAAAAAAAAAAAAAAAAAAAAAAAAAAAAAAAAAAAAAAAAAAAAAAAAAAAAAAAAAAAAAAAAAAAAAAAAAAAAAAAAAAAAAAAAAAAAAAAAAAAAAAAAAAAAAAAAAAAAAAAAAAAAAAAAAAAAAAAAAAAAAAAAAAAAAAAAAAAAAAAAAAAAAAAAAAAAAAAAAAAAAAAAAAAAAAAAAAAAAAAAAAAAAAAAAyMDE5OjA3OjE5IDIzOjI1OjMyADIwMTk6MDc6MTkgMjM6MjU6MzIAAABMAEEAQgBDAE8ATQAyAAAA/+ELGmh0dHA6Ly9ucy5hZG9iZS5jb20veGFwLzEuMC8APD94cGFja2V0IGJlZ2luPSfvu78nIGlkPSdXNU0wTXBDZWhpSHpyZVN6TlRjemtjOWQnPz4NCjx4OnhtcG1ldGEgeG1sbnM6eD0iYWRvYmU6bnM6bWV0YS8iPjxyZGY6UkRGIHhtbG5zOnJkZj0iaHR0cDovL3d3dy53My5vcmcvMTk5OS8wMi8yMi1yZGYtc3ludGF4LW5zIyI+PHJkZjpEZXNjcmlwdGlvbiByZGY6YWJvdXQ9InV1aWQ6ZmFmNWJkZDUtYmEzZC0xMWRhLWFkMzEtZDMzZDc1MTgyZjFiIiB4bWxuczpkYz0iaHR0cDovL3B1cmwub3JnL2RjL2VsZW1lbnRzLzEuMS8iLz48cmRmOkRlc2NyaXB0aW9uIHJkZjphYm91dD0idXVpZDpmYWY1YmRkNS1iYTNkLTExZGEtYWQzMS1kMzNkNzUxODJmMWIiIHhtbG5zOnhtcD0iaHR0cDovL25zLmFkb2JlLmNvbS94YXAvMS4wLyI+PHhtcDpDcmVhdGVEYXRlPjIwMTktMDctMTlUMjM6MjU6MzIuMzcwPC94bXA6Q3JlYXRlRGF0ZT48L3JkZjpEZXNjcmlwdGlvbj48cmRmOkRlc2NyaXB0aW9uIHJkZjphYm91dD0idXVpZDpmYWY1YmRkNS1iYTNkLTExZGEtYWQzMS1kMzNkNzUxODJmMWIiIHhtbG5zOmRjPSJodHRwOi8vcHVybC5vcmcvZGMvZWxlbWVudHMvMS4xLyI+PGRjOmNyZWF0b3I+PHJkZjpTZXEgeG1sbnM6cmRmPSJodHRwOi8vd3d3LnczLm9yZy8xOTk5LzAyLzIyLXJkZi1zeW50YXgtbnMjIj48cmRmOmxpPkxBQkNPTTI8L3JkZjpsaT48L3JkZjpTZXE+DQoJCQk8L2RjOmNyZWF0b3I+PC9yZGY6RGVzY3JpcHRpb24+PC9yZGY6UkRGPjwveDp4bXBtZXRhPg0KICAgICAgICAgICAgICAgICAgICAgICAgICAgICAgICAgICAgICAgICAgICAgICAgICAgICAgICAgICAgICAgICAgICAgICAgICAgICAgICAgICAgICAgICAgICAgICAgICAgIAogICAgICAgICAgICAgICAgICAgICAgICAgICAgICAgICAgICAgICAgICAgICAgICAgICAgICAgICAgICAgICAgICAgICAgICAgICAgICAgICAgICAgICAgICAgICAgICAgICAgCiAgICAgICAgICAgICAgICAgICAgICAgICAgICAgICAgICAgICAgICAgICAgICAgICAgICAgICAgICAgICAgICAgICAgICAgICAgICAgICAgICAgICAgICAgICAgICAgICAgICAKICAgICAgICAgICAgICAgICAgICAgICAgICAgICAgICAgICAgICAgICAgICAgICAgICAgICAgICAgICAgICAgICAgICAgICAgICAgICAgICAgICAgICAgICAgICAgICAgICAgIAogICAgICAgICAgICAgICAgICAgICAgICAgICAgICAgICAgICAgICAgICAgICAgICAgICAgICAgICAgICAgICAgICAgICAgICAgICAgICAgICAgICAgICAgICAgICAgICAgICAgCiAgICAgICAgICAgICAgICAgICAgICAgICAgICAgICAgICAgICAgICAgICAgICAgICAgICAgICAgICAgICAgICAgICAgICAgICAgICAgICAgICAgICAgICAgICAgICAgICAgICAKICAgICAgICAgICAgICAgICAgICAgICAgICAgICAgICAgICAgICAgICAgICAgICAgICAgICAgICAgICAgICAgICAgICAgICAgICAgICAgICAgICAgICAgICAgICAgICAgICAgIAogICAgICAgICAgICAgICAgICAgICAgICAgICAgICAgICAgICAgICAgICAgICAgICAgICAgICAgICAgICAgICAgICAgICAgICAgICAgICAgICAgICAgICAgICAgICAgICAgICAgCiAgICAgICAgICAgICAgICAgICAgICAgICAgICAgICAgICAgICAgICAgICAgICAgICAgICAgICAgICAgICAgICAgICAgICAgICAgICAgICAgICAgICAgICAgICAgICAgICAgICAKICAgICAgICAgICAgICAgICAgICAgICAgICAgICAgICAgICAgICAgICAgICAgICAgICAgICAgICAgICAgICAgICAgICAgICAgICAgICAgICAgICAgICAgICAgICAgICAgICAgIAogICAgICAgICAgICAgICAgICAgICAgICAgICAgICAgICAgICAgICAgICAgICAgICAgICAgICAgICAgICAgICAgICAgICAgICAgICAgICAgICAgICAgICAgICAgICAgICAgICAgCiAgICAgICAgICAgICAgICAgICAgICAgICAgICAgICAgICAgICAgICAgICAgICAgICAgICAgICAgICAgICAgICAgICAgICAgICAgICAgICAgICAgICAgICAgICAgICAgICAgICAKICAgICAgICAgICAgICAgICAgICAgICAgICAgICAgICAgICAgICAgICAgICAgICAgICAgICAgICAgICAgICAgICAgICAgICAgICAgICAgICAgICAgICAgICAgICAgICAgICAgIAogICAgICAgICAgICAgICAgICAgICAgICAgICAgICAgICAgICAgICAgICAgICAgICAgICAgICAgICAgICAgICAgICAgICAgICAgICAgICAgICAgICAgICAgICAgICAgICAgICAgCiAgICAgICAgICAgICAgICAgICAgICAgICAgICAgICAgICAgICAgICAgICAgICAgICAgICAgICAgICAgICAgICAgICAgICAgICAgICAgICAgICAgICAgICAgICAgICAgICAgICAKICAgICAgICAgICAgICAgICAgICAgICAgICAgICAgICAgICAgICAgICAgICAgICAgICAgICAgICAgICAgICAgICAgICAgICAgICAgICAgICAgICAgICAgICAgICAgICAgICAgIAogICAgICAgICAgICAgICAgICAgICAgICAgICAgICAgICAgICAgICAgICAgICAgICAgICAgICAgICAgICAgICAgICAgICAgICAgICAgICAgICAgICAgICAgICAgICAgICAgICAgCiAgICAgICAgICAgICAgICAgICAgICAgICAgICAgICAgICAgICAgICAgICAgICAgICAgICAgICAgICAgICAgICAgICAgICAgICAgICAgICAgICAgICAgICAgICAgICAgICAgICAKICAgICAgICAgICAgICAgICAgICAgICAgICAgICAgICAgICAgICAgICAgICAgICAgICAgICAgICAgICAgICAgICAgICAgICAgICAgICAgICAgICAgICAgICAgICAgICAgICAgIAogICAgICAgICAgICAgICAgICAgICAgICAgICAgICAgICAgICAgICAgICAgICAgICAgICAgICAgICAgICAgICAgICAgICAgICAgICAgICAgICAgICAgICAgICAgICAgICAgICAgCiAgICAgICAgICAgICAgICAgICAgICAgICAgICA8P3hwYWNrZXQgZW5kPSd3Jz8+/9sAQwAHBQUGBQQHBgUGCAcHCAoRCwoJCQoVDxAMERgVGhkYFRgXGx4nIRsdJR0XGCIuIiUoKSssKxogLzMvKjInKisq/9sAQwEHCAgKCQoUCwsUKhwYHCoqKioqKioqKioqKioqKioqKioqKioqKioqKioqKioqKioqKioqKioqKioqKioqKioq/8AAEQgAwgGbAwEiAAIRAQMRAf/EAB8AAAEFAQEBAQEBAAAAAAAAAAABAgMEBQYHCAkKC//EALUQAAIBAwMCBAMFBQQEAAABfQECAwAEEQUSITFBBhNRYQcicRQygZGhCCNCscEVUtHwJDNicoIJChYXGBkaJSYnKCkqNDU2Nzg5OkNERUZHSElKU1RVVldYWVpjZGVmZ2hpanN0dXZ3eHl6g4SFhoeIiYqSk5SVlpeYmZqio6Slpqeoqaqys7S1tre4ubrCw8TFxsfIycrS09TV1tfY2drh4uPk5ebn6Onq8fLz9PX29/j5+v/EAB8BAAMBAQEBAQEBAQEAAAAAAAABAgMEBQYHCAkKC//EALURAAIBAgQEAwQHBQQEAAECdwABAgMRBAUhMQYSQVEHYXETIjKBCBRCkaGxwQkjM1LwFWJy0QoWJDThJfEXGBkaJicoKSo1Njc4OTpDREVGR0hJSlNUVVZXWFlaY2RlZmdoaWpzdHV2d3h5eoKDhIWGh4iJipKTlJWWl5iZmqKjpKWmp6ipqrKztLW2t7i5usLDxMXGx8jJytLT1NXW19jZ2uLj5OXm5+jp6vLz9PX29/j5+v/aAAwDAQACEQMRAD8A+kaKKKACiiigAooooAKKyovFXh6fWjo8OvaZJqYZkNkl5GZgwGSPLzuyACSMdq05ZY4IXlmdY441LO7nAUDkknsKOlw62HUU2ORJoklhdZI3UMjqchgehB7inUAFFVZtRtbfUrawll23N0rvDHtJ3BMbucYGNw6+tWqACiiigAooooAKKKKACiiigAooooAKKKKACiiigAooooAKKKKACiiigAooooAKKKKACiiigAooooAKKKKACiiigAooooAKKKKACiiigAooooAKKKKACiiigAooooA848Fa7HF4l1jS5fEuhoX1a92aQVAvS28nO7zuR1OPL6d+9c9Y2d3ceE9F87Vdavpdd8O3b3ay6jM/mSKkbIVAb5CM7flwWBO7cSTXtFFQ43hy+SX4NFKVpc3nf8bnl2i29nqM3gqw0vW9Ql0uTTLqaYWmrzMJpENuNrSBy2FZm+UMMcr0JU19M8Tz3vxUt49PuWBlnvre4tZdZeaT92rbBJabfLtxmMFGU7mXk5JavWaK0k+Z/f8AiQlaKXp+B4fp+vWcMmk6umr6nqeqwaJfT6tClyZpLe52RllCPlIHDBgIwFAC/dIFdZ8L9Wkv9S1+BL2K6soTbyQeRrMuqRqXVg+24lUMeUGVGQCDjnNeiUUX1YMKKKKQwooooAKKKKACiiigAooooAKKKKACiiigAooooAKKKKACiiigAooooAKKKKACiiigAooooAKKKKACiiigAooooAKKKKACiiigAooooAKKKzfER1IeG9QGgxCXUmgZbUM4UCQjCsSewJyfYUndLQa1dino/jHS9ZXVXjaS1i0qVknlu9saFBn96pyf3Z2thjj7p4qafxh4atrH7bc+IdKhtPONv58l7GsfmjrHuLY3DuOtcBceBPFOl6fdWdvPZ6vBd+G5dHK21ubVldEYwO5kmfeSXkUkYwWBIxkibxnbajFrGj6ZoFqrvFoVzBPaw2kMzRQOYVJVZJoUX7mAQzf7hHNN6f16/wCXyv5Au/8AXT9Xb5HokWt6VPAZ4NTs5IltxdGRLhSohOcSZB+4drfN04PpUEnifQIb+Oxl1zTY7uU4jt2u4xI52hsBc5Pysp+hB71w1/a6hqNhLqHhXSp9Usdd8MxWNrI88cRgIEhVpd7A4KzDlQxyp45BpbjwTf3Gla9DNpUMsl/qGluA5jPmwwrbCTOT0XZLwevOAc81b3mv63t+Wou39dF/m/uO3XxR4ffRW1hNc01tLRtrXwu4zApzjBkztzkgde9LdeKNAsbGC9vdc023tLiPzYbiW7jSOVMgblYnBGWXkf3h61w/iDwpr0ut3upadHdokeuRX0SWL23nSx/YlgLRicGMMHzw+OASDnGbmg+E57fXNBvZbK+aK3j1KSdtVa2aaGaeSM9IDsG7Eh+ToCc4JxU7/wBeV/8AgD2OhXxv4efxVD4fTVLVr+e2W4hUXEeJFb7qqN2SxHzAAfd5q7b+I9Eu7q8trXWdPnuLAE3cUd0jNb4ODvAOVxg5ziuO8MeHtZ0afRkuNPlVDoh0+WWGWIizcOWBYbwSMEAbN3I5wOapW3hrUrnRdG0vU/C9xHBoenTWlw0FzAGvw8XlFbciQEBiN5Mnl4KrxnOF0+/83/kvW4fat6fkv+D6WPQ9M1nTNasjeaPqNpqFqGKme1nWVAR1G5SRkVkWXjnRtQ1a7gstQsLjT7SyF3LqMN4jxJ87KysRwMBckk96zY9J8Rax8Ndc0nVGnW7u4Z7eyOoND5/ltHhRMYP3ed24ZT+HbnnNc/rXhvxD4knvb+DQJtFIs7FI4jPbNNM1vceayDBeMcfc35UnG4KKf2kun/Af5dhfZ8/+Cvz11PQz4k0Y+HZ9dg1K2utLgjeV7q1kEyFUzuwVzkjBGBzniq2ieKI9YvprC40y+0q+ihS4+zXwj3PExIDgxu64yCCCQQeoGRnnIPC19f8AgrxLbsNXi1LViW/4nb2m55FjVUP+i/IFO1QT97j6VqaHb6pqfi+XX9V0iXR0j09bKK3uJYpJXYvvdsxOyheFAycn5uB3f2v67P8AXQT2/ruv0N2LW9Kn1ibSYNTs5NSgTfLZJcIZo145ZAdwHzDkjuPWo9S8SaHo06w6vrOn2Er7dqXV0kTNuyFwGI67Wx67T6VxOmaL4ol+IOn3up2lzHZ2V5eucfY0tFSQOEaIJ++LNkFzIfvMTj00vEXhm71LXPEl1HYRzi88OCwtpGKZaTdOWj5OQDujPOAePTiW7RuUldtf1uv+HO2oqtp0ckOl2sU4xKkKK4JzhgozzVmqkrOxMXdXCiiikMKKKKACiiigAooooAKKKKACiiigAooooAKKKKACiiigAooooAKKKKACiiigAooooAKKKKACiiigAooooAKKKKACiiigArN1fw7omv8Alf29o+n6n5GfK+22qTeXnGdu4HGcDp6CtKigBFUIoVQFUDAAHAFLXg+u/wDCb/8ACTat9n/4Sr7P9um8j7L53l+XvO3bjjGOmOMYqj/xXX/U5f8Akeu1YW6vzI5XiLO3Kz6Gor55/wCK6/6nL/yPR/xXX/U5f+R6f1T+8hfWf7rPoaivnn/iuv8Aqcv/ACPR/wAV1/1OX/kej6p/eQfWf7rPoaivnn/iuv8Aqcv/ACPR/wAV1/1OX/kej6p/eQfWf7rPoaivnn/iuv8Aqcv/ACPR/wAV1/1OX/kej6p/eQfWf7rPoaivnn/iuv8Aqcv/ACPR/wAV1/1OX/kej6p/eQfWf7rPfpb+1gv7eymmVLi5V2hjY4MgTG7H03Dj/CvNviV4u1/RvFltp2i6gLOFrITt+4SQsxdl/iB7KK841NvEKXlk2rHxCLwOfsJvfM3b8j7m7nOdvT2rc8cNqzeItKPiFYl1H+x084RdM+bJ17Zx1xxnOK1pYaMakbtO5nUruUHbQP8AhPfGn/Qwf+SUP/xNH/Ce+NP+hg/8kof/AImsKivS+r0v5UcPtqn8zN3/AIT3xp/0MH/klD/8TR/wnvjT/oYP/JKH/wCJrCoo+r0v5UHtqn8zN3/hPfGn/Qwf+SUP/wATR/wnvjT/AKGD/wAkof8A4msKukPgDxKOunKOM83MX/xVRKlh4fEkio1K0vhbZB/wnvjT/oYP/JKH/wCJo/4T3xp/0MH/AJJQ/wDxNYZBViD1BwaSr+r0f5UT7ar/ADM3f+E98af9DB/5JQ//ABNH/Ce+NP8AoYP/ACSh/wDiawqKPq9L+VB7ap/Mzd/4T3xp/wBDB/5JQ/8AxNH/AAnvjT/oYP8AySh/+JrIs7Sa/vIbW1TfNM4RFyBknpyaS6tpbO7ltrhdssLlHUEHBBwRkcUvYUb25UP21W17s2P+E98af9DB/wCSUP8A8TR/wnvjT/oYP/JKH/4mqmpaSNMs7J5rgG6uY/Ne2C8wofuknPUjnGOBWbSVGi1dRQOrVW7Zu/8ACe+NP+hg/wDJKH/4mj/hPfGn/Qwf+SUP/wATWFRVfV6X8qF7ap/Mzd/4T3xp/wBDB/5JQ/8AxNH/AAnvjT/oYP8AySh/+JrCoo+r0v5UHtqn8zN3/hPfGn/Qwf8AklD/APE0yX4geNI4Xf8At/O1ScfYoef/AB2sWorn/j0m/wBxv5Uvq9L+VD9tU/mZ9G+HrybUfDOl3t0Q01zZxSyEDALMgJ4+prRrH8If8iRof/YOt/8A0WtbFfOy+Jntx2QUUUVIwooooAKKKKACiiigAooooAKKKKACiiigAooooAKK5u6+IXhWyvJrW61iKOeCRo5EMb/KynBH3fUVD/wszwf/ANBuL/v2/wD8TV+zn2ZHPHudVRXK/wDCzPB//Qbi/wC/b/8AxNH/AAszwf8A9BuL/v2//wATT9nPsw54dzqqK5X/AIWZ4P8A+g3F/wB+3/8AiaP+FmeD/wDoNxf9+3/+Jo9nPsw54dzqqK5X/hZng/8A6DcX/ft//iaP+FmeD/8AoNxf9+3/APiaPZz7MOeHc6qiuV/4WZ4P/wCg3F/37f8A+Jo/4WZ4P/6DcX/ft/8A4mj2c+zDnh3Oqorlf+FmeD/+g3F/37f/AOJo/wCFmeD/APoNxf8Aft//AImj2c+zDnh3Ogn0y0udRtb64gWS4tFdYHbny9+NxHv8o5+vrXkHxa/5KFbf9gtP/Rr11s/xZ0CLxHaWkV0k9hcR4e6VWHkSZ43ZA+Ujv2rkfiwyv8QLRkIZW0pCCDkEea9deEjKNZcxzYiUZUnY5CiiivcPJCiiigAHWu98babpNx4nuZrvXo7Scxx5ga1kcj5Bj5gMc1wVbHirVoNc8RT39okiRSKgAlADcKAehPpWM4uU4tO2/wChrCSUXcll061XwDBqQixdtqDQtJuPKBM4xnHX2p2p6baW/hnQLuGLbPeed577id+1wBxnA49KdpesaWfDsmja7Fd+SLj7TDNabSytt2kENgYxRruuadf6ZpNnpltPbx2BkBErBtwZgQc9ycEngAZ4qVz86Wu/4W/zH7vJfy/G/wDkbd7ZeF7Lxh/YX9kTSCaVImnN0y+SXAxsXuBkfezWTp2gWcN/rUup+ZPZ6OSGjRthmbftUE9gcc4qDUddtrvx2utRpMLYXMUuxgN+F254zjPB71NaeJLOPWdYN3bzS6bqzOJFQhZEBYsrDtkenSs1GooLe9tfXT/gmjlByd7Wv+Ay2fRNY1zS7e20drISXSJMguWkWRCQO/IP0NTWOiaedV125vkkOnaS7nyI2wZCXKom49Bx161XjvtA07VtOudKj1Fxb3CyzPc7NxUEHCqvH5mnWPiK1g1jVjd28k2m6oziWNSFkUFiysO24enSralb3b7fqSnG/vW3X6lhbTR9f0PUZ9M01tMu9PjE+1Z2lSVM4Od3II9qcYNB0vwzpF/e6ZJe3V2sm6P7Q0aHa5G4kc5xgADA65qvLrOj6do15ZeHor1pb4BJp7zYCqA52qFz17k1R1PVYLzQNIsYlkEtisokLAbTufIxz/hSUZN21tf57P8AUG4pa2vb9V/wSXxTptnp9/bSaarpbXtrHdJE7bjHuz8ue/SsStbXtVg1RdNFusi/ZLGO2feAMsuckYJ45rJrendRszKbTldBRRRVkBUVz/x6Tf7jfyqWorn/AI9Jv9xv5UPYFufQ3hD/AJEjQ/8AsHW//ota2Kx/CH/IkaH/ANg63/8ARa1sV8tL4mfQR2QUUUVJQUUUUAFFFFABRXKeBfHVp4x07nbBqMK/v7fP/j6+q/y6HsT1dVKLi7MUZKSugoooqRhRRRQAUUUUAFFFFAHkeq/CbXLzXdRvba/09Yru7luFWQOWUMxIB496q/8ACn/EP/QR0v8A75f/AAr2aiutYuslZM53hqbd2jxn/hT/AIh/6COl/wDfL/4Uf8Kf8Q/9BHS/++X/AMK9mop/XK3cX1Wl2PGf+FP+If8AoI6X/wB8v/hR/wAKf8Q/9BHS/wDvl/8ACvZqKPrlbuH1Wl2PGf8AhT/iH/oI6X/3y/8AhR/wp/xD/wBBHS/++X/wr2aij65W7h9Vpdjxn/hT/iH/AKCOl/8AfL/4Uf8ACn/EP/QR0v8A75f/AAr2aij65W7h9Vpdjxn/AIU/4h/6COl/98v/AIUf8Kf8Q/8AQR0v/vl/8K9moo+uVu4fVaXY8Dvvhz4hh1+10ZGtLh7qMyPNErbIUBwWYkf/AK6Xx1o0Xh/xJpmlwTSzpb6Qi+ZK2S376T8h6DsK97wM5xz0zXi3xa/5KFbf9gtP/Rr10YevOrVSkY1qMadNtHH0UUV655gUUUUAFFFFABRSO6xoXdgqqMlicACq9pqNpfNItncJMY8bthzjNK6TsOztcs0VTm1Wxt7z7LPdRxzYB2scdenPSrlCknsDTW4UUUisrqGQhlPQg5zTELRRRQAUUUUAFFFFABUVz/x6Tf7jfyqWorn/AI9Jv9xv5UPYFufQ3hD/AJEjQ/8AsHW//ota2K+abPVdZjsYEh1/Voo1jUJHHeuqoMcADPAHpU39sa7/ANDJrP8A4HP/AI147wE273PTWMglax9IUV83/wBsa7/0Mms/+Bz/AONH9sa7/wBDJrP/AIHP/jS/s+fcf1yHY+kKK+b/AO2Nd/6GTWf/AAOf/Gj+2Nd/6GTWf/A5/wDGj+z59w+uQ7H0hRXzf/bGu/8AQyaz/wCBz/40f2xrv/Qyaz/4HP8A40f2fPuH1yHYzdHnubFbW/02dre8gJaOVfqeD6g+le8+CfG1t4ssSkgW31OAf6RbZ/8AH19VP6fkT4XBCsEKxoSQvTNSwT3NjfQ3+mztb3kB3Ryr/I+oPpXdiMMqsfM5KNd05eR9MUVy3gnxtbeLLEpIFt9TgH+kW2f/AB9fVT+n5E9TXgyi4PlkevGSkroKKKKkoKKKKACiiigDzHUvjBNY6zf2MXh3zxZ3Mlv5n24Lv2MRnGzjOM1X/wCF0XX/AEK3/lQH/wARXWXnw08JX99PeXek+ZPcSNLK/wBplG5mOScBsDk9qh/4VT4L/wCgN/5NTf8Axddqnhbaxf8AXzOVxr30kjmf+F0XX/Qrf+VAf/EUf8Louv8AoVv/ACoD/wCIrpv+FU+C/wDoDf8Ak1N/8XR/wqnwX/0Bv/Jqb/4unz4X+V/18xcuI/mRzP8Awui6/wChW/8AKgP/AIij/hdF1/0K3/lQH/xFdN/wqnwX/wBAb/yam/8Ai6P+FU+C/wDoDf8Ak1N/8XRz4X+V/wBfMOXEfzI5n/hdF1/0K3/lQH/xFH/C6Lr/AKFb/wAqA/8AiK6b/hVPgv8A6A3/AJNTf/F0f8Kp8F/9Ab/yam/+Lo58L/K/6+YcuI/mRzP/AAui6/6Fb/yoD/4ij/hdF1/0K3/lQH/xFdN/wqnwX/0Bv/Jqb/4uj/hVPgv/AKA3/k1N/wDF0c+F/lf9fMOXEfzI5n/hdF1/0K3/AJUB/wDEUf8AC6Lr/oVv/KgP/iK6b/hVPgv/AKA3/k1N/wDF0f8ACqfBf/QG/wDJqb/4ujnwv8r/AK+YcuI/mRw9/wDFzV5dVsLy10n7Lb2wcXNuboSC4Vtv+yMEbTg89fTOc/x/rNpr/irTtS05maCfSVK7hgg+dICCPUHiu11H4P6Dcaxpz2Fv9jsYvMa7RZnZpz8uxQWJwPvZI/8ArjlfilBFa+OrKC2jWKGPSUVEQYCgSvgAVvQlRdWPs1YxqqoqcudnJ0UUV6x5wUUUUAFUtW1OPSdPe6kUvjhVHcnp9Ku1yviDxNYSafd2UIMsxJjwy/KDnk59u1Y1qipwbvZmtKDnJK1yreeNIbrRpYfsrCeZDGw3fKARjOf6VzFleXdnMXsZXjdhg7O4rT8N6AdYuWeYlbWI/OR1Y+gr0G1srayiEdrAkSj+6Ov49682nSrYm05Ox3TqUqF4RVzyqS5ne9+03DM824MS/ciuqbx6fIj2WQ83P7zLfLj2/wA/nXU3mnWmoRGO7gSQHuRyPoeorzvxBojaLfBVJeCTmNz/ACPuKVSnWwqcoS0Y4TpYhpSWqOp1TUPt02lww3M9pHeAmQ42/KRwM+vGPxpI4V0TxDZ2dtcXMlvIjZg3bhGegJHpVe11yx8QWcGk30cqSygBmQALuXnj0zj0704ajo3hzWLmGOG4RiihmzuGeuBnnvXRzxb9pdW017eVjHlaXJbvp+p1dFcBpeq67BbXMkNtcXSTDKyOrNsPqPWtDw94kittOlGsXjtMsmFV1LNjH+Oa1hi4SaT0v3MpYacU7anX0U2ORJYlkjYMjgMrDuDTq7DmCiiigAqK5/49Jv8Acb+VS1Fc/wDHpN/uN/Kh7Atwtv8Aj0h/3F/lUtRW3/HpD/uL/KpaFsD3NSPQZ5bOzmSe3Ml8223t9zeY53lD2wOR1JHH41d0/wAMx3Gp28U2o28lpKzxme3L43qudnKZzyDnGCM4NUYtbkgbSZIIgsmm5KljkOfML8jt1xV6XxQX1O1ux/aEywOzGK8vzMMEYwvyDbwTzz2rCXtdl5/8A1j7Pr5GeujSyCBoLiCWO4uvssbruALYU55UHHzDtnrxVj/hG5wLQPeWiyXk3lQxFmLMRIYyeFwACM5Pbpk5FOsNctLJEjbT5Jo4Lr7VbBrnBVsAYchfmHyr029KY+v7r/Tbn7Nj7DKZNvmffzKZMZxx1x3p/vL2Qe5ZvqQajo0mn26T/ara5jaVoWMDMdjqASpyBnr1GQfWs6r0+pedphs/K25umuN+71AG3GPbrVGtIc1veIny390KKKKokWCe5sb6G/02dre8gO6OVf5H1B9K9x8D+M4PF+mOWj8i/tcLdQjoCejKfQ4PuP1PjWhaFf8AinVhp2lDaq4NzckfLAv9T6D/AOuR7z4f8P2HhrSY9P0yLbGvLufvSN3Zj3NeTj5U3p9o9LBxnv0NOiiivKPQCiiigAooooAKKKKACqNxrelWmqW+mXWp2cF/cjMFpJcKsso55VCct0PQdqvVx2tfDDQdd+IemeMryS8XUtNVBEkcoET7SSpYFSeCx6EULdX2Do+52NUdM1vStbjlfRtTs9QSF/Lla0uFlCN/dJUnB9jVySNZYnjkGUdSrD1Brkvh/wDDTRPhta31voEt5It9KJJDdyK5XAICjCjgZPXJ96F1uD8jo9U1jTNEtBda1qNpp9uWCCa7nWJNx6DcxAzx0q2jrJGrxsHRgCrKcgj1Fct4/wDh7o/xH0SDTNeku4ooJxPHJaSKjhgCP4lYYwx7V0VhZQ6bpttY2wIhtYUhjDHJ2qABk/QULZ3B7qxYooooAKKKKACvFvi1/wAlCtv+wWn/AKNevaa8W+LX/JQrb/sFp/6NeuzBfxkcuK/hM4+iiivfPHCiiigArznxVpEGlX0f2ZnKzKWKuc7efWvRq821vR9UhuLi7u0kkhVyBMzA5GeK4Mcr09r/AKHZg3ae9v1Ov8JRLF4btyvVyzMfU5I/pW1XJ+CdVR7VtOlYCRCWjz/ED1H4H+ddZXRhpKVKNjGvFxqO4Vz3jWJX0Dew+aOVSp+vFdDXF+N9VSTy9OhYMUbfLjsew/X+VTipKNGVx4eLdVWKvhGxgmN1eSRNNNagPEgbGTgnp+ApYJn8ReLLZdStlhEYOY9pBIGTg5pPDegagb20v8GK3J3Fg+CV+noan1eDW11yXVVtwqWh+RgRgoP1PBOa86MZKlG8Xa+um/W53SadR2etvuO2ACgADAHAA7VxvjO0tre/s70xBvMbEyA43gY/pxV6Hxxp7W+6eKaOQDlFAIz7HNYd/qF5q+pWt++nySWSOFjjKkhueefU11YmtSqU+WLuznoUqkJ3lodnpF/BqWnJPaxtFGPkCEAbcduKvUyKNIolWKNY1xwqgDH5U+u+N1FJnHKzegUUUUxBUVz/AMek3+438qlqK5/49Jv9xv5UPYFudVpXww8Taho1leW1zpKw3FvHLGJJJQwVlBGcJjODVv8A4VL4s/5+9G/7+S//ABFeo+EP+RI0P/sHW/8A6LWtivCljKydrnrrC02r2PFv+FS+LP8An70b/v5L/wDEUf8ACpfFn/P3o3/fyX/4ivaaKn67W7j+q0ux4t/wqXxZ/wA/ejf9/Jf/AIij/hUviz/n70b/AL+S/wDxFe00UfXa3cPqtLseLf8ACpfFn/P3o3/fyX/4ij/hUviz/n70b/v5L/8AEV7TRR9drdw+q0ux8wWkzT2qSOAC2c4+taehaFf+KdWGnaUNqrg3NyR8sC/1PoP/AK5FXwloOoeKLiLTdLGwLzcXLD5YFJP5k9h/9cj6D8P+H7Dw1pMen6ZFtjXl3P3pG7sx7mvQxGKVOPLHc46GH53zPYPD/h+w8NaTHp+mRbY15dz96Ru7Me5rToorxG23dnqpJKyCiiikMKKKKACiiigAorKm8U+H7eeSG413TYpY2KPG95GrKwOCCCeCDTP+Ev8ADf8A0MOlf+Bsf/xVVyy7C5l3Niisf/hL/Df/AEMOlf8AgbH/APFUf8Jf4b/6GHSv/A2P/wCKo5Zdhcy7mxRWP/wl/hv/AKGHSv8AwNj/APiqP+Ev8N/9DDpX/gbH/wDFUcsuwcy7mxRWP/wl/hv/AKGHSv8AwNj/APiqP+Ev8N/9DDpX/gbH/wDFUcsuwcy7mxRWP/wl/hv/AKGHSv8AwNj/APiqP+Ev8N/9DDpX/gbH/wDFUcsuwcy7mxRWP/wl/hv/AKGHSv8AwNj/APiqP+Ev8N/9DDpX/gbH/wDFUcsuwcy7mxXi3xa/5KFbf9gtP/Rr16De/EPw9Z6xp9n/AGlazx3m9TcQXCyLCw27Q+DwG3Hn2+pHn3xZ/wCShWv/AGC0/wDRr12YOLjWV0c2JknSdjj6KKK908gKKKKACs3xB550K5W1h852TaV68dzjucVpUUpR5otDi7NM8nSxv4bdb6OCZIlPEoBGD6//AF62bTxvqEEYS4jjuMdGPyt+ld3PH51vJEDjehXOOmRXL6X4KW3vHfUmjuItuEVSRk+pry3hatKSVJ77nofWKdSL9otjKvfGmo3MZSBUtgepTlvzNZTaTqJt1umtZjHI3Dbckn+f411WoeCVn1ASWMiW1uVG5SCSD7f/AK66l/lhb59uF+8e3vQsLVqt+2e2wPEU6aXsluc3P4lOm6YtrMmNTjjQeXsJXJ+nt+tVp/E0k5Fvq1lLa2U0RSRtp3FsdQT2/OneFo1vNavrq6nF3NCQkcpHUcjcB+FdRd20N5aSQXKho3XBz2962gqtWHMpadv8zKTp05crX9eRh2Wg6Xe+G1itlcJN86zSKPMBz/kVs6dYppunxWkTM6xggFup5z/Wuf8ABMzPb3ETXZkEbbUhP8K+o+uf0rqa2w6hKCmlZ2sZVnJScG9AooorpMAooooAKiuf+PSb/cb+VS1Fc/8AHpN/uN/Kh7Atz6G8If8AIkaH/wBg63/9FrWxWP4Q/wCRI0P/ALB1v/6LWtivlpfEz6COyCiiipKCiiigAooooAy/D3h6w8M6RHp+mRbI15dz96Ru7Me5rUoopttu7EkkrIKKKKQwooooAKKKKACiiigDxzV/hL4gvvEGpXtvNo5iu7uWdPOaTcFZiQDhPQ1U/wCFOeJf+emg/wDfUn/xFe3UV1rF1UrI53hqbdzxH/hTniX/AJ6aD/31J/8AEUf8Kc8S/wDPTQf++pP/AIivbqKf1yqL6tTPEf8AhTniX/npoP8A31J/8RR/wpzxL/z00H/vqT/4ivbqKPrlUPq1M8R/4U54l/56aD/31J/8RR/wpzxL/wA9NB/76k/+Ir26ij65VD6tTPEf+FOeJf8AnpoP/fUn/wARR/wpzxL/AM9NB/76k/8AiK9uoo+uVQ+rUzxH/hTniX/npoP/AH1J/wDEUf8ACnPEv/PTQf8AvqT/AOIr26ij65VD6tTPn3Uvht4hsNUsNN8jTribUPM2tbbiIlTbuZyVGB849f5VN440ltC8RaVpsl3LeNb6OimaU8n97JwPQDoB2GK98wM5xz0zXi3xa/5KFbf9gtP/AEa9dGHrzq1YqRjWoxp020cfRRRXrnmBRRRQAUUUUAFFFFABQRkYPIoooA5LUdLv9I1KfVNISGKBEAMKA/OO/wAtNm1HXtWMdgtqtkLlNxlIP3cevb+ddfRXK8Pq+WTSfQ6FW01V2jN0LTP7L0yOKSOIT4/ePGPvcnqe9aVFFdEYqEVFGEpOTuwoooqhBRRRQAVFc/8AHpN/uN/Kpaiuf+PSb/cb+VD2Bbn0N4Q/5EjQ/wDsHW//AKLWtisfwh/yJGh/9g63/wDRa1sV8tL4mfQR2QUUUVJQUUUUAFFFFABRRRQAUUUUAFFFFABRRRQAUUUUAFFFFABRRRQAUUUUAFFFFABRRRQAUUUUAFcP4z+HT+LNdh1OHWDYPHbC3KfZhLuAZmzncMfe/Su4oq4TlB80dyZRU1aR5T/wpe6/6Gn/AMp4/wDi6P8AhS91/wBDT/5Tx/8AF16tRW/1uv8AzGX1el2PKf8AhS91/wBDT/5Tx/8AF0f8KXuv+hp/8p4/+Lr1aij63X/mD6vS7HlP/Cl7r/oaf/KeP/i6P+FL3X/Q0/8AlPH/AMXXq1FH1uv/ADB9Xpdjyn/hS91/0NP/AJTx/wDF0f8ACl7r/oaf/KeP/i69Woo+t1/5g+r0ux5T/wAKXuv+hp/8p4/+Lo/4Uvdf9DT/AOU8f/F16tRR9br/AMwfV6XY8p/4Uvdf9DT/AOU8f/F0f8KXuv8Aoaf/ACnj/wCLr1aij63X/mD6vS7HlP8Awpe6/wChp/8AKeP/AIuj/hS91/0NP/lPH/xderUUfW6/8wfV6XY8p/4Uvdf9DT/5Tx/8XR/wpe6/6Gn/AMp4/wDi69Woo+t1/wCYPq9LseU/8KXuv+hp/wDKeP8A4uj/AIUvdf8AQ0/+U8f/ABderUUfW6/8wfV6XY8p/wCFL3X/AENP/lPH/wAXSN8FLl0Kt4oyGGCP7PH/AMcr1eij63X/AJg+r0uxU0iw/srRbHTxJ5otLeODzNuN21Qucds4q3RRXK9dTfYKKKKACiiigAooooAKKKKACiiigAooooAKKKKACiiigAooooAKKKKACiiigAooooAKKKKACiiigAooooAKKKKACiiigAooooAKKKKACiiigAooooAKKKKACiiigAooooAKKKKACiiigAooooAKKKKACiiigAooooAKKKKACiiigAooooAKKKKACiiigAooooAKKKKACiiigAooooAKKKKACiiigAooooAKKKKACiiigAooooAKKKKACiiigAooooAKKKKACiiigAooooAKKKKACiiigAooooAKKKKACiiigAooooAKKKKAP//Z)"
      ]
    },
    {
      "cell_type": "code",
      "metadata": {
        "id": "PN0X1sOzUGJA"
      },
      "source": [
        "def sumar(op1,op2):\n",
        "    res = op1 + op2\n",
        "    return res"
      ],
      "execution_count": null,
      "outputs": []
    },
    {
      "cell_type": "code",
      "metadata": {
        "colab": {
          "base_uri": "https://localhost:8080/"
        },
        "id": "owoRbzFhYIas",
        "outputId": "6f4c91b7-5f7a-4647-96ea-b00a2f93773c"
      },
      "source": [
        "res = sumar(2,5)\n",
        "print(res)\n",
        "res = sumar(33,22)\n",
        "print(res)"
      ],
      "execution_count": null,
      "outputs": [
        {
          "output_type": "stream",
          "name": "stdout",
          "text": [
            "7\n",
            "55\n"
          ]
        }
      ]
    },
    {
      "cell_type": "markdown",
      "metadata": {
        "id": "DGDUM58OWXH1"
      },
      "source": [
        "\n",
        "\n"
      ]
    },
    {
      "cell_type": "code",
      "metadata": {
        "colab": {
          "base_uri": "https://localhost:8080/"
        },
        "id": "YjlO-apqZaAP",
        "outputId": "8b47874f-63ec-4215-f537-8815ab8a5885"
      },
      "source": [
        "print(\"Hola\",\"Diana\", sep=\"-\")"
      ],
      "execution_count": null,
      "outputs": [
        {
          "output_type": "stream",
          "name": "stdout",
          "text": [
            "Hola-Diana\n"
          ]
        }
      ]
    },
    {
      "cell_type": "code",
      "metadata": {
        "colab": {
          "base_uri": "https://localhost:8080/"
        },
        "id": "iwBn1bXwahRw",
        "outputId": "2b4e6a77-3bcf-4896-ae1f-ceabad98086c"
      },
      "source": [
        "def imprime_cuadro():\n",
        "    print(\"* * * *\")\n",
        "    print(\"* * * *\")\n",
        "    print(\"* * * *\")\n",
        "    print(\"* * * *\")\n",
        "    #Return none\n",
        "\n",
        "imprime_cuadro()"
      ],
      "execution_count": null,
      "outputs": [
        {
          "output_type": "stream",
          "name": "stdout",
          "text": [
            "* * * *\n",
            "* * * *\n",
            "* * * *\n",
            "* * * *\n"
          ]
        }
      ]
    },
    {
      "cell_type": "markdown",
      "metadata": {
        "id": "otxCgHMXbAhs"
      },
      "source": [
        "#Valor de retorno de una función\n",
        "\n",
        "regla de oro.- Una funcion siempre returna UN SOLO VALOR . Inclusive si ese valor es el vacío."
      ]
    },
    {
      "cell_type": "code",
      "metadata": {
        "colab": {
          "base_uri": "https://localhost:8080/"
        },
        "id": "HZ7jxty6bRvY",
        "outputId": "74e50136-f7a1-4d15-ed6b-3557fde3f452"
      },
      "source": [
        "#inovar sumar \n",
        "res =sumar(7,8)\n",
        "print(res)\n",
        "#invocar la funcion pintar cuadro\n",
        "res = imprime_cuadro()\n",
        "print(res)"
      ],
      "execution_count": null,
      "outputs": [
        {
          "output_type": "stream",
          "name": "stdout",
          "text": [
            "15\n",
            "* * * *\n",
            "* * * *\n",
            "* * * *\n",
            "* * * *\n",
            "None\n"
          ]
        }
      ]
    },
    {
      "cell_type": "markdown",
      "metadata": {
        "id": "5CqfiaiEdFBJ"
      },
      "source": [
        "# La palabra reservada None de python \n",
        "esta palabra reservada significa vacío, equivalente a la palabra reservada void del lenguaje C, C++ y Java.\n",
        "\n",
        "Se usa pra indicar ya sea un return vacío o que se recibe como parametro vacío."
      ]
    },
    {
      "cell_type": "code",
      "metadata": {
        "id": "P83ILvm1dEiA"
      },
      "source": [
        "def multiplicar( valor, veces ):\n",
        "    c = valor * veces\n",
        "    return c"
      ],
      "execution_count": null,
      "outputs": []
    },
    {
      "cell_type": "code",
      "metadata": {
        "colab": {
          "base_uri": "https://localhost:8080/",
          "height": 300
        },
        "id": "Je_lbD7ceIRo",
        "outputId": "ec30298a-c332-4deb-a85b-b772be820f01"
      },
      "source": [
        "res= multiplicar(None,5)\n",
        "print(res)"
      ],
      "execution_count": null,
      "outputs": [
        {
          "output_type": "error",
          "ename": "TypeError",
          "evalue": "ignored",
          "traceback": [
            "\u001b[0;31m---------------------------------------------------------------------------\u001b[0m",
            "\u001b[0;31mTypeError\u001b[0m                                 Traceback (most recent call last)",
            "\u001b[0;32m<ipython-input-17-d7228be9e7c0>\u001b[0m in \u001b[0;36m<module>\u001b[0;34m()\u001b[0m\n\u001b[0;32m----> 1\u001b[0;31m \u001b[0mres\u001b[0m\u001b[0;34m=\u001b[0m \u001b[0mmultiplicar\u001b[0m\u001b[0;34m(\u001b[0m\u001b[0;32mNone\u001b[0m\u001b[0;34m,\u001b[0m\u001b[0;36m5\u001b[0m\u001b[0;34m)\u001b[0m\u001b[0;34m\u001b[0m\u001b[0;34m\u001b[0m\u001b[0m\n\u001b[0m\u001b[1;32m      2\u001b[0m \u001b[0mprint\u001b[0m\u001b[0;34m(\u001b[0m\u001b[0mres\u001b[0m\u001b[0;34m)\u001b[0m\u001b[0;34m\u001b[0m\u001b[0;34m\u001b[0m\u001b[0m\n",
            "\u001b[0;32m<ipython-input-15-7e6e8cebea56>\u001b[0m in \u001b[0;36mmultiplicar\u001b[0;34m(valor, veces)\u001b[0m\n\u001b[1;32m      1\u001b[0m \u001b[0;32mdef\u001b[0m \u001b[0mmultiplicar\u001b[0m\u001b[0;34m(\u001b[0m \u001b[0mvalor\u001b[0m\u001b[0;34m,\u001b[0m \u001b[0mveces\u001b[0m \u001b[0;34m)\u001b[0m\u001b[0;34m:\u001b[0m\u001b[0;34m\u001b[0m\u001b[0;34m\u001b[0m\u001b[0m\n\u001b[0;32m----> 2\u001b[0;31m     \u001b[0mc\u001b[0m \u001b[0;34m=\u001b[0m \u001b[0mvalor\u001b[0m \u001b[0;34m*\u001b[0m \u001b[0mveces\u001b[0m\u001b[0;34m\u001b[0m\u001b[0;34m\u001b[0m\u001b[0m\n\u001b[0m\u001b[1;32m      3\u001b[0m     \u001b[0;32mreturn\u001b[0m \u001b[0mc\u001b[0m\u001b[0;34m\u001b[0m\u001b[0;34m\u001b[0m\u001b[0m\n",
            "\u001b[0;31mTypeError\u001b[0m: unsupported operand type(s) for *: 'NoneType' and 'int'"
          ]
        }
      ]
    },
    {
      "cell_type": "code",
      "metadata": {
        "id": "da7l0v1BetDu"
      },
      "source": [
        "def multiplicar(valor,veces):\n",
        "    if valor == None:\n",
        "        c=-1\n",
        "    else:\n",
        "        c=valor*veces\n",
        "    return c"
      ],
      "execution_count": null,
      "outputs": []
    },
    {
      "cell_type": "code",
      "metadata": {
        "colab": {
          "base_uri": "https://localhost:8080/"
        },
        "id": "axcLDY8Te_Yo",
        "outputId": "8c499205-1f38-455b-dec7-dd1c22a69203"
      },
      "source": [
        "res= multiplicar(None,5)\n",
        "print(res)"
      ],
      "execution_count": null,
      "outputs": [
        {
          "output_type": "stream",
          "name": "stdout",
          "text": [
            "-1\n"
          ]
        }
      ]
    },
    {
      "cell_type": "markdown",
      "metadata": {
        "id": "FNFyqV9pfgg8"
      },
      "source": [
        "# Parámetros y argumentos.\n",
        "Son conceptos relacionados y su diferencia esta centrada en el momento que se emplea en una función.\n",
        "\n",
        "Es decir en la función sumar de arriba, cuando se declara  se le llama parametro y cuando se invoca se le llama argumento.\n",
        "\n",
        "#Argumentos posicionales \n",
        "En python es posible determinar a que parametros estan dirigidos los argumentos, segun su posición."
      ]
    },
    {
      "cell_type": "code",
      "metadata": {
        "id": "HaVGnbzsgrFw"
      },
      "source": [
        "def dividir(op1,op2):\n",
        "    c= op1/ op2\n",
        "    return c "
      ],
      "execution_count": null,
      "outputs": []
    },
    {
      "cell_type": "code",
      "metadata": {
        "colab": {
          "base_uri": "https://localhost:8080/"
        },
        "id": "4xz91gT1hAO1",
        "outputId": "329d4226-cca8-47ed-b411-ae84b7b15543"
      },
      "source": [
        "num1=25\n",
        "num2=2\n",
        "res = dividir(num1,num2)\n",
        "print(res)"
      ],
      "execution_count": null,
      "outputs": [
        {
          "output_type": "stream",
          "name": "stdout",
          "text": [
            "12.5\n"
          ]
        }
      ]
    },
    {
      "cell_type": "markdown",
      "metadata": {
        "id": "iBFukwxkhb6s"
      },
      "source": [
        "#Argumentos con palabra clave(keywors)\n",
        "Es la posibilidad de indicarle a la función en tiempo de ejecución a que parámetro va dirigido un argumento de entrada \n",
        "\n",
        "SÓLO DISPONIBLE EN PYTHON"
      ]
    },
    {
      "cell_type": "code",
      "metadata": {
        "colab": {
          "base_uri": "https://localhost:8080/"
        },
        "id": "z_XIu9OEhugk",
        "outputId": "86e53a92-3c8e-4745-fba3-11547e7c290d"
      },
      "source": [
        "res = dividir(num2,num1)\n",
        "print(res)"
      ],
      "execution_count": null,
      "outputs": [
        {
          "output_type": "stream",
          "name": "stdout",
          "text": [
            "0.08\n"
          ]
        }
      ]
    },
    {
      "cell_type": "code",
      "metadata": {
        "id": "R3yDI7JqiUBi"
      },
      "source": [
        "def letra_D(caracter):\n",
        "    print(f\"   {caracter}  {caracter}\")\n",
        "    print(f\"   {caracter}    {caracter}\")\n",
        "    print(f\"   {caracter}    {caracter}\")\n",
        "    print(f\"   {caracter}    {caracter}\")\n",
        "    print(f\"   {caracter}  {caracter}\")\n"
      ],
      "execution_count": null,
      "outputs": []
    },
    {
      "cell_type": "markdown",
      "metadata": {
        "id": "wFYfftkAya9j"
      },
      "source": [
        "# TAREA NOMBRE"
      ]
    },
    {
      "cell_type": "code",
      "metadata": {
        "id": "kwomeHa9yh_2"
      },
      "source": [
        "def sumar(op1,op2,op3,op4,op5):\n",
        "    res = op1 + op2 + op3 + op4 + op5\n",
        "    return res"
      ],
      "execution_count": null,
      "outputs": []
    },
    {
      "cell_type": "code",
      "metadata": {
        "colab": {
          "base_uri": "https://localhost:8080/"
        },
        "id": "6jwh0VgWi3Ih",
        "outputId": "5db98047-86ad-407c-bd6d-8060fa2be4f5"
      },
      "source": [
        "letra_D(\"D\")"
      ],
      "execution_count": null,
      "outputs": [
        {
          "output_type": "stream",
          "name": "stdout",
          "text": [
            "   D  D\n",
            "   D    D\n",
            "   D    D\n",
            "   D    D\n",
            "   D  D\n"
          ]
        }
      ]
    },
    {
      "cell_type": "code",
      "metadata": {
        "id": "A3ly1fdGviOv"
      },
      "source": [
        "def letra_I(caracter):\n",
        "     print(f\"         {caracter}{caracter}{caracter}\")\n",
        "     print(f\"          {caracter}\")\n",
        "     print(f\"          {caracter}\")\n",
        "     print(f\"          {caracter}\")\n",
        "     print(f\"         {caracter}{caracter}{caracter}\")\n",
        "    "
      ],
      "execution_count": null,
      "outputs": []
    },
    {
      "cell_type": "code",
      "metadata": {
        "colab": {
          "base_uri": "https://localhost:8080/"
        },
        "id": "vxWMAHjFwI4R",
        "outputId": "b2289138-9e50-4c4e-86fc-dd1de86695ea"
      },
      "source": [
        "letra_I(\"I\")"
      ],
      "execution_count": null,
      "outputs": [
        {
          "output_type": "stream",
          "name": "stdout",
          "text": [
            "         III\n",
            "          I\n",
            "          I\n",
            "          I\n",
            "         III\n"
          ]
        }
      ]
    },
    {
      "cell_type": "code",
      "metadata": {
        "id": "LzmyjYN5wZar"
      },
      "source": [
        "def letra_A(caracter):\n",
        "     print(f\"          {caracter}\")\n",
        "     print(f\"         {caracter} {caracter}\")\n",
        "     print(f\"        {caracter}   {caracter}\")\n",
        "     print(f\"       {caracter}{caracter}{caracter}{caracter}{caracter}{caracter}{caracter}\")\n",
        "     print(f\"      {caracter}       {caracter}\")"
      ],
      "execution_count": null,
      "outputs": []
    },
    {
      "cell_type": "code",
      "metadata": {
        "colab": {
          "base_uri": "https://localhost:8080/"
        },
        "id": "_3EgZeqZwyax",
        "outputId": "f5657737-1e06-4752-b239-2295355d4530"
      },
      "source": [
        "letra_A(\"A\")"
      ],
      "execution_count": null,
      "outputs": [
        {
          "output_type": "stream",
          "name": "stdout",
          "text": [
            "          A\n",
            "         A A\n",
            "        A   A\n",
            "       AAAAAAA\n",
            "      A       A\n"
          ]
        }
      ]
    },
    {
      "cell_type": "code",
      "metadata": {
        "id": "-1xLlqcxxGS-"
      },
      "source": [
        "def letra_N(caracter):\n",
        "    print(f\"   {caracter}{caracter}     {caracter}\")\n",
        "    print(f\"   {caracter} {caracter}    {caracter}\")\n",
        "    print(f\"   {caracter}  {caracter}   {caracter}\")\n",
        "    print(f\"   {caracter}   {caracter}  {caracter}\")\n",
        "    print(f\"   {caracter}     {caracter}{caracter}\")"
      ],
      "execution_count": null,
      "outputs": []
    },
    {
      "cell_type": "markdown",
      "metadata": {
        "id": "O4PgacjAxdFj"
      },
      "source": [
        ""
      ]
    },
    {
      "cell_type": "code",
      "metadata": {
        "colab": {
          "base_uri": "https://localhost:8080/"
        },
        "id": "z1-FaglBxpdH",
        "outputId": "a4e7635d-1f61-453c-c172-b2af00289f18"
      },
      "source": [
        "letra_N(\"N\")"
      ],
      "execution_count": null,
      "outputs": [
        {
          "output_type": "stream",
          "name": "stdout",
          "text": [
            "   NN     N\n",
            "   N N    N\n",
            "   N  N   N\n",
            "   N   N  N\n",
            "   N     NN\n"
          ]
        }
      ]
    },
    {
      "cell_type": "code",
      "metadata": {
        "colab": {
          "base_uri": "https://localhost:8080/"
        },
        "id": "Gf1M1CbIyFrw",
        "outputId": "d3e55929-b054-4fd9-8996-640a2a7eb361"
      },
      "source": [
        "letra_A(\"A\")"
      ],
      "execution_count": null,
      "outputs": [
        {
          "output_type": "stream",
          "name": "stdout",
          "text": [
            "          A\n",
            "         A A\n",
            "        A   A\n",
            "       AAAAAAA\n",
            "      A       A\n"
          ]
        }
      ]
    },
    {
      "cell_type": "code",
      "metadata": {
        "colab": {
          "base_uri": "https://localhost:8080/"
        },
        "id": "NZF4kX6RyPKK",
        "outputId": "14807b2d-ec87-4654-8de9-72f565a30d6b"
      },
      "source": [
        "letra_D(\"D\"),letra_I(\"I\"),letra_A(\"A\"),letra_N(\"N\"),letra_A(\"A\")"
      ],
      "execution_count": null,
      "outputs": [
        {
          "output_type": "stream",
          "name": "stdout",
          "text": [
            "   D  D\n",
            "   D    D\n",
            "   D    D\n",
            "   D    D\n",
            "   D  D\n",
            "         III\n",
            "          I\n",
            "          I\n",
            "          I\n",
            "         III\n",
            "          A\n",
            "         A A\n",
            "        A   A\n",
            "       AAAAAAA\n",
            "      A       A\n",
            "   NN     N\n",
            "   N N    N\n",
            "   N  N   N\n",
            "   N   N  N\n",
            "   N     NN\n",
            "          A\n",
            "         A A\n",
            "        A   A\n",
            "       AAAAAAA\n",
            "      A       A\n"
          ]
        },
        {
          "output_type": "execute_result",
          "data": {
            "text/plain": [
              "(None, None, None, None, None)"
            ]
          },
          "metadata": {},
          "execution_count": 85
        }
      ]
    },
    {
      "cell_type": "markdown",
      "source": [
        "#Argumento por defecto\n",
        "Es la capacidad de las funciones de establecer un valor de defecto(default)\n",
        "\n",
        "Sino se envia un argumento a dicho parametro,entonces se asigna el que el programa asigno como default"
      ],
      "metadata": {
        "id": "_CwZzqTy96BO"
      }
    },
    {
      "cell_type": "code",
      "source": [
        "def dividir( op1,op2=2):\n",
        "    c=op1 / op2\n",
        "    return c\n",
        "print(dividir(25) )"
      ],
      "metadata": {
        "colab": {
          "base_uri": "https://localhost:8080/"
        },
        "id": "EDhw9qFK-oQr",
        "outputId": "5d1d6522-a19c-4453-a731-c6cdcaf58f58"
      },
      "execution_count": 2,
      "outputs": [
        {
          "output_type": "stream",
          "name": "stdout",
          "text": [
            "12.5\n"
          ]
        }
      ]
    },
    {
      "cell_type": "code",
      "source": [
        "nombre = \"Diana\"\n",
        "edad = 18\n",
        "print(nombre,edad, sep='+-+-+-++-+-+-+-')\n",
        "print(\"hola\",end=\"  \")\n",
        "print(\"------\")"
      ],
      "metadata": {
        "colab": {
          "base_uri": "https://localhost:8080/"
        },
        "id": "Y7kZEZBT_VOT",
        "outputId": "d888e2f6-5f19-40be-d6c9-9a6f7f3fd7bc"
      },
      "execution_count": 5,
      "outputs": [
        {
          "output_type": "stream",
          "name": "stdout",
          "text": [
            "Diana+-+-+-++-+-+-+-18\n",
            "hola  ------\n"
          ]
        }
      ]
    },
    {
      "cell_type": "markdown",
      "source": [
        "#Ejercicio de argumentos posicionales"
      ],
      "metadata": {
        "id": "16Kqr1jTAjEg"
      }
    },
    {
      "cell_type": "code",
      "source": [
        "def comanda(comensal=1,primer=\"Consome\",segundo=\"Arroz rojo\", tercero=\"Enchiladas\"):\n",
        "    print(f\"El comensal {comensal} quiere: \")\n",
        "    print(\"\\t Entrada: \",primer)\n",
        "    print(\"\\t Medio: \",segundo)\n",
        "    print(\"\\t Plato fuerte: \",tercero)\n",
        "\n",
        "comanda()\n",
        "comanda(3,\"Ensalada\",\"arroz blanco\",\"Esparragos al horno\")\n",
        "comanda(segundo=\"arroz blanco\",tercero=\"Esparragos al horno\",primer=\"Ensalada\",comensal=3)\n"
      ],
      "metadata": {
        "colab": {
          "base_uri": "https://localhost:8080/"
        },
        "id": "a11T8FauBAbq",
        "outputId": "9283e036-8a02-47ae-f98e-e104071c5c6d"
      },
      "execution_count": 16,
      "outputs": [
        {
          "output_type": "stream",
          "name": "stdout",
          "text": [
            "El comensal 1 quiere: \n",
            "\t Entrada:  Consome\n",
            "\t Medio:  Arroz rojo\n",
            "\t Plato fuerte:  Enchiladas\n",
            "El comensal 3 quiere: \n",
            "\t Entrada:  Ensalada\n",
            "\t Medio:  arroz blanco\n",
            "\t Plato fuerte:  Esparragos al horno\n",
            "El comensal 3 quiere: \n",
            "\t Entrada:  Ensalada\n",
            "\t Medio:  arroz blanco\n",
            "\t Plato fuerte:  Esparragos al horno\n"
          ]
        }
      ]
    },
    {
      "cell_type": "markdown",
      "source": [
        "#Argumentos enviados en grupo en una tupla.\n",
        "Esto sirve para enviar multiples argumentos a una función empleando el comodín *\n",
        "\n",
        "```\n",
        "def mifun(args* ):\n",
        "<cuerpo de la función>\n",
        "```"
      ],
      "metadata": {
        "id": "vzUiT6DfDlyr"
      }
    },
    {
      "cell_type": "code",
      "source": [
        "def comanda2( *opciones):\n",
        "    #print(opciones) #* indicaque van a recibir un grupo de argumentos\n",
        "    print(f\"El comensal {opciones[0]} pidio:\")\n",
        "    print(\"\\tEntrada: \",opciones[1])\n",
        "    print(\"\\tSegundo: \",opciones[2])\n",
        "    print(\"\\tPlato fuerte \",opciones[3])\n",
        "    print(\"indicaciones extra:\")\n",
        "    for instrucciones in opciones[4::]:\n",
        "        print(\"\\n\",instruccion)\n",
        "comanda2(1,\"Sopa de fideo\",\"Arroz\",\"Arrachera\",\"La arrachera que aun se mueva \", \"Postre: gelatina\")\n"
      ],
      "metadata": {
        "id": "WmvvgRi2EK1I"
      },
      "execution_count": null,
      "outputs": []
    },
    {
      "cell_type": "markdown",
      "source": [
        "#Argumentos enviados en grupo en un diccionario\n",
        "Es el mismo concepto que el anterior pero se usa el comodin ** y se mapea a un diccionario."
      ],
      "metadata": {
        "id": "uK-Rfp6CG1E4"
      }
    },
    {
      "cell_type": "code",
      "source": [
        "def comanda3( **opciones ):\n",
        "    ops = opciones.keys()\n",
        "    for key in ops:\n",
        "        print(f\"{key} = {opciones[key]} \")\n",
        "    #print(opciones)\n",
        "    #print(f\"El comensal {opciones['comensal']} pidió: \")\n",
        "\n",
        "comanda3(segundo=\"arroz blanco\",tercero=\"Esparragos al horno\",primer=\"Ensalada\",comensal=3)\n"
      ],
      "metadata": {
        "colab": {
          "base_uri": "https://localhost:8080/"
        },
        "id": "p3f_c4FWHDGd",
        "outputId": "e924e44d-609c-4069-e222-4150b6cbd089"
      },
      "execution_count": 30,
      "outputs": [
        {
          "output_type": "stream",
          "name": "stdout",
          "text": [
            "segundo = arroz blanco \n",
            "tercero = Esparragos al horno \n",
            "primer = Ensalada \n",
            "comensal = 3 \n"
          ]
        }
      ]
    },
    {
      "cell_type": "code",
      "source": [
        "#ad y bibliotecas.\n",
        "Todos los lenguajes de programacion tienen la capacidad de compartir codigo entre la comunidad de programadores.\n",
        "\n",
        "Para ello cada lenguaje establece un mecanismo para escribir y compartir bibliotecas."
      ],
      "metadata": {
        "id": "bxt19JrtJtpk"
      },
      "execution_count": null,
      "outputs": []
    },
    {
      "cell_type": "code",
      "source": [
        "!pip install simple_chalk"
      ],
      "metadata": {
        "colab": {
          "base_uri": "https://localhost:8080/"
        },
        "id": "aypcJU-IMhlV",
        "outputId": "7ca4324b-a25d-4682-ed3e-b9e7ab4e6349"
      },
      "execution_count": 31,
      "outputs": [
        {
          "output_type": "stream",
          "name": "stdout",
          "text": [
            "Collecting simple_chalk\n",
            "  Downloading simple_chalk-0.1.0.tar.gz (13 kB)\n",
            "Building wheels for collected packages: simple-chalk\n",
            "  Building wheel for simple-chalk (setup.py) ... \u001b[?25l\u001b[?25hdone\n",
            "  Created wheel for simple-chalk: filename=simple_chalk-0.1.0-py3-none-any.whl size=22163 sha256=de400c94606de1b0c45531e59ce5bac45015950fc2d7372075a9ea61ff9e376d\n",
            "  Stored in directory: /root/.cache/pip/wheels/24/e2/84/d54838032016039eef79df1137b91defaa6db068d825dfcdcd\n",
            "Successfully built simple-chalk\n",
            "Installing collected packages: simple-chalk\n",
            "Successfully installed simple-chalk-0.1.0\n"
          ]
        }
      ]
    },
    {
      "cell_type": "code",
      "source": [
        "#print(\"Hola en color amarillo\")\n",
        "from simple_chalk import chalk, yellow\n",
        "print(chalk.yellow(\"Hola en color amarillo\"))"
      ],
      "metadata": {
        "colab": {
          "base_uri": "https://localhost:8080/"
        },
        "id": "PkVOsTPMMokm",
        "outputId": "591a36b6-2544-4578-ee57-0f1a53566297"
      },
      "execution_count": 34,
      "outputs": [
        {
          "output_type": "stream",
          "name": "stdout",
          "text": [
            "\u001b[33mHola en color amaeillo\u001b[0m\n"
          ]
        }
      ]
    },
    {
      "cell_type": "markdown",
      "source": [
        "#¿Como escribo un modulo(biblioteca)?\n",
        "\n",
        "Se define en un archivo de biblioteca."
      ],
      "metadata": {
        "id": "iNSO3dIPO-Y5"
      }
    },
    {
      "cell_type": "code",
      "source": [
        "!cat mi_modulo.py"
      ],
      "metadata": {
        "colab": {
          "base_uri": "https://localhost:8080/"
        },
        "id": "XX-MLhQ9PNPZ",
        "outputId": "ef37ec5b-580d-4480-c95f-297c58dc50b0"
      },
      "execution_count": 35,
      "outputs": [
        {
          "output_type": "stream",
          "name": "stdout",
          "text": [
            "def sumar( a, b):\n",
            "    returna + b\n",
            "\n",
            "def mi_print( texto , final):\n",
            "    print(\"Super: \", text,end=final)"
          ]
        }
      ]
    },
    {
      "cell_type": "code",
      "source": [
        "import mi_modulo\n",
        "\n",
        "res = mi_modulo.sumar(7, 5)\n",
        "print(res)"
      ],
      "metadata": {
        "colab": {
          "base_uri": "https://localhost:8080/"
        },
        "id": "YWhcZKNfQouh",
        "outputId": "e6479f3c-f84d-44a8-bea8-9ef92c63fdc9"
      },
      "execution_count": 2,
      "outputs": [
        {
          "output_type": "stream",
          "name": "stdout",
          "text": [
            "12\n"
          ]
        }
      ]
    },
    {
      "cell_type": "code",
      "source": [
        "mi_modulo.mi_print(\"Diana\", \"\\n\")"
      ],
      "metadata": {
        "colab": {
          "base_uri": "https://localhost:8080/"
        },
        "id": "wXCyVlVKRHif",
        "outputId": "c9f0223e-65df-46ea-b0e9-4e9b353c6db8"
      },
      "execution_count": 3,
      "outputs": [
        {
          "output_type": "stream",
          "name": "stdout",
          "text": [
            "Super:  Diana\n"
          ]
        }
      ]
    },
    {
      "cell_type": "code",
      "source": [
        "from mi_modulo import sumar , mi_print\n",
        "res = sumar(5, 3)\n",
        "print(res)\n",
        "mi_print(\"Diana\", \"\\n\")\n"
      ],
      "metadata": {
        "colab": {
          "base_uri": "https://localhost:8080/"
        },
        "id": "TESzRy5GR6Lx",
        "outputId": "61cdb7ec-4c16-4a10-f0d1-4bf4d4616ad1"
      },
      "execution_count": 6,
      "outputs": [
        {
          "output_type": "stream",
          "name": "stdout",
          "text": [
            "8\n",
            "Super:  Diana\n"
          ]
        }
      ]
    },
    {
      "cell_type": "markdown",
      "source": [
        "# Manejo de archivos con Python 3 \n",
        "- leer archivos\n",
        "- escribir en archivos\n",
        "- manipular la informacion leida desde un archivo\n",
        "- formatos de archivo"
      ],
      "metadata": {
        "id": "x_Ln6Q1bSppF"
      }
    },
    {
      "cell_type": "code",
      "source": [
        "archivo = open(\"salida.txt\", \"wt\")\n",
        "archivo.write(\"hola mundo\")\n",
        "archivo.close()"
      ],
      "metadata": {
        "id": "URfXSc6TSpOu"
      },
      "execution_count": 14,
      "outputs": []
    },
    {
      "cell_type": "code",
      "source": [
        "!cat salida.txt"
      ],
      "metadata": {
        "colab": {
          "base_uri": "https://localhost:8080/"
        },
        "id": "XbV8OEFgTMYi",
        "outputId": "10765227-0a3d-4506-d5e8-848d83b5ca32"
      },
      "execution_count": 12,
      "outputs": [
        {
          "output_type": "stream",
          "name": "stdout",
          "text": [
            "hola mundo"
          ]
        }
      ]
    }
  ]
}