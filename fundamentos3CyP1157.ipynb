{
  "nbformat": 4,
  "nbformat_minor": 0,
  "metadata": {
    "colab": {
      "name": "fundamentos3CyP1157.ipynb",
      "provenance": [],
      "authorship_tag": "ABX9TyNdwN0KA/jNGLPvO7jY/T9p",
      "include_colab_link": true
    },
    "kernelspec": {
      "name": "python3",
      "display_name": "Python 3"
    },
    "language_info": {
      "name": "python"
    }
  },
  "cells": [
    {
      "cell_type": "markdown",
      "metadata": {
        "id": "view-in-github",
        "colab_type": "text"
      },
      "source": [
        "<a href=\"https://colab.research.google.com/github/diaanis/fundamentosCyP1157.ipynb/blob/main/fundamentos3CyP1157.ipynb\" target=\"_parent\"><img src=\"https://colab.research.google.com/assets/colab-badge.svg\" alt=\"Open In Colab\"/></a>"
      ]
    },
    {
      "cell_type": "markdown",
      "metadata": {
        "id": "33hWp0Z-FoIf"
      },
      "source": [
        "Repetición:\n",
        "\n",
        "Este tipo de estructura nos permite automatizar la ejecución repetitiva de código mientras ciertas condiciones se cumplan, tenemos 3 variantes de esta estructura en todos los lenguajes de programacion:\n",
        "\n",
        "- Desde.. hasta (estructura for)\n",
        "- Haz mientras (estructura While)\n",
        "- Haz y luego validez mientras(estructura Do-While)\n",
        "\n",
        "# FOR con Python\n",
        "\n",
        "'''\n",
        "for j in range(10):\n",
        "  print(f\"Hola{j}\")\n",
        "\n",
        "  # FOR con Leng C y/o JAVA\n",
        "        printf(\"Hola i \\n\", j);\n",
        "    }\n",
        "    '''\n",
        "\n",
        "    En todos los lenguajes de programacion existe un tipo esencial de for, conocido de **for-each**\n",
        "\n",
        "    #for aech en Python\n",
        "'''\n",
        "for color in colores:\n",
        " print(f\"Este es el color { color }\")\n",
        "'''"
      ]
    },
    {
      "cell_type": "code",
      "metadata": {
        "colab": {
          "base_uri": "https://localhost:8080/"
        },
        "id": "gMtdi6jhFRlG",
        "outputId": "eeb8933c-45cd-4710-e7d4-78bfab882a71"
      },
      "source": [
        "#funcion range()\n",
        "#range(<INICIO>,<STOP>,<INCREMENTO>)\n",
        "X =range(0,10,2)\n",
        "print(X)\n",
        "      \n"
      ],
      "execution_count": 7,
      "outputs": [
        {
          "output_type": "stream",
          "name": "stdout",
          "text": [
            "range(0, 10, 2)\n"
          ]
        }
      ]
    },
    {
      "cell_type": "code",
      "metadata": {
        "colab": {
          "base_uri": "https://localhost:8080/"
        },
        "id": "YGwF6CzvJW6-",
        "outputId": "e398303d-53a3-440f-fbda-845ce17df31c"
      },
      "source": [
        " for j in range(10): \n",
        "    print(f\"Hola {j}\")\n",
        "\n",
        "print(\"-.-.-.-.-.\")\n",
        "for j in range(0,10,2):\n",
        "    print(f\"Hola {j}\")\n",
        "frutas = [\"Uva\",\"aguacate\",\"pera\",\"manzana\",\"sandia\"]\n",
        "print(frutas[0])\n",
        "print(frutas[1])\n",
        "print(frutas[2])\n",
        "print(frutas[3])\n",
        "print(frutas[4])\n",
        "\n",
        "print(\"---Frutas--\")\n",
        "for index in range (5):\n",
        "    print(frutas[index])\n",
        "\n"
      ],
      "execution_count": 14,
      "outputs": [
        {
          "output_type": "stream",
          "name": "stdout",
          "text": [
            "Hola 0\n",
            "Hola 1\n",
            "Hola 2\n",
            "Hola 3\n",
            "Hola 4\n",
            "Hola 5\n",
            "Hola 6\n",
            "Hola 7\n",
            "Hola 8\n",
            "Hola 9\n",
            "-.-.-.-.-.\n",
            "Hola 0\n",
            "Hola 2\n",
            "Hola 4\n",
            "Hola 6\n",
            "Hola 8\n",
            "Uva\n",
            "aguacate\n",
            "pera\n",
            "manzana\n",
            "sandia\n",
            "---Frutas--\n",
            "Uva\n",
            "aguacate\n",
            "pera\n",
            "manzana\n",
            "sandia\n"
          ]
        }
      ]
    },
    {
      "cell_type": "markdown",
      "metadata": {
        "id": "1eiT6N1wLmHC"
      },
      "source": [
        "+\n",
        "++\n",
        "+++\n",
        "++++\n",
        "+++++\n",
        "++++++"
      ]
    }
  ]
}