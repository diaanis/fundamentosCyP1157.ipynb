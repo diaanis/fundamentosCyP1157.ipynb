{
  "nbformat": 4,
  "nbformat_minor": 0,
  "metadata": {
    "colab": {
      "name": "fundamentos3CyP1157.ipynb",
      "provenance": [],
      "authorship_tag": "ABX9TyNn/T65o+c1EckYFfu1VZkN",
      "include_colab_link": true
    },
    "kernelspec": {
      "name": "python3",
      "display_name": "Python 3"
    },
    "language_info": {
      "name": "python"
    }
  },
  "cells": [
    {
      "cell_type": "markdown",
      "metadata": {
        "id": "view-in-github",
        "colab_type": "text"
      },
      "source": [
        "<a href=\"https://colab.research.google.com/github/diaanis/fundamentosCyP1157.ipynb/blob/main/fundamentos3CyP1157.ipynb\" target=\"_parent\"><img src=\"https://colab.research.google.com/assets/colab-badge.svg\" alt=\"Open In Colab\"/></a>"
      ]
    },
    {
      "cell_type": "markdown",
      "metadata": {
        "id": "33hWp0Z-FoIf"
      },
      "source": [
        "Repetición:\n",
        "\n",
        "Este tipo de estructura nos permite automatizar la ejecución repetitiva de código mientras ciertas condiciones se cumplan, tenemos 3 variantes de esta estructura en todos los lenguajes de programacion:\n",
        "\n",
        "- Desde.. hasta (estructura for)\n",
        "- Haz mientras (estructura While)\n",
        "- Haz y luego validez mientras(estructura Do-While)\n",
        "\n",
        "# FOR con Python\n",
        "\n",
        "'''\n",
        "for j in range(10):\n",
        "  print(f\"Hola{j}\")\n",
        "\n",
        "  # FOR con Leng C y/o JAVA\n",
        "        printf(\"Hola i \\n\", j);\n",
        "    }\n",
        "    '''\n",
        "\n",
        "    En todos los lenguajes de programacion existe un tipo esencial de for, conocido de **for-each**\n",
        "\n",
        "    #for aech en Python\n",
        "'''\n",
        "for color in colores:\n",
        " print(f\"Este es el color { color }\")\n",
        "'''"
      ]
    },
    {
      "cell_type": "code",
      "metadata": {
        "colab": {
          "base_uri": "https://localhost:8080/"
        },
        "id": "gMtdi6jhFRlG",
        "outputId": "eeb8933c-45cd-4710-e7d4-78bfab882a71"
      },
      "source": [
        "#funcion range()\n",
        "#range(<INICIO>,<STOP>,<INCREMENTO>)\n",
        "X =range(0,10,2)\n",
        "print(X)\n",
        "      \n"
      ],
      "execution_count": null,
      "outputs": [
        {
          "output_type": "stream",
          "name": "stdout",
          "text": [
            "range(0, 10, 2)\n"
          ]
        }
      ]
    },
    {
      "cell_type": "code",
      "metadata": {
        "colab": {
          "base_uri": "https://localhost:8080/"
        },
        "id": "YGwF6CzvJW6-",
        "outputId": "e398303d-53a3-440f-fbda-845ce17df31c"
      },
      "source": [
        " for j in range(10): \n",
        "    print(f\"Hola {j}\")\n",
        "\n",
        "print(\"-.-.-.-.-.\")\n",
        "for j in range(0,10,2):\n",
        "    print(f\"Hola {j}\")\n",
        "frutas = [\"Uva\",\"aguacate\",\"pera\",\"manzana\",\"sandia\"]\n",
        "print(frutas[0])\n",
        "print(frutas[1])\n",
        "print(frutas[2])\n",
        "print(frutas[3])\n",
        "print(frutas[4])\n",
        "\n",
        "print(\"---Frutas--\")\n",
        "for index in range (5):\n",
        "    print(frutas[index])\n",
        "\n"
      ],
      "execution_count": null,
      "outputs": [
        {
          "output_type": "stream",
          "name": "stdout",
          "text": [
            "Hola 0\n",
            "Hola 1\n",
            "Hola 2\n",
            "Hola 3\n",
            "Hola 4\n",
            "Hola 5\n",
            "Hola 6\n",
            "Hola 7\n",
            "Hola 8\n",
            "Hola 9\n",
            "-.-.-.-.-.\n",
            "Hola 0\n",
            "Hola 2\n",
            "Hola 4\n",
            "Hola 6\n",
            "Hola 8\n",
            "Uva\n",
            "aguacate\n",
            "pera\n",
            "manzana\n",
            "sandia\n",
            "---Frutas--\n",
            "Uva\n",
            "aguacate\n",
            "pera\n",
            "manzana\n",
            "sandia\n"
          ]
        }
      ]
    },
    {
      "cell_type": "markdown",
      "metadata": {
        "id": "1eiT6N1wLmHC"
      },
      "source": [
        "+\n",
        "++\n",
        "+++\n",
        "++++\n",
        "+++++\n",
        "++++++"
      ]
    },
    {
      "cell_type": "code",
      "metadata": {
        "colab": {
          "base_uri": "https://localhost:8080/"
        },
        "id": "Sqntls_lMh13",
        "outputId": "767b3883-f01c-43a0-e528-4183e1f1fcfc"
      },
      "source": [
        "#Clase Jueves 25 Nov\n",
        "for x in range(1,20,1):\n",
        "    print(x)\n",
        "print(\"Fin del programa\")\n",
        "\n",
        "for x in range(19,0,-1):\n",
        "    print(x)\n",
        "print(\"Fin del programa\")"
      ],
      "execution_count": 5,
      "outputs": [
        {
          "output_type": "stream",
          "name": "stdout",
          "text": [
            "1\n",
            "2\n",
            "3\n",
            "4\n",
            "5\n",
            "6\n",
            "7\n",
            "8\n",
            "9\n",
            "10\n",
            "11\n",
            "12\n",
            "13\n",
            "14\n",
            "15\n",
            "16\n",
            "17\n",
            "18\n",
            "19\n",
            "Fin del programa\n",
            "19\n",
            "18\n",
            "17\n",
            "16\n",
            "15\n",
            "14\n",
            "13\n",
            "12\n",
            "11\n",
            "10\n",
            "9\n",
            "8\n",
            "7\n",
            "6\n",
            "5\n",
            "4\n",
            "3\n",
            "2\n",
            "1\n",
            "Fin del programa\n"
          ]
        }
      ]
    },
    {
      "cell_type": "code",
      "metadata": {
        "colab": {
          "base_uri": "https://localhost:8080/"
        },
        "id": "3ppTMu-IN0MS",
        "outputId": "c42046c2-fe74-4015-b093-b3b15ededd91"
      },
      "source": [
        "#ejemplo 3.3\n",
        "CUECER=0\n",
        "NUM=0\n",
        "N=int(input(\"Un valor numérico : \"))\n",
        "for I in range(1,N+1,1):\n",
        "    N=int(input(\"Un valor numérico : \"))\n",
        "    if N ==0:\n",
        "        CUECER+1\n",
        "\n",
        "print(\"CUECER=\",CUECER)"
      ],
      "execution_count": 11,
      "outputs": [
        {
          "output_type": "stream",
          "name": "stdout",
          "text": [
            "Un valor numérico : 4\n",
            "Un valor numérico : 0\n",
            "Un valor numérico : 0\n",
            "Un valor numérico : 2\n",
            "Un valor numérico : 2\n",
            "CUECER= 0\n"
          ]
        }
      ]
    },
    {
      "cell_type": "markdown",
      "metadata": {
        "id": "tfqP92m2QyMj"
      },
      "source": [
        "7x1=7\n",
        "7x2=14\n",
        "IMPRIMIR TABLAS DE MULTIPLICAR"
      ]
    },
    {
      "cell_type": "code",
      "metadata": {
        "colab": {
          "base_uri": "https://localhost:8080/"
        },
        "id": "rHxsGja9Q9y4",
        "outputId": "5d7a4532-ac01-442b-8e0f-d9fb04bc31f2"
      },
      "source": [
        "for f in range(1,11): print(f'7 x {f} = {7 * f}')\n",
        "print(f)\n",
        "\n",
        "n=7\n",
        "for i in range(1,11,1):\n",
        "    x=n*i\n",
        "    print(f\"{n} x {i} = {x}\")"
      ],
      "execution_count": 13,
      "outputs": [
        {
          "output_type": "stream",
          "name": "stdout",
          "text": [
            "7 x 1 = 7\n",
            "7 x 2 = 14\n",
            "7 x 3 = 21\n",
            "7 x 4 = 28\n",
            "7 x 5 = 35\n",
            "7 x 6 = 42\n",
            "7 x 7 = 49\n",
            "7 x 8 = 56\n",
            "7 x 9 = 63\n",
            "7 x 10 = 70\n",
            "10\n",
            "7 x 1 = 7\n",
            "7 x 2 = 14\n",
            "7 x 3 = 21\n",
            "7 x 4 = 28\n",
            "7 x 5 = 35\n",
            "7 x 6 = 42\n",
            "7 x 7 = 49\n",
            "7 x 8 = 56\n",
            "7 x 9 = 63\n",
            "7 x 10 = 70\n"
          ]
        }
      ]
    },
    {
      "cell_type": "code",
      "metadata": {
        "colab": {
          "base_uri": "https://localhost:8080/",
          "height": 130
        },
        "id": "Ga3ys0ixR-Ia",
        "outputId": "2ee310b2-c7ec-4b22-ba98-e71b8501d4ae"
      },
      "source": [
        "\"\"\"def tabla_multiplicar(x):\n",
        "    for i in range(11):\n",
        "        print(x,\" x \", i, \" = \", x*i)\n",
        "A=int(input(\"Dame un número entre 1 y 5: \"))\n",
        "if A>0 and A<=5:\n",
        "else:\n",
        "    print(\"Valor fuera de rango 1-5\")\n",
        "if A==1:\n",
        "    print(tabla_multiplicar(1))\n",
        "elif A==2:\n",
        "    print(tabla_multiplicar(2))\n",
        "elif A==3:\n",
        "    print(tabla_multiplicar(3))\n",
        "elif A==4:\n",
        "    print(tabla_multiplicar(4))\n",
        "elif: A==5\n",
        "    print(tabla_multiplicar(5))\n",
        "\n",
        "B=int(input(\"Dame un número entre 2 y 10: \"))\n",
        "if B>=2 and B<=10:\n",
        "else:\n",
        "    print(\"Valor fuera de rango 2-10\")\n",
        "if B==2:\n",
        "    print(tabla_multiplicar(2))\n",
        "elif B==3:\n",
        "    print(tabla_multiplicar(3))\n",
        "elif B==4:\n",
        "    print(tabla_multiplicar(4))\n",
        "elif B==5:\n",
        "    print(tabla_multiplicar(5))\n",
        "elif B==6:\n",
        "    print(tabla_multiplicar(6))\n",
        "elif B==7:\n",
        "    print(tabla_multiplicar(7))\n",
        "elif B==8:\n",
        "    print(tabla_multiplicar(8))\n",
        "elif B==9:\n",
        "    print(tabla_multiplicar(9))\n",
        "elif B==10:\n",
        "    print(tabla_multiplicar(10))\n",
        "print(\"Fin del programa\")\"\n"
      ],
      "execution_count": 33,
      "outputs": [
        {
          "output_type": "error",
          "ename": "IndentationError",
          "evalue": "ignored",
          "traceback": [
            "\u001b[0;36m  File \u001b[0;32m\"<ipython-input-33-6d9aef257d12>\"\u001b[0;36m, line \u001b[0;32m7\u001b[0m\n\u001b[0;31m    elif A==1:\u001b[0m\n\u001b[0m       ^\u001b[0m\n\u001b[0;31mIndentationError\u001b[0m\u001b[0;31m:\u001b[0m expected an indented block\n"
          ]
        }
      ]
    },
    {
      "cell_type": "code",
      "metadata": {
        "colab": {
          "base_uri": "https://localhost:8080/"
        },
        "id": "mKzHKBNVX47r",
        "outputId": "269a949c-3474-44f9-9785-e3e51ffb9c56"
      },
      "source": [
        "N1= int(input(\"Dame un número entre 1 y 5:\"))\n",
        "if N1 > 0 and N1 <= 5:\n",
        "    N2=int(input(\"Dame un número entre 2 y 10:\"))\n",
        "    if N2 >= N1 and N2 <=10:\n",
        "        for i in range( N1, N2+1):\n",
        "            for j in range(1,11):\n",
        "                print(f\"{i} x {j} = : \", i*j)\n",
        "            print(\"--------\")\n",
        "else:\n",
        "    print(\"Valor fuera de rango\")"
      ],
      "execution_count": 39,
      "outputs": [
        {
          "output_type": "stream",
          "name": "stdout",
          "text": [
            "Dame un número entre 1 y 5:2\n",
            "Dame un número entre 2 y 10:3\n",
            "2 x 1 = :  2\n",
            "2 x 2 = :  4\n",
            "2 x 3 = :  6\n",
            "2 x 4 = :  8\n",
            "2 x 5 = :  10\n",
            "2 x 6 = :  12\n",
            "2 x 7 = :  14\n",
            "2 x 8 = :  16\n",
            "2 x 9 = :  18\n",
            "2 x 10 = :  20\n",
            "--------\n",
            "3 x 1 = :  3\n",
            "3 x 2 = :  6\n",
            "3 x 3 = :  9\n",
            "3 x 4 = :  12\n",
            "3 x 5 = :  15\n",
            "3 x 6 = :  18\n",
            "3 x 7 = :  21\n",
            "3 x 8 = :  24\n",
            "3 x 9 = :  27\n",
            "3 x 10 = :  30\n",
            "--------\n"
          ]
        }
      ]
    },
    {
      "cell_type": "code",
      "metadata": {
        "colab": {
          "base_uri": "https://localhost:8080/"
        },
        "id": "mGkoY5d9WW69",
        "outputId": "2c1a8e7d-6a30-4daf-d17f-a5f84f6d68f2"
      },
      "source": [
        "#Generadores de listas\n",
        "numeros = [0,0,0,0,0]\n",
        "print(numeros)\n",
        "numeros=[ 0 for x in range(5)]\n",
        "print(numeros)\n",
        "#Empleando la variable de control x para el valor inicial \n",
        "numeros=[ (x+1)*10 for x in range(10)]\n",
        "print(numeros)"
      ],
      "execution_count": 36,
      "outputs": [
        {
          "output_type": "stream",
          "name": "stdout",
          "text": [
            "[0, 0, 0, 0, 0]\n",
            "[0, 0, 0, 0, 0]\n",
            "[10, 20, 30, 40, 50, 60, 70, 80, 90, 100]\n"
          ]
        }
      ]
    },
    {
      "cell_type": "code",
      "metadata": {
        "colab": {
          "base_uri": "https://localhost:8080/"
        },
        "id": "wMNFn57FYJuR",
        "outputId": "9fe5e09c-bab8-4e05-b5d6-60489a867dd6"
      },
      "source": [
        "#ejercicio: calcular promedio de edades\n",
        "edades = [(x+18) for x in range(5)]\n",
        "promedio=sum(edades)/len(edades)\n",
        "print(promedio)\n",
        "#ejercicio como lo hicieron mis compañeros\n",
        "SUM = 0\n",
        "edades = [0 for x in range(5)]\n",
        "for x in range(5):\n",
        "    edades[x]= int(input(\"Introduce una edad: \"))\n",
        "    SUM = SUM + edades[x]\n",
        "    PROM = SUM/5\n",
        "print(edades)\n",
        "print(\"El promedio de edades es: \", PROM)"
      ],
      "execution_count": 57,
      "outputs": [
        {
          "output_type": "stream",
          "name": "stdout",
          "text": [
            "20.0\n",
            "Introduce una edad: 5\n",
            "Introduce una edad: 6\n",
            "Introduce una edad: 7\n",
            "Introduce una edad: 8\n",
            "Introduce una edad: 9\n",
            "[5, 6, 7, 8, 9]\n",
            "El promedio de edades es:  7.0\n"
          ]
        }
      ]
    },
    {
      "cell_type": "code",
      "metadata": {
        "colab": {
          "base_uri": "https://localhost:8080/"
        },
        "id": "NfiCotQtcVaZ",
        "outputId": "865139af-6317-42a9-e50a-28fffee19e68"
      },
      "source": [
        "import random\n",
        "print(random.random())\n",
        "print(random.uniform(5,11))\n",
        "val = round(random.uniform(5,11), 2)\n",
        "print(val)\n",
        "\n",
        "valores=[round(random.uniform(5,11),2) for x in range(20)]\n",
        "print(valores)\n",
        "#decir cual es el menor\n",
        "#decir cual es el valor mas grande\n",
        "#promedio de valores "
      ],
      "execution_count": 68,
      "outputs": [
        {
          "output_type": "stream",
          "name": "stdout",
          "text": [
            "0.7951569924102002\n",
            "7.229537224110873\n",
            "7.16\n",
            "[5.63, 7.63, 10.33, 5.48, 8.54, 10.14, 8.37, 9.33, 7.65, 9.7, 5.64, 10.08, 10.74, 5.75, 9.62, 8.69, 5.07, 6.7, 6.42, 8.18]\n"
          ]
        }
      ]
    },
    {
      "cell_type": "markdown",
      "metadata": {
        "id": "As5gcKEyYyRZ"
      },
      "source": [
        ""
      ]
    }
  ]
}