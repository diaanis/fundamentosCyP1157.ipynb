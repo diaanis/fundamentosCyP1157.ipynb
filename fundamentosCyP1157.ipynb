{
  "nbformat": 4,
  "nbformat_minor": 0,
  "metadata": {
    "colab": {
      "name": "fundamentosCyP1157.ipynb",
      "provenance": [],
      "authorship_tag": "ABX9TyMvJgtO1OMLqNh4CyP1EcKd",
      "include_colab_link": true
    },
    "kernelspec": {
      "name": "python3",
      "display_name": "Python 3"
    },
    "language_info": {
      "name": "python"
    }
  },
  "cells": [
    {
      "cell_type": "markdown",
      "metadata": {
        "id": "view-in-github",
        "colab_type": "text"
      },
      "source": [
        "<a href=\"https://colab.research.google.com/github/diaanis/fundamentosCyP1157.ipynb/blob/main/fundamentosCyP1157.ipynb\" target=\"_parent\"><img src=\"https://colab.research.google.com/assets/colab-badge.svg\" alt=\"Open In Colab\"/></a>"
      ]
    },
    {
      "cell_type": "code",
      "metadata": {
        "colab": {
          "base_uri": "https://localhost:8080/"
        },
        "id": "j0aD_2CDVmqh",
        "outputId": "7d11006f-2e63-4da4-feb9-8967d50b5777"
      },
      "source": [
        "nombre = 'Jose'  # Tipo de dato String (cadena de caracteres)\n",
        "\n",
        "print( nombre)\n",
        "\n"
      ],
      "execution_count": null,
      "outputs": [
        {
          "output_type": "stream",
          "name": "stdout",
          "text": [
            "Jose\n"
          ]
        }
      ]
    },
    {
      "cell_type": "markdown",
      "metadata": {
        "id": "zr-_Z4aYXMhB"
      },
      "source": [
        "#Tipo de dato en Python\n",
        "\n",
        "- str --> String cadena de caractéres.\n",
        "- int --> Numero enteros\n",
        "- float --> Numeros con notación de punto flotante \n",
        "- complex --> Numeros complejos \n",
        "- bool -->Boleano (True or False)\n",
        "- byte --> 8 bits \n",
        "\n",
        "### Tipos de datos estructurados (compuestos)\n",
        "- list --> Listas \n",
        "- dict --> diccionarios\n",
        "- set y frozenset --> Conjuntos \n",
        "- tuple --> Listas no mutables"
      ]
    },
    {
      "cell_type": "code",
      "metadata": {
        "colab": {
          "base_uri": "https://localhost:8080/"
        },
        "id": "qe07PijAXL-8",
        "outputId": "4616f391-2aa5-49dc-edfd-239fdcfc7255"
      },
      "source": [
        "import sys\n",
        "edad = 19 \n",
        "print ( \"Tu edad es :\" , edad) # al final de una línea de código \n",
        "# este es un comentario de linea simple\n",
        "\n",
        "\"\"\"\n",
        "comentario de multiple línea\n",
        "En lenguaje C, C ++ y Java el comentario de multiple linea es con \n",
        "/* ..... */\n",
        "\n",
        "El comentario de una sola linea es con :\n",
        "\n",
        "//\n",
        "\n",
        "Aqui puedes explicar en prosa el segmento de un codigo para futura referencia\n",
        "\n",
        "\"\"\"\n",
        "# tipos de dato numerico int y float\n",
        "\n",
        "print (sys.getsizeof(edad))\n",
        "#el tipo de dato INT utiliza diferente cantidad de bits segun el \n",
        "# leg de programa por ejemplo en C utilizaria 16 bits\n",
        "\n",
        "edad = edad + 1\n",
        "\n",
        "print( edad )\n",
        "\n",
        "estatura = 1.56\n",
        "print(sys.getsizeof(estatura))\n",
        "estatura = estatura + 0.1\n",
        "print( estatura )\n",
        "print(round(estatura,2))\n",
        "\n",
        "\n",
        "edad += 1 #edad = edad + 1 \n",
        "print( \"Tu edad es :\", edad)\n",
        "edad /=2 # edad = edad / 1 \n",
        "print(\"La mitad de tu edad es :\", edad)\n",
        "\n",
        "edad = 21\n",
        "#volver a calcular la mitad de la edad \n",
        "#parte entera\n",
        "edad = edad // 2\n",
        "print ( \"La mitad de tu edad es\", edad )\n",
        "\n",
        "#En la mayoria de los leng no permite operaciones entre \n",
        "# diferentes tipos de datos, en python \n",
        "\n",
        "numero = edad / 2 \n",
        "print( numero)\n",
        "\n",
        "numero *= 3\n",
        "print(numero )\n",
        "\n",
        "numero = 5.0\n",
        "numero = numero **3 #El doble asterisco es potencia y el numero de a lado es a que potencia se va a elevar  \n",
        "print( numero)\n",
        "\n",
        "#Operador modulo \n",
        "numero = 21\n",
        "print(numero / 2) # asi se plantea la division en print \n",
        "print ( numero//2)\n",
        "\n",
        "#Operador modulo da como resultado el residuo de una division entera \n",
        "print ( numero % 2)\n",
        "\n",
        "numero= 24 \n",
        "print(\"Residuo de 24 / 5:\", numero % 5)\n",
        "\n",
        "\n",
        "#Operadores relacionales(lógicos)\n",
        "print ( numero % 2== 0 )\n",
        "#Diferencia\n",
        "print(\"24 es diferente que 23=\", numero !=23)\n",
        "\n",
        "print( \"24 es mayor que 23=\", numero > 23 )\n",
        "\n",
        "print(\"24 es menor que 23=\", numero < 23 )\n",
        "\n",
        "print(\"24 es menor o igual que 23\", numero <=23\n",
        "      )\n",
        "\n",
        "print(\"El tipo de dato de la var numero es: \", type(numero/2.0))\n",
        "\n",
        "\n",
        "\n",
        "\n",
        "\n",
        "\n",
        "\n",
        "\n",
        "\n",
        "\n",
        "\n"
      ],
      "execution_count": null,
      "outputs": [
        {
          "output_type": "stream",
          "name": "stdout",
          "text": [
            "Tu edad es : 19\n",
            "28\n",
            "20\n",
            "24\n",
            "1.6600000000000001\n",
            "1.66\n",
            "Tu edad es : 21\n",
            "La mitad de tu edad es : 10.5\n",
            "La mitad de tu edad es 10\n",
            "5.0\n",
            "15.0\n",
            "125.0\n",
            "10.5\n",
            "10\n",
            "1\n",
            "Residuo de 24 / 5: 4\n",
            "True\n",
            "24 es diferente que 23= True\n",
            "24 es mayor que 23= True\n",
            "24 es menor que 23= False\n",
            "24 es menor o igual que 23 False\n",
            "El tipo de dato de la var numero es:  <class 'float'>\n"
          ]
        }
      ]
    },
    {
      "cell_type": "markdown",
      "metadata": {
        "id": "rSwJhBE_qweP"
      },
      "source": [
        ""
      ]
    },
    {
      "cell_type": "code",
      "metadata": {
        "colab": {
          "base_uri": "https://localhost:8080/"
        },
        "id": "aW4BL06gqOz_",
        "outputId": "cf5afe11-98d5-43f7-f573-9ec71bbb6e2a"
      },
      "source": [
        "nombre = \"diana\"\n",
        "carrera = \"Ingenieria en computacion\"\n",
        "frase = \"\"\" El conocimiento \n",
        "me persigue,..\n",
        "pero\n",
        "yo soy rapido\n",
        "\"\"\"\n",
        "\n",
        "print(nombre)\n",
        "print(carrera)\n",
        "print(frase)\n",
        "\n",
        "#La funcion type de Python te devuelve el tipo de dato de una variable \n",
        "print(type(nombre))\n",
        "\n",
        "paterno= str(\"Moreno\")\n",
        "print( paterno)\n"
      ],
      "execution_count": null,
      "outputs": [
        {
          "output_type": "stream",
          "name": "stdout",
          "text": [
            "diana\n",
            "Ingenieria en computacion\n",
            " El conocimiento \n",
            "me persigue,..\n",
            "pero\n",
            "yo soy rapido\n",
            "\n",
            "<class 'str'>\n",
            "Moreno\n"
          ]
        }
      ]
    },
    {
      "cell_type": "markdown",
      "metadata": {
        "id": "ZJO4pX54qMR_"
      },
      "source": [
        ""
      ]
    },
    {
      "cell_type": "markdown",
      "metadata": {
        "id": "d0mENNP7x6wf"
      },
      "source": [
        "#Silcing(rebanado) de cadenas\n",
        "Permite seleccionar subcadenas con el operador\n",
        "###[inicio : stop : incremento]\n",
        "El stop no se incluye, es por eso que debemos agregar una posición extra.\n",
        "\n",
        "### Slicing y valores por defecto \n",
        "\n",
        "inicio por defecto siempre será 0\n",
        "stop: tamaño del arreglo (index\n",
        "\n",
        "incremento: es q (indexado positivo)"
      ]
    },
    {
      "cell_type": "markdown",
      "metadata": {
        "id": "jEZ3GG95x_xR"
      },
      "source": [
        ""
      ]
    },
    {
      "cell_type": "code",
      "metadata": {
        "colab": {
          "base_uri": "https://localhost:8080/"
        },
        "id": "izE5SYrDyCGm",
        "outputId": "8f2f2ab4-9bb3-4163-953c-b37ab5f2694e"
      },
      "source": [
        "carrera = \"Ingeniería en computación\"\n",
        "print(carrera[0:10:1])\n",
        "print(carrera[14:25:1])\n",
        "#lo mismo pero con indexado negativo\n",
        "print(carrera[-11: -1 : 1])\n",
        "print( carrera [:10:])\n",
        "print(carrera[14:25:])\n",
        "print(carrera[ -11: :1])\n",
        "print(carrera[-11: -1 : 1])\n",
        "\n",
        "\n",
        "\n",
        "#SOLUCION PREVIA \n",
        "print(\"--------\")\n",
        "print( carrera[-11 : -1 : 1])\n",
        "print( carrera [-11 : : 1])\n",
        "\n",
        "#Ejercicio para ver incremento \n",
        "print( carrera[0:10:2]) #Incremento es los saltos que se daran desde el inicio al stop\n",
        "print( carrera[-1:-12-1]) #Imprimir una palabra al reves\n"
      ],
      "execution_count": null,
      "outputs": [
        {
          "output_type": "stream",
          "name": "stdout",
          "text": [
            "Ingeniería\n",
            "computación\n",
            "computació\n",
            "Ingeniería\n",
            "computación\n",
            "computación\n",
            "computació\n",
            "--------\n",
            "computació\n",
            "computación\n",
            "Igneí\n",
            "\n"
          ]
        }
      ]
    },
    {
      "cell_type": "markdown",
      "metadata": {
        "id": "mORn-bT40kET"
      },
      "source": [
        "#String y sus metodos \n",
        "#Todos los tipos de dato en Python son objetos(CLASES de la POO)\n",
        "###Lo cual significa que tienen atributos y métodos\n",
        "##dir() y help() funciones para obtener ayuda del lenguaje Python \n",
        "\n",
        "###dir muestra las funciones de un tipo de dato como resumen \n",
        "\n",
        "###Help muestra la misma ayuda pero a detalle \n",
        "\n",
        "Metodos que inician con doble guion bajo, son privados de uso interno de la clase y no deberiamos de usarlo\n",
        "\n",
        "Todos los demas son para uso exterior (usuario)"
      ]
    },
    {
      "cell_type": "code",
      "metadata": {
        "colab": {
          "base_uri": "https://localhost:8080/"
        },
        "id": "gZEFY_Kh08jw",
        "outputId": "af420c20-ab0b-4291-b802-35045157205e"
      },
      "source": [
        "frutas =  \"  limon , fresa, manzana  , aguacate  \"\n",
        "nombre = \"diana\"\n",
        "print(frutas)\n",
        "dir(frutas) \n",
        "\n",
        "print( nombre.capitalize() )\n",
        "print( nombre.upper() )\n",
        "print(frutas.replace( 'a' , '4' ).replace('e','3').upper()) \n",
        "frutas= frutas.replace( 'a' , '4').replace('e','3').upper()\n",
        "print(frutas)\n",
        "print(\".-.-.-.-.-.-.-.-.-.-.-.-.-.-.\")\n",
        "frutas =\" limon , fresas, manzana , aguacate \"\n",
        "print( frutas.strip())\n",
        "print( frutas.split()) #Es separado cada elemento por el espacio \n",
        "print( frutas.split(',') )\n",
        "print( frutas)\n"
      ],
      "execution_count": null,
      "outputs": [
        {
          "output_type": "stream",
          "name": "stdout",
          "text": [
            "  limon , fresa, manzana  , aguacate  \n",
            "Diana\n",
            "DIANA\n",
            "  LIMON , FR3S4, M4NZ4N4  , 4GU4C4T3  \n",
            "  LIMON , FR3S4, M4NZ4N4  , 4GU4C4T3  \n",
            ".-.-.-.-.-.-.-.-.-.-.-.-.-.-.\n",
            "limon , fresas, manzana , aguacate\n",
            "['limon', ',', 'fresas,', 'manzana', ',', 'aguacate']\n",
            "[' limon ', ' fresas', ' manzana ', ' aguacate ']\n",
            " limon , fresas, manzana , aguacate \n"
          ]
        }
      ]
    },
    {
      "cell_type": "code",
      "metadata": {
        "colab": {
          "base_uri": "https://localhost:8080/"
        },
        "id": "oiw3a_vX7l_T",
        "outputId": "61204c8c-99c0-456f-a31e-a7119fce7e05"
      },
      "source": [
        "dir(str)\n",
        "help(str.find)#Asi busco el metodo y me dice como se usa "
      ],
      "execution_count": null,
      "outputs": [
        {
          "output_type": "stream",
          "name": "stdout",
          "text": [
            "Help on method_descriptor:\n",
            "\n",
            "find(...)\n",
            "    S.find(sub[, start[, end]]) -> int\n",
            "    \n",
            "    Return the lowest index in S where substring sub is found,\n",
            "    such that sub is contained within S[start:end].  Optional\n",
            "    arguments start and end are interpreted as in slice notation.\n",
            "    \n",
            "    Return -1 on failure.\n",
            "\n"
          ]
        }
      ]
    },
    {
      "cell_type": "markdown",
      "metadata": {
        "id": "ZnwUH2AK8Z1i"
      },
      "source": [
        "#String y caracteres de escape\n",
        "\n",
        "\"Diana\"\n",
        "- \\\" ---> \"\n",
        "- \\' ---> '\n",
        "- \\n ---> Salto de linea(Tecla enter)\n",
        "- \\t ---> tabulador espacios a la izq\n",
        "- \\uxxxx ---> caracteres unicode 16 bits\n",
        "- \\Uxxxxxxxx --> unicode extendido 4 bits"
      ]
    },
    {
      "cell_type": "code",
      "metadata": {
        "colab": {
          "base_uri": "https://localhost:8080/"
        },
        "id": "vwRMHjAp8XqY",
        "outputId": "aeb9eecb-69bf-490d-dc05-b384b2eda9c0"
      },
      "source": [
        "print(\"\\\"diana\\\" \")\n",
        "nombre = \"\\\"Diana\\\" \"\n",
        "print( nombre )\n",
        "carrera = \"Ingenieria \\nen \\nComputación\" \n",
        "print( carrera )\n",
        "carreras = \"Ingenieria \\n\\ten \\n\\t\\tComputación\" \n",
        "print( carreras)\n",
        "print(\"\\u0065\")\n",
        "print(\"\\u0444\")\n",
        "print(\"\\u0620\")\n",
        "print(\"\\U00010057\")\n",
        "print(\"\\U0001F60E\")\n",
        "print(\"\\U0001F602\")\n",
        "print(\"\\U0001F9A0\")\n"
      ],
      "execution_count": null,
      "outputs": [
        {
          "output_type": "stream",
          "name": "stdout",
          "text": [
            "\"diana\" \n",
            "\"Diana\" \n",
            "Ingenieria \n",
            "en \n",
            "Computación\n",
            "Ingenieria \n",
            "\ten \n",
            "\t\tComputación\n",
            "e\n",
            "ф\n",
            "ؠ\n",
            "𐁗\n",
            "😎\n",
            "😂\n",
            "🦠\n"
          ]
        }
      ]
    },
    {
      "cell_type": "markdown",
      "metadata": {
        "id": "3p-3mBissK7R"
      },
      "source": [
        "#Funcion print\n",
        "\n",
        "### Se emplea para desplegar información en la salida estandar Normalmente en un monitor.\n",
        "\n",
        "-Formas de usar print\n",
        "-El argumneto por defecto de print(end)-format()\n",
        "-operador\"f\"\n"
      ]
    },
    {
      "cell_type": "code",
      "metadata": {
        "colab": {
          "base_uri": "https://localhost:8080/"
        },
        "id": "UJBSqvX4Fyuv",
        "outputId": "e888055f-eb61-4c32-98e9-296c1d23e889"
      },
      "source": [
        "nombre = \"Diana\"\n",
        "edad = 18\n",
        "casado = False \n",
        "estatura = 1.57\n",
        "\n",
        "\"\"\"\n",
        "Nombre: Diana\n",
        "    Edad:18 \n",
        "    Esta casado : False\n",
        "    Estatura en metros : 1.67\n",
        "    \"\"\"\n",
        "\n",
        "#1.-Con comas.-Concatena un casting(conversion a string automática)\n",
        "#agrega un espacio\n",
        "print( nombre, edad, casado, estatura )\n",
        "print(\"Nombre: \" + nombre + \"\\n\\tEdad: \"+ str(edad) +\" \"+str(casado) +\"\\n\\tEsta casado :\" )\n",
        "\n",
        "#2.- con el simbolo de \"+\"\n",
        "#concatenacion en crudo \n",
        "print( nombre+ str(edad)+ str(casado)+ str(estatura) )\n",
        "\n",
        "#3.- Dando formato a la salida con format()\n",
        "print(\"\\nCon la funcion format()\")\n",
        "print(\" Nombre : {3}\\n\\tEdad: {2}\\n\\tEsta casado : {1}\\n\\testatura en metros: {0}\".format(nombre,edad,casado,estatura))\n",
        "\n",
        "#4.- con el operador f\" \"\n",
        "print(\"Con el operador f\\\" \\\"\")\n",
        "print(f\" Nombre : { nombre }\\n\\tEdad: { edad }\\n\\tEsta casado : { casado }\\n\\testatura en metros: {estatura }\")\n",
        "\n",
        "#Como manejar el ARGUMENTO END \n",
        "print(f\"Hola {nombre}\", end=\"\")\n",
        "print(\", Como estas?\" , end=\"\\n\")\n"
      ],
      "execution_count": null,
      "outputs": [
        {
          "output_type": "stream",
          "name": "stdout",
          "text": [
            "Diana 18 False 1.57\n",
            "Nombre: Diana\n",
            "\tEdad: 18 False\n",
            "\tEsta casado :\n",
            "Diana18False1.57\n",
            "\n",
            "Con la funcion format()\n",
            " Nombre : 1.57\n",
            "\tEdad: False\n",
            "\tEsta casado : 18\n",
            "\testatura en metros: Diana\n",
            "Con el operador f\" \"\n",
            " Nombre : Diana\n",
            "\tEdad: 18\n",
            "\tEsta casado : False\n",
            "\testatura en metros: 1.57\n",
            "Hola Diana, Como estas?\n"
          ]
        }
      ]
    },
    {
      "cell_type": "markdown",
      "metadata": {
        "id": "DjMdZRE96_Jv"
      },
      "source": [
        "# con una sola funcion print POR LETRA , escribir su primer nombre\n",
        "k  k\n",
        "k k\n",
        "k\n",
        "k k\n",
        "k   k"
      ]
    },
    {
      "cell_type": "markdown",
      "metadata": {
        "id": "odD9GkPUBLg5"
      },
      "source": [
        "# datos de entrada\n",
        "\n",
        "Para solicitar los datos del usuario se emplea la función input, la cual regresa siempre, un tipo de dato string."
      ]
    },
    {
      "cell_type": "code",
      "metadata": {
        "colab": {
          "base_uri": "https://localhost:8080/"
        },
        "id": "Uc5OWgXLBc9B",
        "outputId": "ad6991b9-5b10-4771-d101-4813eb53f650"
      },
      "source": [
        "nombre = input(\"Ingresa tu nombre\")\n",
        "print(\"Tecleaste:\" , nombre )\n"
      ],
      "execution_count": 1,
      "outputs": [
        {
          "output_type": "stream",
          "name": "stdout",
          "text": [
            "Ingresa tu nombreDiana\n",
            "Tecleaste: Diana\n"
          ]
        }
      ]
    },
    {
      "cell_type": "markdown",
      "metadata": {
        "id": "vQNmBbcwB7HL"
      },
      "source": [
        "# ¿Cómo capturar datos numérico?\n",
        "\n",
        "Para ello se hace una conversión entre tipos...\n",
        "casting... consiste en llamar al constructor de la clase deseada\n",
        "\n",
        "## Ejemplo convertir el string \"2\" en numero \n",
        "### num = int( \"2\")"
      ]
    },
    {
      "cell_type": "code",
      "metadata": {
        "colab": {
          "base_uri": "https://localhost:8080/"
        },
        "id": "Y0TOO-_sCZ4h",
        "outputId": "4fceb9c8-99b6-44a6-8a2e-e7109af4f2ae"
      },
      "source": [
        "entrada = input(\"Dame tu edad: \")\n",
        "edad = int(entrada)\n",
        "edad += 1 # edad = edad + 1\n",
        "print(\"Tu edad es:\", edad )\n"
      ],
      "execution_count": 2,
      "outputs": [
        {
          "output_type": "stream",
          "name": "stdout",
          "text": [
            "Dame tu edad: 4\n",
            "Tu edad es: 5\n"
          ]
        }
      ]
    },
    {
      "cell_type": "code",
      "metadata": {
        "colab": {
          "base_uri": "https://localhost:8080/"
        },
        "id": "dhzIDw9JC794",
        "outputId": "3e1054c6-b268-403d-d3c2-a2d9cfce423f"
      },
      "source": [
        "# lo mismo pero con menos codigo \n",
        "\n",
        "edad = int(input(\"Dame tu edad:\"))\n",
        "print(\"Tu edad es\", edad+1 )"
      ],
      "execution_count": 3,
      "outputs": [
        {
          "output_type": "stream",
          "name": "stdout",
          "text": [
            "Dame tu edad:4\n",
            "Tu edad es 5\n"
          ]
        }
      ]
    },
    {
      "cell_type": "code",
      "metadata": {
        "colab": {
          "base_uri": "https://localhost:8080/"
        },
        "id": "rmfTBdunDST7",
        "outputId": "cd25c424-db4a-4a1b-9158-4b7eff18c2cf"
      },
      "source": [
        "estatura = float(input(\"Dame tu estatura:\"))\n",
        "print(\"Tu estatura es:\", estatura+0.1 )"
      ],
      "execution_count": 6,
      "outputs": [
        {
          "output_type": "stream",
          "name": "stdout",
          "text": [
            "Dame tu estatura:1.47\n",
            "Tu estatura es: 1.57\n"
          ]
        }
      ]
    },
    {
      "cell_type": "code",
      "metadata": {
        "colab": {
          "base_uri": "https://localhost:8080/"
        },
        "id": "0EO6qDMAEXcT",
        "outputId": "c6162cf0-4893-45cd-dc58-054c3a683c84"
      },
      "source": [
        "# inputs de booleans\n",
        "\n",
        "casado = bool(int(input(\"Soltero (0) casado (1)\")))\n",
        "print( \"casado=\", casado)"
      ],
      "execution_count": 22,
      "outputs": [
        {
          "output_type": "stream",
          "name": "stdout",
          "text": [
            "Soltero (0) casado (1)0\n",
            "casado= False\n"
          ]
        }
      ]
    },
    {
      "cell_type": "markdown",
      "metadata": {
        "id": "bApVtR7YFeY9"
      },
      "source": [
        "#Tipos de datos estructurados de pyton \n",
        "1. Listas\n",
        "2. Tuplas\n",
        "3. Diccionarios \n",
        "4. Conjuntos(opcional)\n"
      ]
    },
    {
      "cell_type": "markdown",
      "metadata": {
        "id": "sZ9RDVlTFsJp"
      },
      "source": [
        "# Listas \n",
        "\n",
        "- Tipo de dato que agrupa variables o valores.\n",
        "- Estructura secuencial()\n",
        "- Se declara de dos formas#\n",
        "- usando []\n",
        "- usando list ()\n",
        "- usando un generaador \n",
        "- Puede contener tipos de dato diversos (En otros lenguaje de prog. eso no es podible de forma directa)\n",
        "- Los elementos internos se seleccionan con []\n",
        "- Soporta slicing \n",
        "- SON MUTABLES\n",
        "- GENERADORES[var for x in range(10)]\n",
        "- Al ser una clase contiene muchos métodos útiles \n"
      ]
    },
    {
      "cell_type": "markdown",
      "metadata": {
        "id": "WPa6_sa38Zg7"
      },
      "source": [
        "|"
      ]
    },
    {
      "cell_type": "code",
      "metadata": {
        "colab": {
          "base_uri": "https://localhost:8080/"
        },
        "id": "_N4o2KTnGu_a",
        "outputId": "1e1dc867-06d7-4013-ab2e-fad5f640cd71"
      },
      "source": [
        "numeros = [10, 5, 2 , 3 , 1]\n",
        "print(numeros)\n",
        "\n",
        "numeros2 = list()\n",
        "numeros2.append(10)\n",
        "numeros2.append(5)\n",
        "numeros2.append(2)\n",
        "numeros2.append(3)\n",
        "numeros2.append(1)\n",
        "print(numeros2)\n",
        "numeros[2] = 20 \n",
        "print(numeros)\n",
        "numeros[-1  ] = 33\n",
        "numeros.append(88)\n",
        "print(numeros)\n"
      ],
      "execution_count": 37,
      "outputs": [
        {
          "output_type": "stream",
          "name": "stdout",
          "text": [
            "[10, 5, 2, 3, 1]\n",
            "[10, 5, 2, 3, 1]\n",
            "[10, 5, 20, 3, 1]\n",
            "[10, 5, 20, 3, 33, 88]\n"
          ]
        }
      ]
    },
    {
      "cell_type": "code",
      "metadata": {
        "colab": {
          "base_uri": "https://localhost:8080/"
        },
        "id": "4-WU-_zUIvxR",
        "outputId": "4b1b111b-1a47-4ad2-f873-16c49b3fbe65"
      },
      "source": [
        "# Tipos diversos \n",
        "\n",
        "cosas = [12, 2 , True, \"José\" , 1.57 , [\"pera\", \"kiwi\", \"uva\"]]\n",
        "print(cosas)\n",
        "print( cosas[1] )\n",
        "print( cosas [4] )\n",
        "print( cosas[5] )\n",
        "print( cosas[5][1] )\n",
        "print( cosas[3][1:3] )\n",
        "cosas[3] = cosas[3].upper()\n",
        "print(cosas) \n"
      ],
      "execution_count": 40,
      "outputs": [
        {
          "output_type": "stream",
          "name": "stdout",
          "text": [
            "[12, 2, True, 'José', 1.57, ['pera', 'kiwi', 'uva']]\n",
            "2\n",
            "1.57\n",
            "['pera', 'kiwi', 'uva']\n",
            "kiwi\n",
            "os\n",
            "[12, 2, True, 'JOSÉ', 1.57, ['pera', 'kiwi', 'uva']]\n"
          ]
        }
      ]
    },
    {
      "cell_type": "code",
      "metadata": {
        "colab": {
          "base_uri": "https://localhost:8080/"
        },
        "id": "13MzvNFQL3d1",
        "outputId": "6fe77a50-6ea0-437d-f937-976433572691"
      },
      "source": [
        "numeros= [1,2,3,4,5,6,7,8,9,10,11]\n",
        "print(numeros)\n",
        "# slicing \n",
        "# 1.- 4 al 8?\n",
        "print(numeros[3:8])\n",
        "# 2.-  [9,10]?\n",
        "print(numeros[8:10])\n",
        "print(numeros[-3:-1])\n",
        "#3.- La lista al reves \n",
        "print(numeros[ ::-1])\n"
      ],
      "execution_count": 57,
      "outputs": [
        {
          "output_type": "stream",
          "name": "stdout",
          "text": [
            "[1, 2, 3, 4, 5, 6, 7, 8, 9, 10, 11]\n",
            "[4, 5, 6, 7, 8]\n",
            "[9, 10]\n",
            "[9, 10]\n",
            "[11, 10, 9, 8, 7, 6, 5, 4, 3, 2, 1]\n"
          ]
        }
      ]
    },
    {
      "cell_type": "code",
      "metadata": {
        "colab": {
          "base_uri": "https://localhost:8080/"
        },
        "id": "1LpOhbb6PuAu",
        "outputId": "078b5076-16de-48c9-c3ae-bb617adf792b"
      },
      "source": [
        "# crear una lista con un generador\n",
        "numeros = [ x*3 for x in range(101) ] # ese asterisco por tres hace que vayan de tres en tres \n",
        "print(numeros)\n"
      ],
      "execution_count": 62,
      "outputs": [
        {
          "output_type": "stream",
          "name": "stdout",
          "text": [
            "[0, 3, 6, 9, 12, 15, 18, 21, 24, 27, 30, 33, 36, 39, 42, 45, 48, 51, 54, 57, 60, 63, 66, 69, 72, 75, 78, 81, 84, 87, 90, 93, 96, 99, 102, 105, 108, 111, 114, 117, 120, 123, 126, 129, 132, 135, 138, 141, 144, 147, 150, 153, 156, 159, 162, 165, 168, 171, 174, 177, 180, 183, 186, 189, 192, 195, 198, 201, 204, 207, 210, 213, 216, 219, 222, 225, 228, 231, 234, 237, 240, 243, 246, 249, 252, 255, 258, 261, 264, 267, 270, 273, 276, 279, 282, 285, 288, 291, 294, 297, 300]\n"
          ]
        }
      ]
    },
    {
      "cell_type": "markdown",
      "metadata": {
        "id": "uKLNTkBzQWzP"
      },
      "source": [
        "# Funcion range()\n",
        "Tiene los mismos componetes que slicing ,\n",
        " ini, stop, incremento \n",
        "\n",
        "range(1,101,1)\n",
        "\n"
      ]
    },
    {
      "cell_type": "code",
      "metadata": {
        "colab": {
          "base_uri": "https://localhost:8080/"
        },
        "id": "yF7qZEo2QukE",
        "outputId": "9b46c10a-06ff-401d-d52e-585844cf75fb"
      },
      "source": [
        "numeros = [ x for x in range(50, 101, 2) ]\n",
        "print(numeros)"
      ],
      "execution_count": 64,
      "outputs": [
        {
          "output_type": "stream",
          "name": "stdout",
          "text": [
            "[50, 52, 54, 56, 58, 60, 62, 64, 66, 68, 70, 72, 74, 76, 78, 80, 82, 84, 86, 88, 90, 92, 94, 96, 98, 100]\n"
          ]
        }
      ]
    },
    {
      "cell_type": "markdown",
      "metadata": {
        "id": "DCTd6CdIQtxS"
      },
      "source": [
        "# Métodos disponibles de las listas "
      ]
    },
    {
      "cell_type": "code",
      "metadata": {
        "colab": {
          "base_uri": "https://localhost:8080/"
        },
        "id": "1HdRFoccRP34",
        "outputId": "4ebaabf1-dde2-4a59-c703-ee43a8e515da"
      },
      "source": [
        "dir(list)\n"
      ],
      "execution_count": 65,
      "outputs": [
        {
          "output_type": "execute_result",
          "data": {
            "text/plain": [
              "['__add__',\n",
              " '__class__',\n",
              " '__contains__',\n",
              " '__delattr__',\n",
              " '__delitem__',\n",
              " '__dir__',\n",
              " '__doc__',\n",
              " '__eq__',\n",
              " '__format__',\n",
              " '__ge__',\n",
              " '__getattribute__',\n",
              " '__getitem__',\n",
              " '__gt__',\n",
              " '__hash__',\n",
              " '__iadd__',\n",
              " '__imul__',\n",
              " '__init__',\n",
              " '__init_subclass__',\n",
              " '__iter__',\n",
              " '__le__',\n",
              " '__len__',\n",
              " '__lt__',\n",
              " '__mul__',\n",
              " '__ne__',\n",
              " '__new__',\n",
              " '__reduce__',\n",
              " '__reduce_ex__',\n",
              " '__repr__',\n",
              " '__reversed__',\n",
              " '__rmul__',\n",
              " '__setattr__',\n",
              " '__setitem__',\n",
              " '__sizeof__',\n",
              " '__str__',\n",
              " '__subclasshook__',\n",
              " 'append',\n",
              " 'clear',\n",
              " 'copy',\n",
              " 'count',\n",
              " 'extend',\n",
              " 'index',\n",
              " 'insert',\n",
              " 'pop',\n",
              " 'remove',\n",
              " 'reverse',\n",
              " 'sort']"
            ]
          },
          "metadata": {},
          "execution_count": 65
        }
      ]
    },
    {
      "cell_type": "markdown",
      "metadata": {
        "id": "eDe6xSp8ReTO"
      },
      "source": [
        "- append, anexion a una lista \n",
        "- clear, deja lista vacia\n",
        "- copy, crea una copia de referencia de la lista \n",
        "- count, cuenta eleemntos \n",
        "- extend, concatenaa listas \n",
        "- index, recibe un valor, lo busca y en la primer coincidencia te dice en que indice esta \n",
        "- insert, posiscion donde quieres insertar un valor, el valor que quieras insertar \n",
        "- pop,  toma el elemento de la derecha, lo quita y lo regresa \n",
        "- remove, va a quitar el elemento ymueve a la izquierda \n",
        "- reverse, va a poner en orden inverso la lista \n",
        "- sort, ordenar de mayor a menor \n"
      ]
    },
    {
      "cell_type": "code",
      "metadata": {
        "colab": {
          "base_uri": "https://localhost:8080/"
        },
        "id": "IUN7czxdSXeT",
        "outputId": "43a1cb4e-745f-4250-9d21-0d817d2f8f29"
      },
      "source": [
        "numeros = [ 4,1,15,8,22,34,50 ]\n",
        "print(numeros)\n",
        "numeros.append(99) #agregar numero\n",
        "print(numeros)\n",
        "\n",
        "\n",
        "\n",
        "frutas = [\"uvas\", \"kiwi\", \"manzana\" ]\n",
        "copia = frutas\n",
        "print(frutas)\n",
        "print(copia)\n",
        "frutas.append(\" naranja\")\n",
        "print(frutas)\n",
        "print(copia)\n",
        "\n",
        "colores = [\"rojo\", \"azul\", \"blanco\"]\n",
        "copia2= colores.copy()\n",
        "print(colores)\n",
        "print(copia2)\n",
        "colores.append(\"verde \")\n",
        "print(colores)\n",
        "print(copia2)\n",
        "\n",
        "print(\"numero de veces que aparece el 15=\", numeros.count(15))\n",
        "\n",
        "#extend\n",
        "\n",
        "nombre = [\"jose\", \"pedro\", \"karina\"]\n",
        "otrosNombres = [\"josue\", \"diana\", \"dalia\"]\n",
        "nombres = nombre + otrosNombres\n",
        "print(nombre)\n",
        "print(otrosNombres)\n",
        "print(\"jose esta en la posicion:\", nombre.index(\"jose\"))\n",
        "otrosNombres.insert(4, \"Espiritu santo\")\n",
        "print(otrosNombres)\n",
        "\n",
        "#pop\n",
        "resultado = otrosNombres.pop\n",
        "print(otrosNombres)\n",
        "print(resultado)"
      ],
      "execution_count": 92,
      "outputs": [
        {
          "output_type": "stream",
          "name": "stdout",
          "text": [
            "[4, 1, 15, 8, 22, 34, 50]\n",
            "[4, 1, 15, 8, 22, 34, 50, 99]\n",
            "['uvas', 'kiwi', 'manzana']\n",
            "['uvas', 'kiwi', 'manzana']\n",
            "['uvas', 'kiwi', 'manzana', ' naranja']\n",
            "['uvas', 'kiwi', 'manzana', ' naranja']\n",
            "['rojo', 'azul', 'blanco']\n",
            "['rojo', 'azul', 'blanco']\n",
            "['rojo', 'azul', 'blanco', 'verde ']\n",
            "['rojo', 'azul', 'blanco']\n",
            "numero de veces que aparece el 15= 1\n",
            "['jose', 'pedro', 'karina']\n",
            "['josue', 'diana', 'dalia']\n",
            "jose esta en la posicion: 0\n",
            "['josue', 'diana', 'dalia', 'Espiritu santo']\n",
            "['josue', 'diana', 'dalia', 'Espiritu santo']\n",
            "<built-in method pop of list object at 0x7f0bded9cb90>\n"
          ]
        }
      ]
    }
  ]
}