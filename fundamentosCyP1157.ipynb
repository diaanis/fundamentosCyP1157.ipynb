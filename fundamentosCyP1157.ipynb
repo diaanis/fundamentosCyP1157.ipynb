{
  "nbformat": 4,
  "nbformat_minor": 0,
  "metadata": {
    "colab": {
      "name": "fundamentosCyP1157.ipynb",
      "provenance": [],
      "authorship_tag": "ABX9TyOmkSSiyeSFU1WPXGt9YkRj",
      "include_colab_link": true
    },
    "kernelspec": {
      "name": "python3",
      "display_name": "Python 3"
    },
    "language_info": {
      "name": "python"
    }
  },
  "cells": [
    {
      "cell_type": "markdown",
      "metadata": {
        "id": "view-in-github",
        "colab_type": "text"
      },
      "source": [
        "<a href=\"https://colab.research.google.com/github/diaanis/fundamentosCyP1157.ipynb/blob/main/fundamentosCyP1157.ipynb\" target=\"_parent\"><img src=\"https://colab.research.google.com/assets/colab-badge.svg\" alt=\"Open In Colab\"/></a>"
      ]
    },
    {
      "cell_type": "code",
      "metadata": {
        "colab": {
          "base_uri": "https://localhost:8080/"
        },
        "id": "j0aD_2CDVmqh",
        "outputId": "7d11006f-2e63-4da4-feb9-8967d50b5777"
      },
      "source": [
        "nombre = 'Jose'  # Tipo de dato String (cadena de caracteres)\n",
        "\n",
        "print( nombre)\n",
        "\n"
      ],
      "execution_count": null,
      "outputs": [
        {
          "output_type": "stream",
          "name": "stdout",
          "text": [
            "Jose\n"
          ]
        }
      ]
    },
    {
      "cell_type": "markdown",
      "metadata": {
        "id": "zr-_Z4aYXMhB"
      },
      "source": [
        "#Tipo de dato en Python\n",
        "\n",
        "- str --> String cadena de caractéres.\n",
        "- int --> Numero enteros\n",
        "- float --> Numeros con notación de punto flotante \n",
        "- complex --> Numeros complejos \n",
        "- bool -->Boleano (True or False)\n",
        "- byte --> 8 bits \n",
        "\n",
        "### Tipos de datos estructurados (compuestos)\n",
        "- list --> Listas \n",
        "- dict --> diccionarios\n",
        "- set y frozenset --> Conjuntos \n",
        "- tuple --> Listas no mutables"
      ]
    },
    {
      "cell_type": "code",
      "metadata": {
        "colab": {
          "base_uri": "https://localhost:8080/"
        },
        "id": "qe07PijAXL-8",
        "outputId": "4616f391-2aa5-49dc-edfd-239fdcfc7255"
      },
      "source": [
        "import sys\n",
        "edad = 19 \n",
        "print ( \"Tu edad es :\" , edad) # al final de una línea de código \n",
        "# este es un comentario de linea simple\n",
        "\n",
        "\"\"\"\n",
        "comentario de multiple línea\n",
        "En lenguaje C, C ++ y Java el comentario de multiple linea es con \n",
        "/* ..... */\n",
        "\n",
        "El comentario de una sola linea es con :\n",
        "\n",
        "//\n",
        "\n",
        "Aqui puedes explicar en prosa el segmento de un codigo para futura referencia\n",
        "\n",
        "\"\"\"\n",
        "# tipos de dato numerico int y float\n",
        "\n",
        "print (sys.getsizeof(edad))\n",
        "#el tipo de dato INT utiliza diferente cantidad de bits segun el \n",
        "# leg de programa por ejemplo en C utilizaria 16 bits\n",
        "\n",
        "edad = edad + 1\n",
        "\n",
        "print( edad )\n",
        "\n",
        "estatura = 1.56\n",
        "print(sys.getsizeof(estatura))\n",
        "estatura = estatura + 0.1\n",
        "print( estatura )\n",
        "print(round(estatura,2))\n",
        "\n",
        "\n",
        "edad += 1 #edad = edad + 1 \n",
        "print( \"Tu edad es :\", edad)\n",
        "edad /=2 # edad = edad / 1 \n",
        "print(\"La mitad de tu edad es :\", edad)\n",
        "\n",
        "edad = 21\n",
        "#volver a calcular la mitad de la edad \n",
        "#parte entera\n",
        "edad = edad // 2\n",
        "print ( \"La mitad de tu edad es\", edad )\n",
        "\n",
        "#En la mayoria de los leng no permite operaciones entre \n",
        "# diferentes tipos de datos, en python \n",
        "\n",
        "numero = edad / 2 \n",
        "print( numero)\n",
        "\n",
        "numero *= 3\n",
        "print(numero )\n",
        "\n",
        "numero = 5.0\n",
        "numero = numero **3 #El doble asterisco es potencia y el numero de a lado es a que potencia se va a elevar  \n",
        "print( numero)\n",
        "\n",
        "#Operador modulo \n",
        "numero = 21\n",
        "print(numero / 2) # asi se plantea la division en print \n",
        "print ( numero//2)\n",
        "\n",
        "#Operador modulo da como resultado el residuo de una division entera \n",
        "print ( numero % 2)\n",
        "\n",
        "numero= 24 \n",
        "print(\"Residuo de 24 / 5:\", numero % 5)\n",
        "\n",
        "\n",
        "#Operadores relacionales(lógicos)\n",
        "print ( numero % 2== 0 )\n",
        "#Diferencia\n",
        "print(\"24 es diferente que 23=\", numero !=23)\n",
        "\n",
        "print( \"24 es mayor que 23=\", numero > 23 )\n",
        "\n",
        "print(\"24 es menor que 23=\", numero < 23 )\n",
        "\n",
        "print(\"24 es menor o igual que 23\", numero <=23\n",
        "      )\n",
        "\n",
        "print(\"El tipo de dato de la var numero es: \", type(numero/2.0))\n",
        "\n",
        "\n",
        "\n",
        "\n",
        "\n",
        "\n",
        "\n",
        "\n",
        "\n",
        "\n",
        "\n"
      ],
      "execution_count": null,
      "outputs": [
        {
          "output_type": "stream",
          "name": "stdout",
          "text": [
            "Tu edad es : 19\n",
            "28\n",
            "20\n",
            "24\n",
            "1.6600000000000001\n",
            "1.66\n",
            "Tu edad es : 21\n",
            "La mitad de tu edad es : 10.5\n",
            "La mitad de tu edad es 10\n",
            "5.0\n",
            "15.0\n",
            "125.0\n",
            "10.5\n",
            "10\n",
            "1\n",
            "Residuo de 24 / 5: 4\n",
            "True\n",
            "24 es diferente que 23= True\n",
            "24 es mayor que 23= True\n",
            "24 es menor que 23= False\n",
            "24 es menor o igual que 23 False\n",
            "El tipo de dato de la var numero es:  <class 'float'>\n"
          ]
        }
      ]
    },
    {
      "cell_type": "markdown",
      "metadata": {
        "id": "rSwJhBE_qweP"
      },
      "source": [
        ""
      ]
    },
    {
      "cell_type": "code",
      "metadata": {
        "colab": {
          "base_uri": "https://localhost:8080/"
        },
        "id": "aW4BL06gqOz_",
        "outputId": "cf5afe11-98d5-43f7-f573-9ec71bbb6e2a"
      },
      "source": [
        "nombre = \"diana\"\n",
        "carrera = \"Ingenieria en computacion\"\n",
        "frase = \"\"\" El conocimiento \n",
        "me persigue,..\n",
        "pero\n",
        "yo soy rapido\n",
        "\"\"\"\n",
        "\n",
        "print(nombre)\n",
        "print(carrera)\n",
        "print(frase)\n",
        "\n",
        "#La funcion type de Python te devuelve el tipo de dato de una variable \n",
        "print(type(nombre))\n",
        "\n",
        "paterno= str(\"Moreno\")\n",
        "print( paterno)\n"
      ],
      "execution_count": null,
      "outputs": [
        {
          "output_type": "stream",
          "name": "stdout",
          "text": [
            "diana\n",
            "Ingenieria en computacion\n",
            " El conocimiento \n",
            "me persigue,..\n",
            "pero\n",
            "yo soy rapido\n",
            "\n",
            "<class 'str'>\n",
            "Moreno\n"
          ]
        }
      ]
    },
    {
      "cell_type": "markdown",
      "metadata": {
        "id": "ZJO4pX54qMR_"
      },
      "source": [
        ""
      ]
    },
    {
      "cell_type": "markdown",
      "metadata": {
        "id": "d0mENNP7x6wf"
      },
      "source": [
        "#Silcing(rebanado) de cadenas\n",
        "Permite seleccionar subcadenas con el operador\n",
        "###[inicio : stop : incremento]\n",
        "El stop no se incluye, es por eso que debemos agregar una posición extra.\n",
        "\n",
        "### Slicing y valores por defecto \n",
        "\n",
        "inicio por defecto siempre será 0\n",
        "stop: tamaño del arreglo (index\n",
        "\n",
        "incremento: es q (indexado positivo)"
      ]
    },
    {
      "cell_type": "markdown",
      "metadata": {
        "id": "jEZ3GG95x_xR"
      },
      "source": [
        ""
      ]
    },
    {
      "cell_type": "code",
      "metadata": {
        "colab": {
          "base_uri": "https://localhost:8080/"
        },
        "id": "izE5SYrDyCGm",
        "outputId": "8f2f2ab4-9bb3-4163-953c-b37ab5f2694e"
      },
      "source": [
        "carrera = \"Ingeniería en computación\"\n",
        "print(carrera[0:10:1])\n",
        "print(carrera[14:25:1])\n",
        "#lo mismo pero con indexado negativo\n",
        "print(carrera[-11: -1 : 1])\n",
        "print( carrera [:10:])\n",
        "print(carrera[14:25:])\n",
        "print(carrera[ -11: :1])\n",
        "print(carrera[-11: -1 : 1])\n",
        "\n",
        "\n",
        "\n",
        "#SOLUCION PREVIA \n",
        "print(\"--------\")\n",
        "print( carrera[-11 : -1 : 1])\n",
        "print( carrera [-11 : : 1])\n",
        "\n",
        "#Ejercicio para ver incremento \n",
        "print( carrera[0:10:2]) #Incremento es los saltos que se daran desde el inicio al stop\n",
        "print( carrera[-1:-12-1]) #Imprimir una palabra al reves\n"
      ],
      "execution_count": null,
      "outputs": [
        {
          "output_type": "stream",
          "name": "stdout",
          "text": [
            "Ingeniería\n",
            "computación\n",
            "computació\n",
            "Ingeniería\n",
            "computación\n",
            "computación\n",
            "computació\n",
            "--------\n",
            "computació\n",
            "computación\n",
            "Igneí\n",
            "\n"
          ]
        }
      ]
    },
    {
      "cell_type": "markdown",
      "metadata": {
        "id": "mORn-bT40kET"
      },
      "source": [
        "#String y sus metodos \n",
        "#Todos los tipos de dato en Python son objetos(CLASES de la POO)\n",
        "###Lo cual significa que tienen atributos y métodos\n",
        "##dir() y help() funciones para obtener ayuda del lenguaje Python \n",
        "\n",
        "###dir muestra las funciones de un tipo de dato como resumen \n",
        "\n",
        "###Help muestra la misma ayuda pero a detalle \n",
        "\n",
        "Metodos que inician con doble guion bajo, son privados de uso interno de la clase y no deberiamos de usarlo\n",
        "\n",
        "Todos los demas son para uso exterior (usuario)"
      ]
    },
    {
      "cell_type": "code",
      "metadata": {
        "colab": {
          "base_uri": "https://localhost:8080/"
        },
        "id": "gZEFY_Kh08jw",
        "outputId": "af420c20-ab0b-4291-b802-35045157205e"
      },
      "source": [
        "frutas =  \"  limon , fresa, manzana  , aguacate  \"\n",
        "nombre = \"diana\"\n",
        "print(frutas)\n",
        "dir(frutas) \n",
        "\n",
        "print( nombre.capitalize() )\n",
        "print( nombre.upper() )\n",
        "print(frutas.replace( 'a' , '4' ).replace('e','3').upper()) \n",
        "frutas= frutas.replace( 'a' , '4').replace('e','3').upper()\n",
        "print(frutas)\n",
        "print(\".-.-.-.-.-.-.-.-.-.-.-.-.-.-.\")\n",
        "frutas =\" limon , fresas, manzana , aguacate \"\n",
        "print( frutas.strip())\n",
        "print( frutas.split()) #Es separado cada elemento por el espacio \n",
        "print( frutas.split(',') )\n",
        "print( frutas)\n"
      ],
      "execution_count": null,
      "outputs": [
        {
          "output_type": "stream",
          "name": "stdout",
          "text": [
            "  limon , fresa, manzana  , aguacate  \n",
            "Diana\n",
            "DIANA\n",
            "  LIMON , FR3S4, M4NZ4N4  , 4GU4C4T3  \n",
            "  LIMON , FR3S4, M4NZ4N4  , 4GU4C4T3  \n",
            ".-.-.-.-.-.-.-.-.-.-.-.-.-.-.\n",
            "limon , fresas, manzana , aguacate\n",
            "['limon', ',', 'fresas,', 'manzana', ',', 'aguacate']\n",
            "[' limon ', ' fresas', ' manzana ', ' aguacate ']\n",
            " limon , fresas, manzana , aguacate \n"
          ]
        }
      ]
    },
    {
      "cell_type": "code",
      "metadata": {
        "colab": {
          "base_uri": "https://localhost:8080/"
        },
        "id": "oiw3a_vX7l_T",
        "outputId": "61204c8c-99c0-456f-a31e-a7119fce7e05"
      },
      "source": [
        "dir(str)\n",
        "help(str.find)#Asi busco el metodo y me dice como se usa "
      ],
      "execution_count": null,
      "outputs": [
        {
          "output_type": "stream",
          "name": "stdout",
          "text": [
            "Help on method_descriptor:\n",
            "\n",
            "find(...)\n",
            "    S.find(sub[, start[, end]]) -> int\n",
            "    \n",
            "    Return the lowest index in S where substring sub is found,\n",
            "    such that sub is contained within S[start:end].  Optional\n",
            "    arguments start and end are interpreted as in slice notation.\n",
            "    \n",
            "    Return -1 on failure.\n",
            "\n"
          ]
        }
      ]
    },
    {
      "cell_type": "markdown",
      "metadata": {
        "id": "ZnwUH2AK8Z1i"
      },
      "source": [
        "#String y caracteres de escape\n",
        "\n",
        "\"Diana\"\n",
        "- \\\" ---> \"\n",
        "- \\' ---> '\n",
        "- \\n ---> Salto de linea(Tecla enter)\n",
        "- \\t ---> tabulador espacios a la izq\n",
        "- \\uxxxx ---> caracteres unicode 16 bits\n",
        "- \\Uxxxxxxxx --> unicode extendido 4 bits"
      ]
    },
    {
      "cell_type": "code",
      "metadata": {
        "colab": {
          "base_uri": "https://localhost:8080/"
        },
        "id": "vwRMHjAp8XqY",
        "outputId": "aeb9eecb-69bf-490d-dc05-b384b2eda9c0"
      },
      "source": [
        "print(\"\\\"diana\\\" \")\n",
        "nombre = \"\\\"Diana\\\" \"\n",
        "print( nombre )\n",
        "carrera = \"Ingenieria \\nen \\nComputación\" \n",
        "print( carrera )\n",
        "carreras = \"Ingenieria \\n\\ten \\n\\t\\tComputación\" \n",
        "print( carreras)\n",
        "print(\"\\u0065\")\n",
        "print(\"\\u0444\")\n",
        "print(\"\\u0620\")\n",
        "print(\"\\U00010057\")\n",
        "print(\"\\U0001F60E\")\n",
        "print(\"\\U0001F602\")\n",
        "print(\"\\U0001F9A0\")\n"
      ],
      "execution_count": null,
      "outputs": [
        {
          "output_type": "stream",
          "name": "stdout",
          "text": [
            "\"diana\" \n",
            "\"Diana\" \n",
            "Ingenieria \n",
            "en \n",
            "Computación\n",
            "Ingenieria \n",
            "\ten \n",
            "\t\tComputación\n",
            "e\n",
            "ф\n",
            "ؠ\n",
            "𐁗\n",
            "😎\n",
            "😂\n",
            "🦠\n"
          ]
        }
      ]
    },
    {
      "cell_type": "markdown",
      "metadata": {
        "id": "3p-3mBissK7R"
      },
      "source": [
        "#Funcion print\n",
        "\n",
        "### Se emplea para desplegar información en la salida estandar Normalmente en un monitor.\n",
        "\n",
        "-Formas de usar print\n",
        "-El argumneto por defecto de print(end)-format()\n",
        "-operador\"f\"\n"
      ]
    },
    {
      "cell_type": "code",
      "metadata": {
        "colab": {
          "base_uri": "https://localhost:8080/"
        },
        "id": "UJBSqvX4Fyuv",
        "outputId": "e888055f-eb61-4c32-98e9-296c1d23e889"
      },
      "source": [
        "nombre = \"Diana\"\n",
        "edad = 18\n",
        "casado = False \n",
        "estatura = 1.57\n",
        "\n",
        "\"\"\"\n",
        "Nombre: Diana\n",
        "    Edad:18 \n",
        "    Esta casado : False\n",
        "    Estatura en metros : 1.67\n",
        "    \"\"\"\n",
        "\n",
        "#1.-Con comas.-Concatena un casting(conversion a string automática)\n",
        "#agrega un espacio\n",
        "print( nombre, edad, casado, estatura )\n",
        "print(\"Nombre: \" + nombre + \"\\n\\tEdad: \"+ str(edad) +\" \"+str(casado) +\"\\n\\tEsta casado :\" )\n",
        "\n",
        "#2.- con el simbolo de \"+\"\n",
        "#concatenacion en crudo \n",
        "print( nombre+ str(edad)+ str(casado)+ str(estatura) )\n",
        "\n",
        "#3.- Dando formato a la salida con format()\n",
        "print(\"\\nCon la funcion format()\")\n",
        "print(\" Nombre : {3}\\n\\tEdad: {2}\\n\\tEsta casado : {1}\\n\\testatura en metros: {0}\".format(nombre,edad,casado,estatura))\n",
        "\n",
        "#4.- con el operador f\" \"\n",
        "print(\"Con el operador f\\\" \\\"\")\n",
        "print(f\" Nombre : { nombre }\\n\\tEdad: { edad }\\n\\tEsta casado : { casado }\\n\\testatura en metros: {estatura }\")\n",
        "\n",
        "#Como manejar el ARGUMENTO END \n",
        "print(f\"Hola {nombre}\", end=\"\")\n",
        "print(\", Como estas?\" , end=\"\\n\")\n"
      ],
      "execution_count": null,
      "outputs": [
        {
          "output_type": "stream",
          "name": "stdout",
          "text": [
            "Diana 18 False 1.57\n",
            "Nombre: Diana\n",
            "\tEdad: 18 False\n",
            "\tEsta casado :\n",
            "Diana18False1.57\n",
            "\n",
            "Con la funcion format()\n",
            " Nombre : 1.57\n",
            "\tEdad: False\n",
            "\tEsta casado : 18\n",
            "\testatura en metros: Diana\n",
            "Con el operador f\" \"\n",
            " Nombre : Diana\n",
            "\tEdad: 18\n",
            "\tEsta casado : False\n",
            "\testatura en metros: 1.57\n",
            "Hola Diana, Como estas?\n"
          ]
        }
      ]
    },
    {
      "cell_type": "markdown",
      "metadata": {
        "id": "DjMdZRE96_Jv"
      },
      "source": [
        "# con una sola funcion print POR LETRA , escribir su primer nombre\n",
        "k  k\n",
        "k k\n",
        "k\n",
        "k k\n",
        "k   k"
      ]
    },
    {
      "cell_type": "markdown",
      "metadata": {
        "id": "odD9GkPUBLg5"
      },
      "source": [
        "# datos de entrada\n",
        "\n",
        "Para solicitar los datos del usuario se emplea la función input, la cual regresa siempre, un tipo de dato string."
      ]
    },
    {
      "cell_type": "code",
      "metadata": {
        "colab": {
          "base_uri": "https://localhost:8080/"
        },
        "id": "Uc5OWgXLBc9B",
        "outputId": "ad6991b9-5b10-4771-d101-4813eb53f650"
      },
      "source": [
        "nombre = input(\"Ingresa tu nombre\")\n",
        "print(\"Tecleaste:\" , nombre )\n"
      ],
      "execution_count": null,
      "outputs": [
        {
          "output_type": "stream",
          "name": "stdout",
          "text": [
            "Ingresa tu nombreDiana\n",
            "Tecleaste: Diana\n"
          ]
        }
      ]
    },
    {
      "cell_type": "markdown",
      "metadata": {
        "id": "vQNmBbcwB7HL"
      },
      "source": [
        "# ¿Cómo capturar datos numérico?\n",
        "\n",
        "Para ello se hace una conversión entre tipos...\n",
        "casting... consiste en llamar al constructor de la clase deseada\n",
        "\n",
        "## Ejemplo convertir el string \"2\" en numero \n",
        "### num = int( \"2\")"
      ]
    },
    {
      "cell_type": "code",
      "metadata": {
        "colab": {
          "base_uri": "https://localhost:8080/"
        },
        "id": "Y0TOO-_sCZ4h",
        "outputId": "4fceb9c8-99b6-44a6-8a2e-e7109af4f2ae"
      },
      "source": [
        "entrada = input(\"Dame tu edad: \")\n",
        "edad = int(entrada)\n",
        "edad += 1 # edad = edad + 1\n",
        "print(\"Tu edad es:\", edad )\n"
      ],
      "execution_count": null,
      "outputs": [
        {
          "output_type": "stream",
          "name": "stdout",
          "text": [
            "Dame tu edad: 4\n",
            "Tu edad es: 5\n"
          ]
        }
      ]
    },
    {
      "cell_type": "code",
      "metadata": {
        "colab": {
          "base_uri": "https://localhost:8080/"
        },
        "id": "dhzIDw9JC794",
        "outputId": "3e1054c6-b268-403d-d3c2-a2d9cfce423f"
      },
      "source": [
        "# lo mismo pero con menos codigo \n",
        "\n",
        "edad = int(input(\"Dame tu edad:\"))\n",
        "print(\"Tu edad es\", edad+1 )"
      ],
      "execution_count": null,
      "outputs": [
        {
          "output_type": "stream",
          "name": "stdout",
          "text": [
            "Dame tu edad:4\n",
            "Tu edad es 5\n"
          ]
        }
      ]
    },
    {
      "cell_type": "code",
      "metadata": {
        "colab": {
          "base_uri": "https://localhost:8080/"
        },
        "id": "rmfTBdunDST7",
        "outputId": "cd25c424-db4a-4a1b-9158-4b7eff18c2cf"
      },
      "source": [
        "estatura = float(input(\"Dame tu estatura:\"))\n",
        "print(\"Tu estatura es:\", estatura+0.1 )"
      ],
      "execution_count": null,
      "outputs": [
        {
          "output_type": "stream",
          "name": "stdout",
          "text": [
            "Dame tu estatura:1.47\n",
            "Tu estatura es: 1.57\n"
          ]
        }
      ]
    },
    {
      "cell_type": "code",
      "metadata": {
        "colab": {
          "base_uri": "https://localhost:8080/"
        },
        "id": "0EO6qDMAEXcT",
        "outputId": "c6162cf0-4893-45cd-dc58-054c3a683c84"
      },
      "source": [
        "# inputs de booleans\n",
        "\n",
        "casado = bool(int(input(\"Soltero (0) casado (1)\")))\n",
        "print( \"casado=\", casado)"
      ],
      "execution_count": null,
      "outputs": [
        {
          "output_type": "stream",
          "name": "stdout",
          "text": [
            "Soltero (0) casado (1)0\n",
            "casado= False\n"
          ]
        }
      ]
    },
    {
      "cell_type": "markdown",
      "metadata": {
        "id": "bApVtR7YFeY9"
      },
      "source": [
        "#Tipos de datos estructurados de pyton \n",
        "1. Listas\n",
        "2. Tuplas\n",
        "3. Diccionarios \n",
        "4. Conjuntos(opcional)\n"
      ]
    },
    {
      "cell_type": "markdown",
      "metadata": {
        "id": "sZ9RDVlTFsJp"
      },
      "source": [
        "# Listas \n",
        "\n",
        "- Tipo de dato que agrupa variables o valores.\n",
        "- Estructura secuencial()\n",
        "- Se declara de dos formas#\n",
        "- usando []\n",
        "- usando list ()\n",
        "- usando un generaador \n",
        "- Puede contener tipos de dato diversos (En otros lenguaje de prog. eso no es podible de forma directa)\n",
        "- Los elementos internos se seleccionan con []\n",
        "- Soporta slicing \n",
        "- SON MUTABLES\n",
        "- GENERADORES[var for x in range(10)]\n",
        "- Al ser una clase contiene muchos métodos útiles \n"
      ]
    },
    {
      "cell_type": "markdown",
      "metadata": {
        "id": "WPa6_sa38Zg7"
      },
      "source": [
        "|"
      ]
    },
    {
      "cell_type": "code",
      "metadata": {
        "colab": {
          "base_uri": "https://localhost:8080/"
        },
        "id": "_N4o2KTnGu_a",
        "outputId": "1e1dc867-06d7-4013-ab2e-fad5f640cd71"
      },
      "source": [
        "numeros = [10, 5, 2 , 3 , 1]\n",
        "print(numeros)\n",
        "\n",
        "numeros2 = list()\n",
        "numeros2.append(10)\n",
        "numeros2.append(5)\n",
        "numeros2.append(2)\n",
        "numeros2.append(3)\n",
        "numeros2.append(1)\n",
        "print(numeros2)\n",
        "numeros[2] = 20 \n",
        "print(numeros)\n",
        "numeros[-1  ] = 33\n",
        "numeros.append(88)\n",
        "print(numeros)\n"
      ],
      "execution_count": null,
      "outputs": [
        {
          "output_type": "stream",
          "name": "stdout",
          "text": [
            "[10, 5, 2, 3, 1]\n",
            "[10, 5, 2, 3, 1]\n",
            "[10, 5, 20, 3, 1]\n",
            "[10, 5, 20, 3, 33, 88]\n"
          ]
        }
      ]
    },
    {
      "cell_type": "code",
      "metadata": {
        "colab": {
          "base_uri": "https://localhost:8080/"
        },
        "id": "4-WU-_zUIvxR",
        "outputId": "4b1b111b-1a47-4ad2-f873-16c49b3fbe65"
      },
      "source": [
        "# Tipos diversos \n",
        "\n",
        "cosas = [12, 2 , True, \"José\" , 1.57 , [\"pera\", \"kiwi\", \"uva\"]]\n",
        "print(cosas)\n",
        "print( cosas[1] )\n",
        "print( cosas [4] )\n",
        "print( cosas[5] )\n",
        "print( cosas[5][1] )\n",
        "print( cosas[3][1:3] )\n",
        "cosas[3] = cosas[3].upper()\n",
        "print(cosas) \n"
      ],
      "execution_count": null,
      "outputs": [
        {
          "output_type": "stream",
          "name": "stdout",
          "text": [
            "[12, 2, True, 'José', 1.57, ['pera', 'kiwi', 'uva']]\n",
            "2\n",
            "1.57\n",
            "['pera', 'kiwi', 'uva']\n",
            "kiwi\n",
            "os\n",
            "[12, 2, True, 'JOSÉ', 1.57, ['pera', 'kiwi', 'uva']]\n"
          ]
        }
      ]
    },
    {
      "cell_type": "code",
      "metadata": {
        "colab": {
          "base_uri": "https://localhost:8080/"
        },
        "id": "13MzvNFQL3d1",
        "outputId": "6fe77a50-6ea0-437d-f937-976433572691"
      },
      "source": [
        "numeros= [1,2,3,4,5,6,7,8,9,10,11]\n",
        "print(numeros)\n",
        "# slicing \n",
        "# 1.- 4 al 8?\n",
        "print(numeros[3:8])\n",
        "# 2.-  [9,10]?\n",
        "print(numeros[8:10])\n",
        "print(numeros[-3:-1])\n",
        "#3.- La lista al reves \n",
        "print(numeros[ ::-1])\n"
      ],
      "execution_count": null,
      "outputs": [
        {
          "output_type": "stream",
          "name": "stdout",
          "text": [
            "[1, 2, 3, 4, 5, 6, 7, 8, 9, 10, 11]\n",
            "[4, 5, 6, 7, 8]\n",
            "[9, 10]\n",
            "[9, 10]\n",
            "[11, 10, 9, 8, 7, 6, 5, 4, 3, 2, 1]\n"
          ]
        }
      ]
    },
    {
      "cell_type": "code",
      "metadata": {
        "colab": {
          "base_uri": "https://localhost:8080/"
        },
        "id": "1LpOhbb6PuAu",
        "outputId": "078b5076-16de-48c9-c3ae-bb617adf792b"
      },
      "source": [
        "# crear una lista con un generador\n",
        "numeros = [ x*3 for x in range(101) ] # ese asterisco por tres hace que vayan de tres en tres \n",
        "print(numeros)\n"
      ],
      "execution_count": null,
      "outputs": [
        {
          "output_type": "stream",
          "name": "stdout",
          "text": [
            "[0, 3, 6, 9, 12, 15, 18, 21, 24, 27, 30, 33, 36, 39, 42, 45, 48, 51, 54, 57, 60, 63, 66, 69, 72, 75, 78, 81, 84, 87, 90, 93, 96, 99, 102, 105, 108, 111, 114, 117, 120, 123, 126, 129, 132, 135, 138, 141, 144, 147, 150, 153, 156, 159, 162, 165, 168, 171, 174, 177, 180, 183, 186, 189, 192, 195, 198, 201, 204, 207, 210, 213, 216, 219, 222, 225, 228, 231, 234, 237, 240, 243, 246, 249, 252, 255, 258, 261, 264, 267, 270, 273, 276, 279, 282, 285, 288, 291, 294, 297, 300]\n"
          ]
        }
      ]
    },
    {
      "cell_type": "markdown",
      "metadata": {
        "id": "uKLNTkBzQWzP"
      },
      "source": [
        "# Funcion range()\n",
        "Tiene los mismos componetes que slicing ,\n",
        " ini, stop, incremento \n",
        "\n",
        "range(1,101,1)\n",
        "\n"
      ]
    },
    {
      "cell_type": "code",
      "metadata": {
        "colab": {
          "base_uri": "https://localhost:8080/"
        },
        "id": "yF7qZEo2QukE",
        "outputId": "9b46c10a-06ff-401d-d52e-585844cf75fb"
      },
      "source": [
        "numeros = [ x for x in range(50, 101, 2) ]\n",
        "print(numeros)"
      ],
      "execution_count": null,
      "outputs": [
        {
          "output_type": "stream",
          "name": "stdout",
          "text": [
            "[50, 52, 54, 56, 58, 60, 62, 64, 66, 68, 70, 72, 74, 76, 78, 80, 82, 84, 86, 88, 90, 92, 94, 96, 98, 100]\n"
          ]
        }
      ]
    },
    {
      "cell_type": "markdown",
      "metadata": {
        "id": "DCTd6CdIQtxS"
      },
      "source": [
        "# Métodos disponibles de las listas "
      ]
    },
    {
      "cell_type": "code",
      "metadata": {
        "colab": {
          "base_uri": "https://localhost:8080/"
        },
        "id": "1HdRFoccRP34",
        "outputId": "4ebaabf1-dde2-4a59-c703-ee43a8e515da"
      },
      "source": [
        "dir(list)\n"
      ],
      "execution_count": null,
      "outputs": [
        {
          "output_type": "execute_result",
          "data": {
            "text/plain": [
              "['__add__',\n",
              " '__class__',\n",
              " '__contains__',\n",
              " '__delattr__',\n",
              " '__delitem__',\n",
              " '__dir__',\n",
              " '__doc__',\n",
              " '__eq__',\n",
              " '__format__',\n",
              " '__ge__',\n",
              " '__getattribute__',\n",
              " '__getitem__',\n",
              " '__gt__',\n",
              " '__hash__',\n",
              " '__iadd__',\n",
              " '__imul__',\n",
              " '__init__',\n",
              " '__init_subclass__',\n",
              " '__iter__',\n",
              " '__le__',\n",
              " '__len__',\n",
              " '__lt__',\n",
              " '__mul__',\n",
              " '__ne__',\n",
              " '__new__',\n",
              " '__reduce__',\n",
              " '__reduce_ex__',\n",
              " '__repr__',\n",
              " '__reversed__',\n",
              " '__rmul__',\n",
              " '__setattr__',\n",
              " '__setitem__',\n",
              " '__sizeof__',\n",
              " '__str__',\n",
              " '__subclasshook__',\n",
              " 'append',\n",
              " 'clear',\n",
              " 'copy',\n",
              " 'count',\n",
              " 'extend',\n",
              " 'index',\n",
              " 'insert',\n",
              " 'pop',\n",
              " 'remove',\n",
              " 'reverse',\n",
              " 'sort']"
            ]
          },
          "metadata": {},
          "execution_count": 65
        }
      ]
    },
    {
      "cell_type": "markdown",
      "metadata": {
        "id": "eDe6xSp8ReTO"
      },
      "source": [
        "- append, anexion a una lista \n",
        "- clear, deja lista vacia\n",
        "- copy, crea una copia de referencia de la lista \n",
        "- count, cuenta eleemntos \n",
        "- extend, concatenaa listas \n",
        "- index, recibe un valor, lo busca y en la primer coincidencia te dice en que indice esta \n",
        "- insert, posiscion donde quieres insertar un valor, el valor que quieras insertar \n",
        "- pop,  toma el elemento de la derecha, lo quita y lo regresa \n",
        "- remove, va a quitar el elemento ymueve a la izquierda \n",
        "- reverse, va a poner en orden inverso la lista \n",
        "- sort, ordenar de mayor a menor \n"
      ]
    },
    {
      "cell_type": "code",
      "metadata": {
        "colab": {
          "base_uri": "https://localhost:8080/"
        },
        "id": "IUN7czxdSXeT",
        "outputId": "43a1cb4e-745f-4250-9d21-0d817d2f8f29"
      },
      "source": [
        "numeros = [ 4,1,15,8,22,34,50 ]\n",
        "print(numeros)\n",
        "numeros.append(99) #agregar numero\n",
        "print(numeros)\n",
        "\n",
        "\n",
        "\n",
        "frutas = [\"uvas\", \"kiwi\", \"manzana\" ]\n",
        "copia = frutas\n",
        "print(frutas)\n",
        "print(copia)\n",
        "frutas.append(\" naranja\")\n",
        "print(frutas)\n",
        "print(copia)\n",
        "\n",
        "colores = [\"rojo\", \"azul\", \"blanco\"]\n",
        "copia2= colores.copy()\n",
        "print(colores)\n",
        "print(copia2)\n",
        "colores.append(\"verde \")\n",
        "print(colores)\n",
        "print(copia2)\n",
        "\n",
        "print(\"numero de veces que aparece el 15=\", numeros.count(15))\n",
        "\n",
        "#extend\n",
        "\n",
        "nombre = [\"jose\", \"pedro\", \"karina\"]\n",
        "otrosNombres = [\"josue\", \"diana\", \"dalia\"]\n",
        "nombres = nombre + otrosNombres\n",
        "print(nombre)\n",
        "print(otrosNombres)\n",
        "print(\"jose esta en la posicion:\", nombre.index(\"jose\"))\n",
        "otrosNombres.insert(4, \"Espiritu santo\")\n",
        "print(otrosNombres)\n",
        "\n",
        "#pop\n",
        "resultado = otrosNombres.pop\n",
        "print(otrosNombres)\n",
        "print(resultado)"
      ],
      "execution_count": null,
      "outputs": [
        {
          "output_type": "stream",
          "name": "stdout",
          "text": [
            "[4, 1, 15, 8, 22, 34, 50]\n",
            "[4, 1, 15, 8, 22, 34, 50, 99]\n",
            "['uvas', 'kiwi', 'manzana']\n",
            "['uvas', 'kiwi', 'manzana']\n",
            "['uvas', 'kiwi', 'manzana', ' naranja']\n",
            "['uvas', 'kiwi', 'manzana', ' naranja']\n",
            "['rojo', 'azul', 'blanco']\n",
            "['rojo', 'azul', 'blanco']\n",
            "['rojo', 'azul', 'blanco', 'verde ']\n",
            "['rojo', 'azul', 'blanco']\n",
            "numero de veces que aparece el 15= 1\n",
            "['jose', 'pedro', 'karina']\n",
            "['josue', 'diana', 'dalia']\n",
            "jose esta en la posicion: 0\n",
            "['josue', 'diana', 'dalia', 'Espiritu santo']\n",
            "['josue', 'diana', 'dalia', 'Espiritu santo']\n",
            "<built-in method pop of list object at 0x7f0bded9cb90>\n"
          ]
        }
      ]
    },
    {
      "cell_type": "code",
      "metadata": {
        "id": "iCbRzLbWfZch"
      },
      "source": [
        ""
      ],
      "execution_count": null,
      "outputs": []
    },
    {
      "cell_type": "markdown",
      "metadata": {
        "id": "6qUi_9OKwCN4"
      },
      "source": [
        "# Tuplas\n",
        "### Caracrcteristicas de las tuplas \n",
        "- datos agrupados \n",
        "- Se declara usando #\n",
        "       - ()\n",
        "       - tuple()\n",
        "-Estructura secuencial, indexada desde 0 \n",
        "- pueden tener de 0 a n elementos \n",
        "- NO SON MUTABLES (NO SE PUEDEN MODIFICAR NI ELIMINAR)\n",
        "- Son buenas para almacenar informacion de consulta. \n",
        "- Pueden almacenar informacion de diferentes tipos de datos.\n",
        "- Pueden estar anidadas \n",
        "- Tienen metodos utiles \n",
        "\n"
      ]
    },
    {
      "cell_type": "code",
      "metadata": {
        "colab": {
          "base_uri": "https://localhost:8080/"
        },
        "id": "p1cAs9GCw5DL",
        "outputId": "0c29a732-9cab-4b49-ef2d-37c6a06205c3"
      },
      "source": [
        "info = (\"diana23\", \"dios1234\", \"123.232.1.12\")\n",
        "print(info)\n",
        "print(info[1])\n",
        "#info[ 1 ] = \"patito 23\" es algo que no se puede hacer \n",
        "\n",
        "numeros = (0,1,2,3,4,5,6,7,8,9,10,11,12,13,14,15)\n",
        "print(numeros)\n",
        "print(numeros[5:11])\n",
        "\n",
        "cosas = (info, numeros, )\n",
        "print(cosas)\n",
        "print(cosas[1][5:11:1])\n",
        "print(cosas[0][2][4:7])\n",
        "print(cosas[0][2][-8:-5])"
      ],
      "execution_count": null,
      "outputs": [
        {
          "output_type": "stream",
          "name": "stdout",
          "text": [
            "('diana23', 'dios1234', '123.232.1.12')\n",
            "dios1234\n",
            "(0, 1, 2, 3, 4, 5, 6, 7, 8, 9, 10, 11, 12, 13, 14, 15)\n",
            "(5, 6, 7, 8, 9, 10)\n",
            "(('diana23', 'dios1234', '123.232.1.12'), (0, 1, 2, 3, 4, 5, 6, 7, 8, 9, 10, 11, 12, 13, 14, 15))\n",
            "(5, 6, 7, 8, 9, 10)\n",
            "232\n",
            "232\n"
          ]
        }
      ]
    },
    {
      "cell_type": "code",
      "metadata": {
        "id": "O8Xw5Vx02DCP"
      },
      "source": [
        ""
      ],
      "execution_count": null,
      "outputs": []
    },
    {
      "cell_type": "markdown",
      "metadata": {
        "id": "Hw8HuY6T0sg2"
      },
      "source": [
        "# metodos de los tuplas \n",
        "### son los mismo de las listas pero los que no involucran mutabilidad\n"
      ]
    },
    {
      "cell_type": "code",
      "metadata": {
        "colab": {
          "base_uri": "https://localhost:8080/"
        },
        "id": "H4uCK0Wo1OMV",
        "outputId": "b512227b-889c-4356-9489-5202ed3d915b"
      },
      "source": [
        "dir(tuple)\n"
      ],
      "execution_count": null,
      "outputs": [
        {
          "output_type": "execute_result",
          "data": {
            "text/plain": [
              "['__add__',\n",
              " '__class__',\n",
              " '__contains__',\n",
              " '__delattr__',\n",
              " '__dir__',\n",
              " '__doc__',\n",
              " '__eq__',\n",
              " '__format__',\n",
              " '__ge__',\n",
              " '__getattribute__',\n",
              " '__getitem__',\n",
              " '__getnewargs__',\n",
              " '__gt__',\n",
              " '__hash__',\n",
              " '__init__',\n",
              " '__init_subclass__',\n",
              " '__iter__',\n",
              " '__le__',\n",
              " '__len__',\n",
              " '__lt__',\n",
              " '__mul__',\n",
              " '__ne__',\n",
              " '__new__',\n",
              " '__reduce__',\n",
              " '__reduce_ex__',\n",
              " '__repr__',\n",
              " '__rmul__',\n",
              " '__setattr__',\n",
              " '__sizeof__',\n",
              " '__str__',\n",
              " '__subclasshook__',\n",
              " 'count',\n",
              " 'index']"
            ]
          },
          "metadata": {},
          "execution_count": 16
        }
      ]
    },
    {
      "cell_type": "markdown",
      "metadata": {
        "id": "6kUL_VFM2wdu"
      },
      "source": [
        "# Diccionarios \n",
        "### caracateristicas de los diccionarios \n",
        "\n",
        "- Agrupan datos pero de forma lineal\n",
        "- se declaran con :\n",
        "    - {}\n",
        "    -dict()\n",
        "- Formado por pares del tipo llave:valor, donde:\n",
        "     - llave es de tipo string(siempre)\n",
        "     - Valor puede ser cualquier ripo de datos, incluyendo los diccionarios. \n",
        "- Se seleccionan con la llave de la forma [ \"id_llave\"]\n",
        "- Son mutables\n",
        "- Son equivalentes al tipo de dato JSON del lenguaje JavaScript(JS)\n"
      ]
    },
    {
      "cell_type": "code",
      "metadata": {
        "colab": {
          "base_uri": "https://localhost:8080/"
        },
        "id": "e3vSqONz4kZf",
        "outputId": "ea0c349d-d64f-4d8c-dc58-3bb0450701bb"
      },
      "source": [
        "alumno = { \"nombre\" : \"Diana\" }\n",
        "print( alumno)\n",
        "print( alumno[\"nombre\"])\n",
        "alumno = { \"nombre\": \"Diana\" , \"nc\":\"2129229292\" , \"edad\":18}\n",
        "print( alumno[\"edad\"])\n",
        "print(\"Edad del alumno =\" , alumno[\"edad\"])\n",
        "print(alumno[\"nombre\"].upper())\n",
        "\n",
        "alumno2 = dict() # {}\n",
        "alumno2[\"nombre\"] = \"Diana\"\n",
        "print(alumno2)\n",
        "alumno2[\"nc\"] = \"2129229292\"\n",
        "alumno2[\"edad\"] = 18\n",
        "print(alumno2)\n",
        "alumno2[\"edad\"] = alumno2[\"edad\"] + 1\n",
        "print(alumno2)\n",
        "\n"
      ],
      "execution_count": null,
      "outputs": [
        {
          "output_type": "stream",
          "name": "stdout",
          "text": [
            "{'nombre': 'Diana'}\n",
            "Diana\n",
            "18\n",
            "Edad del alumno = 18\n",
            "DIANA\n",
            "{'nombre': 'Diana'}\n",
            "{'nombre': 'Diana', 'nc': '2129229292', 'edad': 18}\n",
            "{'nombre': 'Diana', 'nc': '2129229292', 'edad': 19}\n"
          ]
        }
      ]
    },
    {
      "cell_type": "code",
      "metadata": {
        "colab": {
          "base_uri": "https://localhost:8080/",
          "height": 422
        },
        "id": "diVAs9zS8PB-",
        "outputId": "581b2795-b0ef-44f8-b0df-f3803ea16833"
      },
      "source": [
        "cliente = { \"id\":\"CT2121\" ,\n",
        "           \"nombre\" : \"Diana Moreno Sánchez\" ,\n",
        "           \"telefonos\" : \"casa=554456565 cel=0445567767\"}\n",
        "\n",
        "print(cliente)\n",
        "\n",
        "cliente = {\"id\":\"CT2121\",\n",
        "           \"nombre\":\"José Eduardo Pedroza Rosales\",\n",
        "           \"Teléfono\":\"casa=5544878787 cel:044556767677\" }\n",
        "print(cliente)    \n",
        "cliente = {\"id\":\"CT2121\" ,\n",
        "           \"nombre\": {\n",
        "               \"nombres\":[\"José\",\"Eduardo\"],\n",
        "               \"paterno\":\"Pedroza\",\n",
        "               \"materno\":\"Rosales\"\n",
        "              } ,\n",
        "           \"Teléfono\": {\n",
        "               \"casa\":\"5544878787\",\n",
        "               \"trabajo\":\"55-443-3232\",\n",
        "               \"celular\":\"044556767677\"\n",
        "            } \n",
        "            }\n",
        "print(cliente[\"Teléfono\"][\"casa\"])\n",
        "\n",
        "print(cliente)    \n",
        "cliente = {\"id\":\"CT2121\" ,\n",
        "           \"nombre\": {\n",
        "               \"nombres\":[\"José\",\"Eduardo\"],\n",
        "               \"paterno\":\"Pedroza\",\n",
        "               \"materno\":\"Rosales\"\n",
        "              } ,\n",
        "           \"Teléfono\": {\n",
        "               \"casa\":\"5544878787\",\n",
        "               \"celular\":\"044556767677\"\n",
        "            } ,\n",
        "           \"Productos\":{\n",
        "                        \"ahorro\":{ \"numero_cuenta\":\"7788\", \"ahorro\":2500.5},\n",
        "                        \"t_credito\":[\n",
        "                                     {\"tipo\":\"debito\", \"saldo\":10000.5},\n",
        "                                     {\"tipo\":\"credito preferente\",\"limite\":250000.5},\n",
        "                                     {\"tipo\":\"lite\",\"limite\":15000.5}\n",
        "                        ] ,\n",
        "                       \"direccion\":{\"calle\":\"Av central\",\n",
        "                           \"numero\":1245,\n",
        "                           \"colonia\":\"impulsora\",\n",
        "                           \"delegación\":\"neza\",\n",
        "                           \"estado\": {\n",
        "                               \"clave de estado\":15,\n",
        "                               \"nombre_corto\":\"EdoMex\",\n",
        "                               \"nombre\":\"Estado de México\"\n",
        "                           }\n",
        "                       },\n",
        "                      \n",
        "            } #Esto es una lista debido a los productos que maneja un banco\n",
        "            \n",
        "            }\n",
        "print(cliente)\n",
        "\n",
        "\n",
        "print(cliente[\"Teléfono\"][\"casa\"])\n",
        "print(cliente)\n",
        "print(cliente[\"Productos\"][\"ahorro\"][\"ahorro\"])\n",
        "print(cliente[\"direccion\"][\"estado\"][\"nombre\"].upper())\n",
        "cliente[\"productos\"][\"ahorro\"][\"ahorro\"]-= 1500.0\n",
        "print(cliente[\"productos\"])\n",
        "\n",
        "\n",
        "           \n",
        "\n"
      ],
      "execution_count": null,
      "outputs": [
        {
          "output_type": "stream",
          "name": "stdout",
          "text": [
            "{'id': 'CT2121', 'nombre': 'Diana Moreno Sánchez', 'telefonos': 'casa=554456565 cel=0445567767'}\n",
            "{'id': 'CT2121', 'nombre': 'José Eduardo Pedroza Rosales', 'Teléfono': 'casa=5544878787 cel:044556767677'}\n",
            "5544878787\n",
            "{'id': 'CT2121', 'nombre': {'nombres': ['José', 'Eduardo'], 'paterno': 'Pedroza', 'materno': 'Rosales'}, 'Teléfono': {'casa': '5544878787', 'trabajo': '55-443-3232', 'celular': '044556767677'}}\n",
            "{'id': 'CT2121', 'nombre': {'nombres': ['José', 'Eduardo'], 'paterno': 'Pedroza', 'materno': 'Rosales'}, 'Teléfono': {'casa': '5544878787', 'celular': '044556767677'}, 'Productos': {'ahorro': {'numero_cuenta': '7788', 'ahorro': 2500.5}, 't_credito': [{'tipo': 'debito', 'saldo': 10000.5}, {'tipo': 'credito preferente', 'limite': 250000.5}, {'tipo': 'lite', 'limite': 15000.5}], 'direccion': {'calle': 'Av central', 'numero': 1245, 'colonia': 'impulsora', 'delegación': 'neza', 'estado': {'clave de estado': 15, 'nombre_corto': 'EdoMex', 'nombre': 'Estado de México'}}}}\n",
            "5544878787\n",
            "{'id': 'CT2121', 'nombre': {'nombres': ['José', 'Eduardo'], 'paterno': 'Pedroza', 'materno': 'Rosales'}, 'Teléfono': {'casa': '5544878787', 'celular': '044556767677'}, 'Productos': {'ahorro': {'numero_cuenta': '7788', 'ahorro': 2500.5}, 't_credito': [{'tipo': 'debito', 'saldo': 10000.5}, {'tipo': 'credito preferente', 'limite': 250000.5}, {'tipo': 'lite', 'limite': 15000.5}], 'direccion': {'calle': 'Av central', 'numero': 1245, 'colonia': 'impulsora', 'delegación': 'neza', 'estado': {'clave de estado': 15, 'nombre_corto': 'EdoMex', 'nombre': 'Estado de México'}}}}\n",
            "2500.5\n"
          ]
        },
        {
          "output_type": "error",
          "ename": "KeyError",
          "evalue": "ignored",
          "traceback": [
            "\u001b[0;31m---------------------------------------------------------------------------\u001b[0m",
            "\u001b[0;31mKeyError\u001b[0m                                  Traceback (most recent call last)",
            "\u001b[0;32m<ipython-input-21-cfcead74d425>\u001b[0m in \u001b[0;36m<module>\u001b[0;34m()\u001b[0m\n\u001b[1;32m     61\u001b[0m \u001b[0mprint\u001b[0m\u001b[0;34m(\u001b[0m\u001b[0mcliente\u001b[0m\u001b[0;34m)\u001b[0m\u001b[0;34m\u001b[0m\u001b[0;34m\u001b[0m\u001b[0m\n\u001b[1;32m     62\u001b[0m \u001b[0mprint\u001b[0m\u001b[0;34m(\u001b[0m\u001b[0mcliente\u001b[0m\u001b[0;34m[\u001b[0m\u001b[0;34m\"Productos\"\u001b[0m\u001b[0;34m]\u001b[0m\u001b[0;34m[\u001b[0m\u001b[0;34m\"ahorro\"\u001b[0m\u001b[0;34m]\u001b[0m\u001b[0;34m[\u001b[0m\u001b[0;34m\"ahorro\"\u001b[0m\u001b[0;34m]\u001b[0m\u001b[0;34m)\u001b[0m\u001b[0;34m\u001b[0m\u001b[0;34m\u001b[0m\u001b[0m\n\u001b[0;32m---> 63\u001b[0;31m \u001b[0mprint\u001b[0m\u001b[0;34m(\u001b[0m\u001b[0mcliente\u001b[0m\u001b[0;34m[\u001b[0m\u001b[0;34m\"direccion\"\u001b[0m\u001b[0;34m]\u001b[0m\u001b[0;34m[\u001b[0m\u001b[0;34m\"estado\"\u001b[0m\u001b[0;34m]\u001b[0m\u001b[0;34m[\u001b[0m\u001b[0;34m\"nombre\"\u001b[0m\u001b[0;34m]\u001b[0m\u001b[0;34m.\u001b[0m\u001b[0mupper\u001b[0m\u001b[0;34m(\u001b[0m\u001b[0;34m)\u001b[0m\u001b[0;34m)\u001b[0m\u001b[0;34m\u001b[0m\u001b[0;34m\u001b[0m\u001b[0m\n\u001b[0m\u001b[1;32m     64\u001b[0m \u001b[0mcliente\u001b[0m\u001b[0;34m[\u001b[0m\u001b[0;34m\"productos\"\u001b[0m\u001b[0;34m]\u001b[0m\u001b[0;34m[\u001b[0m\u001b[0;34m\"ahorro\"\u001b[0m\u001b[0;34m]\u001b[0m\u001b[0;34m[\u001b[0m\u001b[0;34m\"ahorro\"\u001b[0m\u001b[0;34m]\u001b[0m\u001b[0;34m-=\u001b[0m \u001b[0;36m1500.0\u001b[0m\u001b[0;34m\u001b[0m\u001b[0;34m\u001b[0m\u001b[0m\n\u001b[1;32m     65\u001b[0m \u001b[0mprint\u001b[0m\u001b[0;34m(\u001b[0m\u001b[0mcliente\u001b[0m\u001b[0;34m[\u001b[0m\u001b[0;34m\"productos\"\u001b[0m\u001b[0;34m]\u001b[0m\u001b[0;34m)\u001b[0m\u001b[0;34m\u001b[0m\u001b[0;34m\u001b[0m\u001b[0m\n",
            "\u001b[0;31mKeyError\u001b[0m: 'direccion'"
          ]
        }
      ]
    },
    {
      "cell_type": "markdown",
      "metadata": {
        "id": "Koe-GrK_MkML"
      },
      "source": [
        "#Estructuras de control de programación\n",
        "\n",
        "Se puede crear cualquier tipo de algoritmo empleando solamente 3 estructuras de control:\n",
        "\n",
        "1. Secuencia: \n",
        " - La representación de la memoria de programa (Arquitectura Vonn Newman)\n",
        "  \n",
        "2. Selección:\n",
        " - Es la estructura de control decide si un bloque de programa se ejecuta o no se ejecuta. También permite seleccionar ejecutar un bloque entre un conjunto de opciones.\n",
        "    En resumen tenemos : Seleección simple, selección con bifurcación y selección múltiple.\n",
        "\n",
        "3. Repetición:\n",
        " - Este tipo de estructura nos permite automatizar la ejecución repetitiva de código mientras ciertas condiciones cumplan, tenemos 3 variantes de esta estructura en todos los lenguajes de programación:\n",
        "  - Desde... hasta (estructura for)\n",
        "  - haz mientras (estructura While)\n",
        "  - Haz y luego validez mientras ( estructura Do-While)"
      ]
    },
    {
      "cell_type": "markdown",
      "metadata": {
        "id": "51sl0tD5SBAa"
      },
      "source": [
        "# seleccion simple \n",
        "-- Documentar, o poner notas \n",
        "\n",
        "la estructura if \n",
        "\n",
        "```\n",
        "if <CONDICION>:\n",
        "    <cUERPO DEL IF>\n",
        "```\n",
        "\n",
        "*Nota* Para establecer el cuerpo \n",
        "\n",
        "En otros lenguajes de programacion como Java, C y C ++... se usan las llaves{ }\n",
        "\n",
        "```\n",
        "int edad =0\n",
        "printf(\"Dame tu edad\");\n",
        "scanf(\"%i\", & edad);\n",
        "if(edad >=18){\n",
        "  printf(\"ERES MAYOR DE EDAD\");\n",
        "}\n",
        "  printf(\"Fin de programa\");\n",
        "````"
      ]
    },
    {
      "cell_type": "code",
      "metadata": {
        "id": "Npkoe6018YEj",
        "colab": {
          "base_uri": "https://localhost:8080/"
        },
        "outputId": "c516bd14-2815-4830-ba89-419def807329"
      },
      "source": [
        " edad = int(input(\"Dame tu edad:\"))\n",
        " print(f\"Tecleaste {edad} años\")\n",
        " if edad >=18 :\n",
        "    print(\"ERES MAYOR DE EDAD\")\n",
        "    print(\"Algo\")\n",
        "print(\"Otra cosa\")\n",
        "print(\"Fin de programa\")"
      ],
      "execution_count": null,
      "outputs": [
        {
          "output_type": "stream",
          "name": "stdout",
          "text": [
            "Dame tu edad:23\n",
            "Tecleaste 23 años\n",
            "ERES MAYOR DE EDAD\n",
            "Algo\n",
            "Otra cosa\n",
            "Fin de programa\n"
          ]
        }
      ]
    },
    {
      "cell_type": "code",
      "metadata": {
        "colab": {
          "base_uri": "https://localhost:8080/"
        },
        "id": "xKu9IA2FW6QF",
        "outputId": "e4516911-5a7f-4378-aaa2-bd6fd6021df3"
      },
      "source": [
        "CAL = float( input(\"Dame tu calificacion: \"))\n",
        "if CAL > 8 :\n",
        "    print(\"ESTAS APROBADO\")\n",
        "    print(\"Fin del programa\")"
      ],
      "execution_count": null,
      "outputs": [
        {
          "name": "stdout",
          "output_type": "stream",
          "text": [
            "Dame tu calificacion: 7.99\n"
          ]
        }
      ]
    },
    {
      "cell_type": "code",
      "metadata": {
        "colab": {
          "base_uri": "https://localhost:8080/"
        },
        "id": "srjQgdx3YYqK",
        "outputId": "88be7750-6148-4371-8535-eede880aa5bc"
      },
      "source": [
        "SUE = float(input(\"Escribe el sueldo: \"))\n",
        "AUM = 0\n",
        "MSUE = 0\n",
        "\n",
        "if SUE < 1000 :\n",
        "    AUM = SUE* 0.15\n",
        "    MSUE = SUE + AUM \n",
        "    print(MSUE)"
      ],
      "execution_count": null,
      "outputs": [
        {
          "output_type": "stream",
          "name": "stdout",
          "text": [
            "Escribe el sueldo: 875.50\n",
            "1006.825\n"
          ]
        }
      ]
    },
    {
      "cell_type": "markdown",
      "metadata": {
        "id": "M-RBZK8bGmfV"
      },
      "source": [
        "# estructura de seleccion con bifurcacion (if-else)\n",
        "\n",
        "Esta estructura selecciona una de dos opciones de ejecución, se ejecuta un bloque si la condición se cumple o se ejecuta otro bloque si la condición no se cumple(else).\n",
        "\n",
        "```\n",
        "if <condicion> :\n",
        "   <bloque de ejecución>\n",
        "else:\n",
        "   <bloque de ejecución alterno>\n",
        "   \n",
        "```"
      ]
    },
    {
      "cell_type": "code",
      "metadata": {
        "colab": {
          "base_uri": "https://localhost:8080/"
        },
        "id": "lBfTH5VLHf_f",
        "outputId": "d5bcf754-1f83-4db9-8485-7284029b3930"
      },
      "source": [
        "edad = int(input(\"Dame tu edad:\"))\n",
        "print(f\"Tecleaste {edad} años\")\n",
        "if edad >=18:\n",
        "    print(\"Eres mayor de edad, ten tú cheve \")\n",
        "else:\n",
        "    print(\"Eres menor de edad, ten tú Boing\")\n",
        "print(\"fin del programa\") #Que este pegado a la izquierda es que forma parte del programa principal y siempre va a estar "
      ],
      "execution_count": null,
      "outputs": [
        {
          "output_type": "stream",
          "name": "stdout",
          "text": [
            "Dame tu edad:18\n",
            "Tecleaste 18 años\n",
            "Eres mayor de edad, ten tú cheve \n",
            "fin del programa\n"
          ]
        }
      ]
    },
    {
      "cell_type": "code",
      "metadata": {
        "colab": {
          "base_uri": "https://localhost:8080/"
        },
        "id": "mXaHIg3bJMA6",
        "outputId": "76c52f31-7c09-4f92-d990-a058bdef7e44"
      },
      "source": [
        "# Este lo hice yo \n",
        "edad = int(input(\"Dame tu edad:\"))\n",
        "print(f\"Tecleaste {edad} años\")\n",
        "if edad >=18:\n",
        "    print(\"Eres mayor de edad, ten tú cheve \")\n",
        "else:\n",
        "    print(\"Eres menor de edad, ten tú Boing\")\n",
        "dinero = float(input(\"¿Cuánto dinero tienes?:\"))\n",
        "if dinero >=36:\n",
        "   print(\"Tienes el dinero suficiente\")\n",
        "else:\n",
        "     print(\"No tienes el dinero suficiente \")\n",
        "print(\"Fin del programa\")\n",
        "\n",
        "#   Este es \n",
        "edad = int (input(\"Dame tu edad:\"))\n",
        "dinero = int (input(\"¿Cuánto dinero tienes?\"))\n",
        "if edad >= 18:\n",
        "    if dinero >=35:\n",
        "        print(\"Eres mayor de edad y tienes dinero, ten tu cheve\")\n",
        "    else:\n",
        "        print(\"No tienes suficiente dinero\")\n",
        "else:\n",
        "    print(\"Eres menor de edad, ten tu Boing\")\n",
        "print(\"Fin del programa\")\n",
        "\n"
      ],
      "execution_count": null,
      "outputs": [
        {
          "output_type": "stream",
          "name": "stdout",
          "text": [
            "Dame tu edad:16\n",
            "Tecleaste 16 años\n",
            "Eres menor de edad, ten tú Boing\n",
            "¿Cuánto dinero tienes?:40\n",
            "Tienes el dinero suficiente\n",
            "Fin del programa\n",
            "Dame tu edad:18\n",
            "¿Cuánto dinero tienes?1\n",
            "No tienes suficiente dinero\n",
            "Fin del programa\n"
          ]
        }
      ]
    },
    {
      "cell_type": "code",
      "metadata": {
        "colab": {
          "base_uri": "https://localhost:8080/"
        },
        "id": "hvTh1dJJJ8aG",
        "outputId": "e31c1340-5f14-4c8c-eb4b-b0e0f36e06f3"
      },
      "source": [
        "calificacion = float(input(\"Dame tu calificacion:\"))\n",
        "print(f\"Tecleaste {calificacion} \")\n",
        "if calificacion >=8:\n",
        "    print(\"Aprobado \")\n",
        "else:\n",
        "    print(\"Reprobado\")\n",
        "\n",
        "    "
      ],
      "execution_count": null,
      "outputs": [
        {
          "output_type": "stream",
          "name": "stdout",
          "text": [
            "Dame tu calificacion:7.99\n",
            "Tecleaste 7.99 \n",
            "Reprobado\n"
          ]
        }
      ]
    },
    {
      "cell_type": "code",
      "metadata": {
        "colab": {
          "base_uri": "https://localhost:8080/"
        },
        "id": "FFGPPOAePNDZ",
        "outputId": "5b3acae0-50ed-471c-8995-13ebba837488"
      },
      "source": [
        "\n",
        "SUE = float(input(\"Escribe el sueldo: \"))\n",
        "AUM = 0 \n",
        "NSUE = 0\n",
        "\n",
        "if SUE < 1000.0 :\n",
        "    AUM = SUE* 0.15\n",
        "    NSUE = SUE + AUM\n",
        "else:\n",
        "    AUM= SUE*0.12\n",
        "    NSUE = SUE + AUM\n",
        "print(f\"Tu nuevo sueldo es: {NSUE}\")\n"
      ],
      "execution_count": null,
      "outputs": [
        {
          "output_type": "stream",
          "name": "stdout",
          "text": [
            "Escribe el sueldo: 1000\n",
            "Tu nuevo sueldo es: 1120.0\n"
          ]
        }
      ]
    },
    {
      "cell_type": "markdown",
      "metadata": {
        "id": "OTGKDxgpSE6_"
      },
      "source": [
        "#Ejercicio if-else\n",
        "### Hacer un programa que solicire el día de la semana en un valor numerico entero del 1-7 (Avisarle al usuario si proporciono un valor fuera del rango \n",
        "\n",
        "### Posteriormente imprimirá el dia de la semana correspondiente al numero acordado "
      ]
    },
    {
      "cell_type": "code",
      "metadata": {
        "colab": {
          "base_uri": "https://localhost:8080/"
        },
        "id": "VbnOwX5IRNSx",
        "outputId": "edcfe2b7-d826-43c2-8f3a-6046cecd6a40"
      },
      "source": [
        "numero = int(input(\"Dame un valor del 1 al 7.   \"))\n",
        "if numero == 1:\n",
        "    print(\"Hoy es lunes\")\n",
        "elif numero == 2:\n",
        "    print(\"Hoy es Martes\")\n",
        "elif numero == 3:\n",
        "    print(\"Hoy es Miercoles\")\n",
        "elif numero == 4:\n",
        "    print(\"Hoy es Jueves\")\n",
        "elif numero == 5:\n",
        "    print(\"Hoy es viernes\")\n",
        "elif numero == 6:\n",
        "    print(\"Hoy es Sabado\")\n",
        "elif numero == 7:\n",
        "    print(\"Hoy es Domingo\")\n",
        "\n",
        "else:\n",
        "    print(\"el valor no está en el parametro\")\n",
        "\n",
        "\n",
        "\n",
        "\n",
        "\n"
      ],
      "execution_count": null,
      "outputs": [
        {
          "output_type": "stream",
          "name": "stdout",
          "text": [
            "Dame un valor del 1 al 7.   9\n",
            "el valor no está en el parametro\n"
          ]
        }
      ]
    },
    {
      "cell_type": "code",
      "metadata": {
        "colab": {
          "base_uri": "https://localhost:8080/"
        },
        "id": "aFSMi0ttUR-W",
        "outputId": "059c3075-4428-4ed3-e2f3-d9ce360951e8"
      },
      "source": [
        "dia = int( input(\"Ingresa un numero entre 1 y 7:  \"))\n",
        "print(f\"Capturaste el numero {dia} \")\n",
        "\n",
        "if dia >=1 and dia <= 7:\n",
        "    if dia == 1:\n",
        "        print(\"Lunes\")\n",
        "    else:\n",
        "        if dia ==2:\n",
        "            print(\"Martes\")\n",
        "        else:\n",
        "            if dia == 3:\n",
        "                print(\"Miercoles\")\n",
        "            else:\n",
        "                if dia == 4:\n",
        "                    print(\"Jueves\")\n",
        "                else:\n",
        "                    if dia == 5:\n",
        "                        print(\"Viernes\")\n",
        "                    else:\n",
        "                        if dia == 6:\n",
        "                            print(\"Sábado\")\n",
        "                        else:\n",
        "                            print(\"Domingo\")\n",
        "                        \n",
        "else:\n",
        "    print(\"Ese numero no esta dentro del rango solicitado\")\n"
      ],
      "execution_count": null,
      "outputs": [
        {
          "output_type": "stream",
          "name": "stdout",
          "text": [
            "Ingresa un numero entre 1 y 7:  5\n",
            "Capturaste el numero 5 \n",
            "Viernes\n"
          ]
        }
      ]
    },
    {
      "cell_type": "markdown",
      "metadata": {
        "id": "rR9zLYTWZiyX"
      },
      "source": [
        "# Hacer un programa que pida dos numeros enteros y que imprima en pantalla lo siguiente:\n",
        "1.Cual de ellos es el numero mayor\n",
        "2.Cual de ellos es el numero menos \n",
        "o en su defecto \n",
        "Imprimir que los valores son iguales\n",
        "\n",
        "#Hacer un programa que slicite 3 numeros enteros diferentes entre si y que imprima cual de los 3 es el mayor \n",
        "\n",
        "#Hacer un programa que solicite 3 numeros enteros diferentes entre si y que imprima cual de los 3 es el menor \n",
        "\n",
        "# Hacer un programa que solicite 4 n numeros enteros diferentes entre si y que imprima cual de los  4es el mayor \n",
        "\n",
        "# Hacer un programa de 4  numeros enteros diferentes entre si y que imprima cual de los 4 es el menor\n",
        "\n"
      ]
    },
    {
      "cell_type": "code",
      "metadata": {
        "colab": {
          "base_uri": "https://localhost:8080/"
        },
        "id": "yvvk0i5gWAoh",
        "outputId": "05cc21ac-f7ce-4200-ffe7-22e2b90dbc34"
      },
      "source": [
        "NUM = int(input(\"Dame un valor entre 1 y 3: \"))\n",
        "V= float(input(\"Dame un valor float \"))\n",
        "VAL= 0\n",
        "if NUM == 1:\n",
        "    VAL == 100 * V \n",
        "elif NUM == 2:\n",
        "    VAL = 100 ** V \n",
        "elif NUM ==3 :\n",
        "    VAL = 0 \n",
        "print(VAL)"
      ],
      "execution_count": null,
      "outputs": [
        {
          "output_type": "stream",
          "name": "stdout",
          "text": [
            "Dame un valor entre 1 y 3: 2\n",
            "Dame un valor float 3\n",
            "1000000.0\n"
          ]
        }
      ]
    },
    {
      "cell_type": "markdown",
      "metadata": {
        "id": "ggkdVFJh4WFR"
      },
      "source": [
        ""
      ]
    },
    {
      "cell_type": "code",
      "metadata": {
        "id": "08yWz9dx4VYw",
        "colab": {
          "base_uri": "https://localhost:8080/"
        },
        "outputId": "8747f9f2-5c7b-4f47-a518-043ec47bebab"
      },
      "source": [
        "3CATE = int(input(\"Introduce la categoría: \"))\n",
        "SUE = float(input(\"Introduce una categoría: \"))\n",
        "\n",
        "if CATE == 1:\n",
        "    SUE = SUE * 1.15;\n",
        "elif CATE == 2:\n",
        "    SUE = SUE * 1.10;\n",
        "elif CATE == 3:\n",
        "    SUE = SUE * 1.08;\n",
        "elif CATE == 4:\n",
        "    SUE = SUE * 1.07;"
      ],
      "execution_count": null,
      "outputs": [
        {
          "name": "stdout",
          "output_type": "stream",
          "text": [
            "Introduce la categoría: 1\n",
            "Introduce una categoría: 2\n"
          ]
        }
      ]
    },
    {
      "cell_type": "markdown",
      "metadata": {
        "id": "onsBY-IR6m3u"
      },
      "source": [
        "# # Selección múltiple (switch)\n",
        "# En python no existe la estructura de selección switch, en su lugar se emplea la palabra reservada:\n",
        "# - elif\n",
        "\n",
        "# Por ejemplo en el lenguaje C y Java sería de la forma:\n",
        "# float SUE= 0.0;\n",
        "# int CATE = 0;\n",
        "\n",
        "# printf(\"Introduce la categoría\")\n",
        "# scanf(\"%i\", &CATE);\n",
        "\n",
        "# switch(CATE){\n",
        "#     case 1:\n",
        "#         SUE = SUE * 1.15;\n",
        "#         break;\n",
        "#     case 2:\n",
        "#         SUE = SUE * 1.15;\n",
        "#         break;   \n",
        "#     case 3:\n",
        "#         SUE = SUE * 1.15;\n",
        "#         break;\n",
        "#     case 4:\n",
        "#         SUE = SUE * 1.15;\n",
        "#         break;\n",
        "#     case 5:\n",
        "#         SUE = SUE * 1.15;\n",
        "#         break;\n",
        "# }\n",
        "\n",
        "# printf(\"Categoría = %i, Sueldo= %f\")"
      ]
    },
    {
      "cell_type": "code",
      "metadata": {
        "colab": {
          "base_uri": "https://localhost:8080/"
        },
        "id": "sI78HhZA5_er",
        "outputId": "23f9c632-b6b3-4d7b-ba6d-5b3eb782a75d"
      },
      "source": [
        "A=int(input(\"Dame un primer numero entero: \"))\n",
        "B=int(input(\"Dame un segundo numero entero diferente: \"))\n",
        "C=int(input(\"Dame un tercer numero entero diferente: \"))\n",
        "\n",
        "if A==B==C or A==B or A==C or B==C:\n",
        "    print(\"ALGUNOS NÚMEROS SON IGUALES, DEBEN SER 3 NUMEROS DIFERENTES\")\n",
        "if A>B:\n",
        "    if A>C: \n",
        "        if B>C:\n",
        "            print(\"ORDEN MAYOR A MENOR : \",A, B, C)\n",
        "        else:\n",
        "            print(\"ORDEN MAYOR A MENOR : \",A, C, B)\n",
        "    else: print(\"ORDEN MAYOR A MENOR : \",C, A, B)\n",
        "else:\n",
        "    if B>C: \n",
        "    \n",
        "        if A>C:\n",
        "            print(\"ORDEN MAYOR A MENOR : \",B, A, C)\n",
        "        else:\n",
        "            print(\"ORDEN MAYOR A MENOR : \",B, C, A)\n",
        "    else: print(\"ORDEN MAYOR A MENOR : \",C, B, A)\n",
        "\n",
        "print(\"--FIN DEL PROGRAMA--\")\n"
      ],
      "execution_count": null,
      "outputs": [
        {
          "output_type": "stream",
          "name": "stdout",
          "text": [
            "Dame un primer numero entero: 1\n",
            "Dame un segundo numero entero diferente: 2\n",
            "Dame un tercer numero entero diferente: 3\n",
            "ORDEN MAYOR A MENOR :  3 2 1\n",
            "--FIN DEL PROGRAMA--\n"
          ]
        }
      ]
    },
    {
      "cell_type": "code",
      "metadata": {
        "colab": {
          "base_uri": "https://localhost:8080/",
          "height": 131
        },
        "id": "4Wa2etjl_G9d",
        "outputId": "38722574-6975-47aa-aebc-5aa7cc2041c7"
      },
      "source": [
        "#problema8\n",
        "TIPOENP = int(input(\"Introduce el tipo de enfermedad:\"))\n",
        "EDAD = int(input(\"Introduce la edad:\"))\n",
        "DIAS = int(input(\"Introduce el número de días:\"))\n",
        "COSTO = 0.0\n",
        "\n",
        "if TIPOENP == 1:\n",
        "    COSTO = DIAS * 25.0\n",
        "  elif TIPOENP ==2:\n",
        "        COSTO = DIAS * 16.0\n",
        " elif TIPOENP ==3:\n",
        "     COSTO = DIAS * 32.0\n",
        "    \n",
        " if EDAD>= 14 and EDAD <= 22:\n",
        "        COSTO = COSTO *1.10\n",
        "    \n",
        "print(\"Costo total -$\",COSTO)\n",
        "print(f\"Se pago {COSTO} pesos por {DIAS} dias de estancia \")\n",
        "print(\"Se pago\", COSTO, \"pesos por\",DIAS, \"dias de estancia\")"
      ],
      "execution_count": null,
      "outputs": [
        {
          "output_type": "error",
          "ename": "IndentationError",
          "evalue": "ignored",
          "traceback": [
            "\u001b[0;36m  File \u001b[0;32m\"<ipython-input-8-2dd225b02bde>\"\u001b[0;36m, line \u001b[0;32m9\u001b[0m\n\u001b[0;31m    elif TIPOENP ==2:\u001b[0m\n\u001b[0m                     ^\u001b[0m\n\u001b[0;31mIndentationError\u001b[0m\u001b[0;31m:\u001b[0m unindent does not match any outer indentation level\n"
          ]
        }
      ]
    }
  ]
}