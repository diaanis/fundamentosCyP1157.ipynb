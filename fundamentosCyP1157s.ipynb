{
  "nbformat": 4,
  "nbformat_minor": 0,
  "metadata": {
    "colab": {
      "name": "fundamentosCyP1157.ipynb",
      "provenance": [],
      "authorship_tag": "ABX9TyOVVOV9c0iDBBjeJ/mTZNm4",
      "include_colab_link": true
    },
    "kernelspec": {
      "name": "python3",
      "display_name": "Python 3"
    },
    "language_info": {
      "name": "python"
    }
  },
  "cells": [
    {
      "cell_type": "markdown",
      "metadata": {
        "id": "view-in-github",
        "colab_type": "text"
      },
      "source": [
        "<a href=\"https://colab.research.google.com/github/diaanis/fundamentosCyP1157.ipynb/blob/main/fundamentosCyP1157s.ipynb\" target=\"_parent\"><img src=\"https://colab.research.google.com/assets/colab-badge.svg\" alt=\"Open In Colab\"/></a>"
      ]
    },
    {
      "cell_type": "code",
      "metadata": {
        "colab": {
          "base_uri": "https://localhost:8080/"
        },
        "id": "j0aD_2CDVmqh",
        "outputId": "7d11006f-2e63-4da4-feb9-8967d50b5777"
      },
      "source": [
        "nombre = 'Jose'  # Tipo de dato String (cadena de caracteres)\n",
        "\n",
        "print( nombre)\n",
        "\n"
      ],
      "execution_count": 2,
      "outputs": [
        {
          "output_type": "stream",
          "name": "stdout",
          "text": [
            "Jose\n"
          ]
        }
      ]
    },
    {
      "cell_type": "markdown",
      "metadata": {
        "id": "zr-_Z4aYXMhB"
      },
      "source": [
        "#Tipo de dato en Python\n",
        "\n",
        "- str --> String cadena de caractéres.\n",
        "- int --> Numero enteros\n",
        "- float --> Numeros con notación de punto flotante \n",
        "- complex --> Numeros complejos \n",
        "- bool -->Boleano (True or False)\n",
        "- byte --> 8 bits \n",
        "\n",
        "### Tipos de datos estructurados (compuestos)\n",
        "- list --> Listas \n",
        "- dict --> diccionarios\n",
        "- set y frozenset --> Conjuntos \n",
        "- tuple --> Listas no mutables"
      ]
    },
    {
      "cell_type": "code",
      "metadata": {
        "colab": {
          "base_uri": "https://localhost:8080/"
        },
        "id": "qe07PijAXL-8",
        "outputId": "4616f391-2aa5-49dc-edfd-239fdcfc7255"
      },
      "source": [
        "import sys\n",
        "edad = 19 \n",
        "print ( \"Tu edad es :\" , edad) # al final de una línea de código \n",
        "# este es un comentario de linea simple\n",
        "\n",
        "\"\"\"\n",
        "comentario de multiple línea\n",
        "En lenguaje C, C ++ y Java el comentario de multiple linea es con \n",
        "/* ..... */\n",
        "\n",
        "El comentario de una sola linea es con :\n",
        "\n",
        "//\n",
        "\n",
        "Aqui puedes explicar en prosa el segmento de un codigo para futura referencia\n",
        "\n",
        "\"\"\"\n",
        "# tipos de dato numerico int y float\n",
        "\n",
        "print (sys.getsizeof(edad))\n",
        "#el tipo de dato INT utiliza diferente cantidad de bits segun el \n",
        "# leg de programa por ejemplo en C utilizaria 16 bits\n",
        "\n",
        "edad = edad + 1\n",
        "\n",
        "print( edad )\n",
        "\n",
        "estatura = 1.56\n",
        "print(sys.getsizeof(estatura))\n",
        "estatura = estatura + 0.1\n",
        "print( estatura )\n",
        "print(round(estatura,2))\n",
        "\n",
        "\n",
        "edad += 1 #edad = edad + 1 \n",
        "print( \"Tu edad es :\", edad)\n",
        "edad /=2 # edad = edad / 1 \n",
        "print(\"La mitad de tu edad es :\", edad)\n",
        "\n",
        "edad = 21\n",
        "#volver a calcular la mitad de la edad \n",
        "#parte entera\n",
        "edad = edad // 2\n",
        "print ( \"La mitad de tu edad es\", edad )\n",
        "\n",
        "#En la mayoria de los leng no permite operaciones entre \n",
        "# diferentes tipos de datos, en python \n",
        "\n",
        "numero = edad / 2 \n",
        "print( numero)\n",
        "\n",
        "numero *= 3\n",
        "print(numero )\n",
        "\n",
        "numero = 5.0\n",
        "numero = numero **3 #El doble asterisco es potencia y el numero de a lado es a que potencia se va a elevar  \n",
        "print( numero)\n",
        "\n",
        "#Operador modulo \n",
        "numero = 21\n",
        "print(numero / 2) # asi se plantea la division en print \n",
        "print ( numero//2)\n",
        "\n",
        "#Operador modulo da como resultado el residuo de una division entera \n",
        "print ( numero % 2)\n",
        "\n",
        "numero= 24 \n",
        "print(\"Residuo de 24 / 5:\", numero % 5)\n",
        "\n",
        "\n",
        "#Operadores relacionales(lógicos)\n",
        "print ( numero % 2== 0 )\n",
        "#Diferencia\n",
        "print(\"24 es diferente que 23=\", numero !=23)\n",
        "\n",
        "print( \"24 es mayor que 23=\", numero > 23 )\n",
        "\n",
        "print(\"24 es menor que 23=\", numero < 23 )\n",
        "\n",
        "print(\"24 es menor o igual que 23\", numero <=23\n",
        "      )\n",
        "\n",
        "print(\"El tipo de dato de la var numero es: \", type(numero/2.0))\n",
        "\n",
        "\n",
        "\n",
        "\n",
        "\n",
        "\n",
        "\n",
        "\n",
        "\n",
        "\n",
        "\n"
      ],
      "execution_count": 38,
      "outputs": [
        {
          "output_type": "stream",
          "name": "stdout",
          "text": [
            "Tu edad es : 19\n",
            "28\n",
            "20\n",
            "24\n",
            "1.6600000000000001\n",
            "1.66\n",
            "Tu edad es : 21\n",
            "La mitad de tu edad es : 10.5\n",
            "La mitad de tu edad es 10\n",
            "5.0\n",
            "15.0\n",
            "125.0\n",
            "10.5\n",
            "10\n",
            "1\n",
            "Residuo de 24 / 5: 4\n",
            "True\n",
            "24 es diferente que 23= True\n",
            "24 es mayor que 23= True\n",
            "24 es menor que 23= False\n",
            "24 es menor o igual que 23 False\n",
            "El tipo de dato de la var numero es:  <class 'float'>\n"
          ]
        }
      ]
    },
    {
      "cell_type": "markdown",
      "metadata": {
        "id": "rSwJhBE_qweP"
      },
      "source": [
        ""
      ]
    },
    {
      "cell_type": "code",
      "metadata": {
        "colab": {
          "base_uri": "https://localhost:8080/"
        },
        "id": "aW4BL06gqOz_",
        "outputId": "cf5afe11-98d5-43f7-f573-9ec71bbb6e2a"
      },
      "source": [
        "nombre = \"diana\"\n",
        "carrera = \"Ingenieria en computacion\"\n",
        "frase = \"\"\" El conocimiento \n",
        "me persigue,..\n",
        "pero\n",
        "yo soy rapido\n",
        "\"\"\"\n",
        "\n",
        "print(nombre)\n",
        "print(carrera)\n",
        "print(frase)\n",
        "\n",
        "#La funcion type de Python te devuelve el tipo de dato de una variable \n",
        "print(type(nombre))\n",
        "\n",
        "paterno= str(\"Moreno\")\n",
        "print( paterno)\n"
      ],
      "execution_count": 40,
      "outputs": [
        {
          "output_type": "stream",
          "name": "stdout",
          "text": [
            "diana\n",
            "Ingenieria en computacion\n",
            " El conocimiento \n",
            "me persigue,..\n",
            "pero\n",
            "yo soy rapido\n",
            "\n",
            "<class 'str'>\n",
            "Moreno\n"
          ]
        }
      ]
    },
    {
      "cell_type": "markdown",
      "metadata": {
        "id": "ZJO4pX54qMR_"
      },
      "source": [
        ""
      ]
    }
  ]
}