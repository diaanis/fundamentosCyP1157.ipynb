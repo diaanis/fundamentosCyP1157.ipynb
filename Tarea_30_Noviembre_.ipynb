{
  "nbformat": 4,
  "nbformat_minor": 0,
  "metadata": {
    "colab": {
      "name": "Tarea 30 Noviembre .ipynb",
      "provenance": [],
      "authorship_tag": "ABX9TyPayapZbsSZH0JIty2jAJ1w",
      "include_colab_link": true
    },
    "kernelspec": {
      "name": "python3",
      "display_name": "Python 3"
    },
    "language_info": {
      "name": "python"
    }
  },
  "cells": [
    {
      "cell_type": "markdown",
      "metadata": {
        "id": "view-in-github",
        "colab_type": "text"
      },
      "source": [
        "<a href=\"https://colab.research.google.com/github/diaanis/fundamentosCyP1157.ipynb/blob/main/Tarea_30_Noviembre_.ipynb\" target=\"_parent\"><img src=\"https://colab.research.google.com/assets/colab-badge.svg\" alt=\"Open In Colab\"/></a>"
      ]
    },
    {
      "cell_type": "markdown",
      "metadata": {
        "id": "44zMDB12Jjsv"
      },
      "source": [
        "# Problema 2.1"
      ]
    },
    {
      "cell_type": "code",
      "metadata": {
        "colab": {
          "base_uri": "https://localhost:8080/"
        },
        "id": "qhQ35p5JF3KC",
        "outputId": "38392b83-f0fb-4815-b99e-9afb9df50d31"
      },
      "source": [
        "n= int(input(\"Dame un número:\"))\n",
        "t= n/4+40\n",
        "if n>0:\n",
        "   print(t,\"temperatura\")\n",
        "print(\"Fin del programa\")\n"
      ],
      "execution_count": null,
      "outputs": [
        {
          "output_type": "stream",
          "name": "stdout",
          "text": [
            "Dame un número:8\n",
            "42.0 temperatura\n",
            "Fin del programa\n"
          ]
        }
      ]
    },
    {
      "cell_type": "markdown",
      "metadata": {
        "id": "UyIp_sMTLiOd"
      },
      "source": [
        "# Problema 2.2"
      ]
    },
    {
      "cell_type": "code",
      "metadata": {
        "colab": {
          "base_uri": "https://localhost:8080/"
        },
        "id": "F25K2qZRLh6t",
        "outputId": "cd7fce8c-b1a9-4f68-993d-84aacd2a5bfa"
      },
      "source": [
        "P= int(input(\"Dame el primer número:\"))\n",
        "Q= int(input(\"Dame el segundo número:\"))\n",
        "EXP= P**3+Q**4-2*P**2\n",
        "if EXP<680:\n",
        "    print(P)\n",
        "    print(Q)\n",
        "print(\"Fin del programa\")"
      ],
      "execution_count": null,
      "outputs": [
        {
          "output_type": "stream",
          "name": "stdout",
          "text": [
            "Dame el primer número:3\n",
            "Dame el segundo número:5\n",
            "3\n",
            "5\n",
            "Fin del programa\n"
          ]
        }
      ]
    },
    {
      "cell_type": "markdown",
      "metadata": {
        "id": "VVJMF9KFRDVz"
      },
      "source": [
        "# Problema 2.3\n"
      ]
    },
    {
      "cell_type": "code",
      "metadata": {
        "colab": {
          "base_uri": "https://localhost:8080/"
        },
        "id": "g9rFwjwa4WSG",
        "outputId": "cbaf1d5d-f2fc-45db-830c-c46b450fca65"
      },
      "source": [
        "a=float(input(\"Dame el primer número: \"))\n",
        "b=float(input(\"Dame el segundo número: \"))\n",
        "c=float(input(\"Dame el tercer número: \"))\n",
        "DIS=b**2-4*a*c\n",
        "X1=((-b)+DIS**0.5)/2*a\n",
        "X2=((-b)-DIS**0.5)/2*a\n",
        "if DIS>=0:\n",
        "    print(\"Raíces reales\")\n",
        "    print(\"X1=\",X1)\n",
        "    print(\"X2=\",X2)\n",
        "else:\n",
        "    print(\"Calcúlo auxiliar\")\n",
        "    print(DIS)\n",
        "print(\"Fin del programa\")"
      ],
      "execution_count": null,
      "outputs": [
        {
          "output_type": "stream",
          "name": "stdout",
          "text": [
            "Dame el primer número: -4\n",
            "Dame el segundo número: 5\n",
            "Dame el tercer número: -3\n",
            "Calcúlo auxiliar\n",
            "-23.0\n",
            "Fin del programa\n"
          ]
        }
      ]
    },
    {
      "cell_type": "markdown",
      "metadata": {
        "id": "Ciw1zX1zCcJj"
      },
      "source": [
        "# Problema 2.4"
      ]
    },
    {
      "cell_type": "code",
      "metadata": {
        "colab": {
          "base_uri": "https://localhost:8080/"
        },
        "id": "AfW5QQ11Cgrr",
        "outputId": "84d13095-f1c2-4601-d6e2-ccdb1e81f8f2"
      },
      "source": [
        "MAT=int(input(\"Escribe tu matricula: \"))\n",
        "CAL1=float(input(\"Ingresa tu primer calificación: \"))\n",
        "CAL2=float(input(\"Ingresa tu segunda calificación: \"))\n",
        "CAL3=float(input(\"Ingresa tu tercer calificación: \"))\n",
        "CAL4=float(input(\"Ingresa tu cuarta calificación: \"))\n",
        "CAL5=float(input(\"Ingresa tu quinta calificación: \"))\n",
        "PROM=(CAL1+CAL2+CAL3+CAL4+CAL5)/5\n",
        "if PROM>=6:\n",
        "    print(\"Matricula: \", MAT)\n",
        "    print(\"Promedio: \",PROM)\n",
        "    print(\"APROBADO\")\n",
        "else :\n",
        "    print(\"Matricula: \",MAT)\n",
        "    print(\"Promedio: \",PROM)\n",
        "    print(\"NO APROBADO\")\n",
        "print(\"Fin del programa\")\n",
        "\n"
      ],
      "execution_count": null,
      "outputs": [
        {
          "output_type": "stream",
          "name": "stdout",
          "text": [
            "Escribe tu matricula: 18240\n",
            "Ingresa tu primer calificación: 7\n",
            "Ingresa tu segunda calificación: 4.60\n",
            "Ingresa tu tercer calificación: 4.90\n",
            "Ingresa tu cuarta calificación: 7\n",
            "Ingresa tu quinta calificación: 5.60\n",
            "Matricula:  18240\n",
            "Promedio:  5.82\n",
            "NO APROBADO\n",
            "Fin del programa\n"
          ]
        }
      ]
    },
    {
      "cell_type": "markdown",
      "metadata": {
        "id": "6vX84lPCGwaO"
      },
      "source": [
        "# Problema 2.5"
      ]
    },
    {
      "cell_type": "code",
      "metadata": {
        "colab": {
          "base_uri": "https://localhost:8080/"
        },
        "id": "_2HAXyMrG2Qa",
        "outputId": "d4a96168-4f19-4065-91e4-be20300d96ec"
      },
      "source": [
        "NUM=int(input(\"Dame un número: \"))\n",
        "if NUM>0:\n",
        "    print(\"Positivo\")\n",
        "elif NUM==0:\n",
        "    print(\"Nulo\")\n",
        "else:\n",
        "    print(\"Negativo\")\n",
        "print(\"Fin del programa\")"
      ],
      "execution_count": null,
      "outputs": [
        {
          "output_type": "stream",
          "name": "stdout",
          "text": [
            "Dame un número: -7\n",
            "Negativo\n",
            "Fin del programa\n"
          ]
        }
      ]
    },
    {
      "cell_type": "markdown",
      "metadata": {
        "id": "gW4Azr_YJSeU"
      },
      "source": [
        "# Problema 2.6"
      ]
    },
    {
      "cell_type": "code",
      "metadata": {
        "colab": {
          "base_uri": "https://localhost:8080/"
        },
        "id": "ZrHEAczjJYZu",
        "outputId": "4422f53d-e7e3-4f57-9121-01e7685f304c"
      },
      "source": [
        "A=int(input(\"Dame un número: \"))\n",
        "if A==0:\n",
        "    print(\"Nulo\")\n",
        "elif A % 2 == 0:\n",
        "    print(\"Par\")\n",
        "else:\n",
        "    print(\"Impar\")\n",
        "print(\"Fin del programa\")"
      ],
      "execution_count": null,
      "outputs": [
        {
          "output_type": "stream",
          "name": "stdout",
          "text": [
            "Dame un número: 6\n",
            "Par\n",
            "Fin del programa\n"
          ]
        }
      ]
    },
    {
      "cell_type": "markdown",
      "metadata": {
        "id": "mim5R05hLSSX"
      },
      "source": [
        "# Problema 2.7\n"
      ]
    },
    {
      "cell_type": "code",
      "metadata": {
        "colab": {
          "base_uri": "https://localhost:8080/"
        },
        "id": "ei04g-k0LWp4",
        "outputId": "df11dffa-9e96-4b0c-a1e3-a781c6e62cc6"
      },
      "source": [
        "A=int(input(\"Dame el primer número: \"))\n",
        "B=int(input(\"Dame el segundo número: \"))\n",
        "C=int(input(\"Dame el tercer número: \"))\n",
        "if A<B and B<C:\n",
        "     print(\"Los número están en orden creciente\")\n",
        "else:\n",
        "     print(\"Los número no están en orden creciente\")\n",
        "print(\"Fin del programa\")\n"
      ],
      "execution_count": null,
      "outputs": [
        {
          "output_type": "stream",
          "name": "stdout",
          "text": [
            "Dame el primer número: 8\n",
            "Dame el segundo número: 0\n",
            "Dame el tercer número: 12\n",
            "Los número no están en orden creciente\n",
            "Fin del programa\n"
          ]
        }
      ]
    },
    {
      "cell_type": "markdown",
      "metadata": {
        "id": "r_VBuF8hU5DF"
      },
      "source": [
        "# Problema 2.8"
      ]
    },
    {
      "cell_type": "code",
      "metadata": {
        "colab": {
          "base_uri": "https://localhost:8080/"
        },
        "id": "GjefqfLgU8o4",
        "outputId": "0787ba51-67df-4ecb-b6af-70cf3c09a8a1"
      },
      "source": [
        "COMPRA= float(input(\"Ingresa el monto de tu compra: \"))\n",
        "if COMPRA<500:\n",
        "    print(\"Pagar: \",COMPRA)\n",
        "elif COMPRA<=1000:\n",
        "    print(\"Pagar: \",COMPRA-(COMPRA*0.05))\n",
        "elif COMPRA<=7000:\n",
        "    print(\"Pagar: \",COMPRA-(COMPRA*0.11))\n",
        "elif COMPRA<=15000:\n",
        "    print(\"Pagar: \",COMPRA-(COMPRA*0.18))\n",
        "else:\n",
        "    print(\"Pagar: \",COMPRA-(COMPRA*0.25))\n",
        "print(\"Fin del programa\")"
      ],
      "execution_count": null,
      "outputs": [
        {
          "output_type": "stream",
          "name": "stdout",
          "text": [
            "Ingresa el monto de tu compra: 25314.18\n",
            "Pagar:  18985.635000000002\n",
            "Fin del programa\n"
          ]
        }
      ]
    },
    {
      "cell_type": "markdown",
      "metadata": {
        "id": "v_eNUi4Bcjlw"
      },
      "source": [
        "# Problema 2.9"
      ]
    },
    {
      "cell_type": "code",
      "metadata": {
        "id": "ZUmYAIjmdDa9",
        "colab": {
          "base_uri": "https://localhost:8080/"
        },
        "outputId": "ea6e60a9-2268-40dc-dc84-3a221a4d7e5a"
      },
      "source": [
        "PREBAS= float(input(\"Ingresa el precio básico del producto: \"))\n",
        "if PREBAS>500:\n",
        "    IMP=20*0.30+(PREBAS-40)*0.50\n",
        "    PRETOT=PREBAS+IMP\n",
        "    print(\"Impuesto recibido es: \",PREBAS,\"y va a pagar de impuesto: \",PRETOT)\n",
        "elif PREBAS>40:\n",
        "    IMP=20*0.30+(PREBAS-40)*0.40\n",
        "    PRETOT=PREBAS+IMP\n",
        "    print(\"Impuesto recibido es: \",PREBAS,\"y va a pagar de impuesto: \",PRETOT)\n",
        "elif PREBAS>20:\n",
        "    IMP=(PREBAS-20)*0.30\n",
        "    PRETOT=PREBAS+IMP\n",
        "    print(\"Impuesto recibido es: \",PREBAS,\"y va a pagar de impuesto: \",PRETOT)\n",
        "else:\n",
        "    IMP=0\n",
        "    PRETOT=PREBAS+IMP\n",
        "    print(\"Impuesto recibido es: \",PREBAS,\"y va a pagar de impuesto: \",PRETOT)\n",
        "print(\"Fin del programa\")\n",
        "\n",
        "\n",
        "    \n",
        "\n"
      ],
      "execution_count": 1,
      "outputs": [
        {
          "output_type": "stream",
          "name": "stdout",
          "text": [
            "Ingresa el precio básico del producto: 25\n",
            "Impuesto recibido es:  25.0 y va a pagar de impuesto:  26.5\n",
            "Fin del programa\n"
          ]
        }
      ]
    },
    {
      "cell_type": "markdown",
      "metadata": {
        "id": "D2A9eu08kDqX"
      },
      "source": [
        ""
      ]
    },
    {
      "cell_type": "markdown",
      "metadata": {
        "id": "s6KYdGmLkCVb"
      },
      "source": [
        "# Problema 2.10"
      ]
    },
    {
      "cell_type": "code",
      "metadata": {
        "colab": {
          "base_uri": "https://localhost:8080/"
        },
        "id": "zVMdhhjxkQJh",
        "outputId": "5e2b7ddd-adcb-4e64-9e63-f06b65921563"
      },
      "source": [
        "A=int(input(\"Escribe el primer número: \"))\n",
        "B=int(input(\"Escribe el segundo número: \"))\n",
        "C=int(input(\"Escribe el tercer número: \"))\n",
        "if A>B :\n",
        "    if A>C:\n",
        "        print(A,\"es el mayor\")\n",
        "    elif A==C:\n",
        "        print(A,\"y\",C,\"son los mayores\")\n",
        "    else:\n",
        "        print(C,\"es el mayor\")\n",
        "elif A==B:\n",
        "    if A>C:\n",
        "        print(A,\"y\",B,\"son los mayores\")\n",
        "    elif A==C:\n",
        "        print(A,\",\",B,\"y\",C,\"son iguales\")\n",
        "    else:\n",
        "        print(C,\"es el mayor\")\n",
        "elif B>C:\n",
        "    print(B,\"es el mayor\")\n",
        "elif B==C:\n",
        "    print(B,\"y\",C,\"son los mayores\")\n",
        "else:\n",
        "    print(C,\"es el mayor\")\n",
        "1\n",
        "\n",
        "\n",
        "        \n",
        "\n",
        "\n",
        "\n",
        "    \n",
        "\n"
      ],
      "execution_count": 2,
      "outputs": [
        {
          "output_type": "stream",
          "name": "stdout",
          "text": [
            "Escribe el primer número: 17\n",
            "Escribe el segundo número: 17\n",
            "Escribe el tercer número: 17\n",
            "17 , 17 y 17 son iguales\n",
            "Fin del programa\n"
          ]
        }
      ]
    },
    {
      "cell_type": "markdown",
      "metadata": {
        "id": "3LBOYFkEMOx8"
      },
      "source": [
        "#Problema 2.11"
      ]
    },
    {
      "cell_type": "code",
      "metadata": {
        "colab": {
          "base_uri": "https://localhost:8080/"
        },
        "id": "F61oLmy5MOPF",
        "outputId": "818155af-d578-4ad9-a2f8-b062b0ee6bd9"
      },
      "source": [
        "CLAVE=int(input(\"Ingresa la clave de la zona geográfica a la que se llamó: \"))\n",
        "NUMIN=int(input(\"Ingresa los minutos de duración de la llamada: \"))\n",
        "if CLAVE==12:\n",
        "    COST=NUMIN*2\n",
        "    print(\"Costo total de la llamada:  \",COST)\n",
        "elif CLAVE==15:\n",
        "    COST=NUMIN*2.2\n",
        "    print(\"Costo total de la llamada:  \",COST)\n",
        "elif CLAVE==18:\n",
        "    COST=NUMIN*4.5\n",
        "    print(\"Costo total de la llamada:  \",COST)\n",
        "elif CLAVE==19:\n",
        "    COST=NUMIN*3.5\n",
        "    print(\"Costo total de la llamada:  \",COST)\n",
        "elif CLAVE==23:\n",
        "    COST=NUMIN*6\n",
        "    print(\"Costo total de la llamada:  \",COST)\n",
        "elif CLAVE==25:\n",
        "    COST=NUMIN*6\n",
        "    print(\"Costo total de la llamada:  \",COST)\n",
        "elif CLAVE==29:\n",
        "    COST=NUMIN*5\n",
        "    print(\"Costo total de la llamada:  \",COST)\n",
        "else:\n",
        "    print(\"Zona geográfica no valida\")\n",
        "print(\"Fin del programa\")\n"
      ],
      "execution_count": 7,
      "outputs": [
        {
          "output_type": "stream",
          "name": "stdout",
          "text": [
            "Ingresa la clave de la zona geográfica a la que se llamó: 18\n",
            "Ingresa los minutos de duración de la llamada: 12\n",
            "Costo total de la llamada:   54.0\n",
            "Fin del programa\n"
          ]
        }
      ]
    },
    {
      "cell_type": "markdown",
      "metadata": {
        "id": "K8wb-_A3RLVT"
      },
      "source": [
        "#Problema 2.12"
      ]
    },
    {
      "cell_type": "code",
      "metadata": {
        "colab": {
          "base_uri": "https://localhost:8080/"
        },
        "id": "qLXe44o8ROAD",
        "outputId": "01a6476a-2d80-42d3-9499-0e13cf4ce2ec"
      },
      "source": [
        "SUE=float(input(\"Ingresa tu sueldo base: \"))\n",
        "CATE=int(input(\"Ingresa tu categoria como trabajador: \"))\n",
        "HE=int(input(\"Ingresa las horas extras que realizaste: \"))\n",
        "if CATE==1:\n",
        "    PHE=30\n",
        "elif CATE==2:\n",
        "    PHE=38\n",
        "elif CATE==3:\n",
        "    PHE=50\n",
        "elif CATE==4:\n",
        "    PHE=70\n",
        "elif CATE==5:\n",
        "    PHE=70\n",
        "else:\n",
        "    PHE=0\n",
        "if HE>30:\n",
        "    NSUE=SUE+30*PHE\n",
        "else:\n",
        "    NSUE=SUE+HE*PHE\n",
        "print(NSUE)\n",
        "print(\"Fin del programa\")\n",
        "\n"
      ],
      "execution_count": 6,
      "outputs": [
        {
          "output_type": "stream",
          "name": "stdout",
          "text": [
            "Ingresa tu sueldo base: 3200\n",
            "Ingresa tu categoria como trabajador: 3\n",
            "Ingresa las horas extras que realizaste: 8\n",
            "3600.0\n",
            "Fin del programa\n"
          ]
        }
      ]
    },
    {
      "cell_type": "markdown",
      "metadata": {
        "id": "snzMC2eLk2CF"
      },
      "source": [
        "# Problema 2.13"
      ]
    },
    {
      "cell_type": "code",
      "metadata": {
        "colab": {
          "base_uri": "https://localhost:8080/"
        },
        "id": "beZAihU_k1kf",
        "outputId": "24fc5997-d4ca-43f9-e4ad-6ad264502d11"
      },
      "source": [
        "MAT=int(input(\"Ingresa tu matrícula: \"))\n",
        "CARR=str(input(\"Escriba en que carrera esta inscrito: \"))\n",
        "SEM=int(input(\"Ingrese el semestre aprobado: \"))\n",
        "PROM=float(input(\"Ingrese su promedio: \"))\n",
        "if CARR==\"Economía\":\n",
        "    if SEM>=6 and PROM>=8.8:\n",
        "        print(MAT,CARR,\"Aceptado\")\n",
        "elif CARR==\"Computación\":\n",
        "    if SEM>6 and PROM>8.5:\n",
        "        print(MAT,CARR,\"Aceptado\")\n",
        "elif CARR==\"Contabilidad\":\n",
        "    if SEM>5 and PROM>8.5:\n",
        "        print(MAT,CARR,\"Aceptado\")\n",
        "elif CARR==\"Administración\":\n",
        "    if SEM>5 and PROM>8.5:\n",
        "        print(MAT,CARR,\"Aceptado\")\n",
        "print(\"Fin del programa\")\n",
        "\n"
      ],
      "execution_count": 13,
      "outputs": [
        {
          "output_type": "stream",
          "name": "stdout",
          "text": [
            "Ingresa tu matrícula: 26100\n",
            "Escriba en que carrera esta inscrito: Computación\n",
            "Ingrese el semestre aprobado: 6\n",
            "Ingrese su promedio: 9.2\n",
            "Fin del programa\n"
          ]
        }
      ]
    }
  ]
}