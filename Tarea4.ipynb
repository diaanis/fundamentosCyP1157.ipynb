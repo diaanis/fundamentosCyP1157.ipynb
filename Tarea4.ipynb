{
  "nbformat": 4,
  "nbformat_minor": 0,
  "metadata": {
    "colab": {
      "name": "Tarea4.ipynb",
      "provenance": [],
      "authorship_tag": "ABX9TyN+XmHqx0KrYO+SNjU9YMr/",
      "include_colab_link": true
    },
    "kernelspec": {
      "name": "python3",
      "display_name": "Python 3"
    },
    "language_info": {
      "name": "python"
    }
  },
  "cells": [
    {
      "cell_type": "markdown",
      "metadata": {
        "id": "view-in-github",
        "colab_type": "text"
      },
      "source": [
        "<a href=\"https://colab.research.google.com/github/diaanis/fundamentosCyP1157.ipynb/blob/main/Tarea4.ipynb\" target=\"_parent\"><img src=\"https://colab.research.google.com/assets/colab-badge.svg\" alt=\"Open In Colab\"/></a>"
      ]
    },
    {
      "cell_type": "code",
      "metadata": {
        "colab": {
          "base_uri": "https://localhost:8080/"
        },
        "id": "v0IBW9qJOOQQ",
        "outputId": "0a174517-4b23-4020-f940-e426d7c75981"
      },
      "source": [
        "print( \"\"\" \n",
        "         D  D     III     A     NN     N       A\n",
        "         D    D    I     A A     N N    N      A A\n",
        "         D   D     I    A   A    N  N   N     A   A\n",
        "         D  D      I   AAAAAAA   N   N  N    AAAAAAA\n",
        "         D D      III A       A  N    N N   A       A\"\"\")\n",
        "          "
      ],
      "execution_count": 8,
      "outputs": [
        {
          "output_type": "stream",
          "name": "stdout",
          "text": [
            " \n",
            "         D  D     III     A     NN     N       A\n",
            "         D    D    I     A A     N N    N      A A\n",
            "         D   D     I    A   A    N  N   N     A   A\n",
            "         D  D      I   AAAAAAA   N   N  N    AAAAAAA\n",
            "         D D      III A       A  N    N N   A       A\n"
          ]
        }
      ]
    }
  ]
}