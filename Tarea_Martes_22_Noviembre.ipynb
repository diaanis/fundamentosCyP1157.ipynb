{
  "nbformat": 4,
  "nbformat_minor": 0,
  "metadata": {
    "colab": {
      "name": "Tarea Martes 22 Noviembre.ipynb",
      "provenance": [],
      "authorship_tag": "ABX9TyNT0ZkvlclWkMISsY2cueF7",
      "include_colab_link": true
    },
    "kernelspec": {
      "name": "python3",
      "display_name": "Python 3"
    },
    "language_info": {
      "name": "python"
    }
  },
  "cells": [
    {
      "cell_type": "markdown",
      "metadata": {
        "id": "view-in-github",
        "colab_type": "text"
      },
      "source": [
        "<a href=\"https://colab.research.google.com/github/diaanis/fundamentosCyP1157.ipynb/blob/main/Tarea_Martes_22_Noviembre.ipynb\" target=\"_parent\"><img src=\"https://colab.research.google.com/assets/colab-badge.svg\" alt=\"Open In Colab\"/></a>"
      ]
    },
    {
      "cell_type": "markdown",
      "metadata": {
        "id": "bRDiHJPQCzxa"
      },
      "source": [
        "#Tarea 1 "
      ]
    },
    {
      "cell_type": "code",
      "metadata": {
        "colab": {
          "base_uri": "https://localhost:8080/"
        },
        "id": "3AVIf4wUz4Qg",
        "outputId": "7b7b1474-cc20-496f-c58b-2f33f079e1eb"
      },
      "source": [
        "numerox= int(input(\"Dame el primer numero:\"))\n",
        "numeroy = int(input(\"Dame el segundo número:\"))\n",
        "if numerox>numeroy:\n",
        "    print(numerox,\"es el mayor\")\n",
        "elif numerox<numeroy:\n",
        "        print(numerox,\"Es el menor\")\n",
        "else:\n",
        "        print(\"Son iguales\")\n",
        "print(\"Fin del programa\")"
      ],
      "execution_count": 1,
      "outputs": [
        {
          "output_type": "stream",
          "name": "stdout",
          "text": [
            "Dame el primer numero:77\n",
            "Dame el segundo número:88\n",
            "77 Es el menor\n",
            "Fin del programa\n"
          ]
        }
      ]
    },
    {
      "cell_type": "markdown",
      "metadata": {
        "id": "KCr7w4yQC6Y6"
      },
      "source": [
        "#Tarea 2 "
      ]
    },
    {
      "cell_type": "code",
      "metadata": {
        "colab": {
          "base_uri": "https://localhost:8080/"
        },
        "id": "pCt5vy_FO8Ba",
        "outputId": "c5e1a19d-70ba-48b1-8625-d132c6ff4940"
      },
      "source": [
        "numerox= int(input(\"Dame el primer numero:\"))\n",
        "numeroy= int(input(\"Dame el segundo número:\"))\n",
        "numeroz= int(input(\"Dame el tercer numero: \"))\n",
        "if numerox>numeroy and numerox>numeroz:\n",
        " print(numerox, \"Es el mayor\")\n",
        "elif numeroy>numeroz and numeroy>numerox:\n",
        "  print(numeroy, \"Es el mayor\")\n",
        "else:\n",
        "    numeroz>numerox and numeroz>numeroy\n",
        "    print(numeroz, \"es el mayor\")\n",
        "print(\"Fin del programa\")\n",
        "\n"
      ],
      "execution_count": 8,
      "outputs": [
        {
          "output_type": "stream",
          "name": "stdout",
          "text": [
            "Dame el primer numero:45\n",
            "Dame el segundo número:89\n",
            "Dame el tercer numero: 78\n",
            "89 Es el mayor\n",
            "Fin del programa\n"
          ]
        }
      ]
    },
    {
      "cell_type": "markdown",
      "metadata": {
        "id": "K6Lfw9x7DCr3"
      },
      "source": [
        "#Tarea 3"
      ]
    },
    {
      "cell_type": "code",
      "metadata": {
        "colab": {
          "base_uri": "https://localhost:8080/"
        },
        "id": "11WbSlXuDORV",
        "outputId": "a26197cd-d07a-4327-b710-db9ab54d84e8"
      },
      "source": [
        "numerox= int(input(\"Dame el primer número:\"))\n",
        "numeroy= int(input(\"Dame el segundo número:\"))\n",
        "numeroz= int(input(\"Dame el tercer número: \"))\n",
        "if numerox<numeroy and numerox<numeroz:\n",
        " print(numerox, \"Es el menor\")\n",
        "elif numeroy<numeroz and numeroy<numerox:\n",
        "  print(numeroy, \"Es el menor\")\n",
        "else:\n",
        "    numeroz<numerox and numeroz<numeroy\n",
        "    print(numeroz, \"es el menor\")\n",
        "print(\"Fin del programa\")"
      ],
      "execution_count": 9,
      "outputs": [
        {
          "output_type": "stream",
          "name": "stdout",
          "text": [
            "Dame el primer número:45\n",
            "Dame el segundo número:99\n",
            "Dame el tercer número: 578\n",
            "45 Es el menor\n",
            "Fin del programa\n"
          ]
        }
      ]
    },
    {
      "cell_type": "markdown",
      "metadata": {
        "id": "O_586k6rDrra"
      },
      "source": [
        "# Tarea 4 "
      ]
    },
    {
      "cell_type": "code",
      "metadata": {
        "colab": {
          "base_uri": "https://localhost:8080/"
        },
        "id": "ZFE06OBMDvVM",
        "outputId": "f3c4eb69-f987-4615-c4f3-99f085271be2"
      },
      "source": [
        "numerow= int(input(\"Dame el primer número: \"))\n",
        "numerox= int(input(\"Dame el segundo número: \"))\n",
        "numeroy= int(input(\"Dame el tercer número: \"))\n",
        "numeroz= int(input(\"Dame el cuarto número: \"))\n",
        "if numerow<numerox and numerow<numeroy and numerow<numeroz :\n",
        " print(numerow, \"es el menor\")\n",
        "elif numerox<numerow and numerox<numeroy and numerox<numeroz :\n",
        "  print(numerox, \"es el menor\")\n",
        "elif numeroy<numerow and numeroy<numerox and numeroy<numeroz :\n",
        "  print(numeroy, \"es el menor\")\n",
        "else:\n",
        "    numeroz<numerow and numeroz<numerox and numeroz<numeroy \n",
        "    print(numeroz, \"es el menor\")\n",
        "if numerow>numerox and numerown>umeroy and numerow>numeroz :\n",
        " print(numerow, \"es el mayor\")\n",
        "elif numerox>numerow and numerox>numeroy and numerox>numeroz :\n",
        "  print(numerox, \"es el mayor\")\n",
        "elif numeroy>numerow and numeroy>numerox and numeroy>numeroz :\n",
        "  print(numeroy, \"es el mayor\")\n",
        "else:\n",
        "    numeroz>numerow and numeroz>numerox and numeroz>numeroy \n",
        "    print(numeroz, \"es el mayor\")\n",
        "print(\"Fin del programa\")"
      ],
      "execution_count": 10,
      "outputs": [
        {
          "output_type": "stream",
          "name": "stdout",
          "text": [
            "Dame el primer número: 56\n",
            "Dame el segundo número: 98\n",
            "Dame el tercer número: 67\n",
            "Dame el cuarto número: 100\n",
            "56 es el menor\n",
            "100 es el mayor\n",
            "Fin del programa\n"
          ]
        }
      ]
    }
  ]
}