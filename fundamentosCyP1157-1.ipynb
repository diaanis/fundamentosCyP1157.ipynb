{
  "nbformat": 4,
  "nbformat_minor": 0,
  "metadata": {
    "colab": {
      "name": "fundamentosCyP1157.ipynb",
      "provenance": [],
      "authorship_tag": "ABX9TyPyCB9FkYJ7hwldCT+SLWSz",
      "include_colab_link": true
    },
    "kernelspec": {
      "name": "python3",
      "display_name": "Python 3"
    },
    "language_info": {
      "name": "python"
    }
  },
  "cells": [
    {
      "cell_type": "markdown",
      "metadata": {
        "id": "view-in-github",
        "colab_type": "text"
      },
      "source": [
        "<a href=\"https://colab.research.google.com/github/diaanis/fundamentosCyP1157.ipynb/blob/main/fundamentosCyP1157-1.ipynb\" target=\"_parent\"><img src=\"https://colab.research.google.com/assets/colab-badge.svg\" alt=\"Open In Colab\"/></a>"
      ]
    },
    {
      "cell_type": "code",
      "metadata": {
        "colab": {
          "base_uri": "https://localhost:8080/"
        },
        "id": "j0aD_2CDVmqh",
        "outputId": "7d11006f-2e63-4da4-feb9-8967d50b5777"
      },
      "source": [
        "nombre = 'Jose'  # Tipo de dato String (cadena de caracteres)\n",
        "\n",
        "print( nombre)\n",
        "\n"
      ],
      "execution_count": null,
      "outputs": [
        {
          "output_type": "stream",
          "name": "stdout",
          "text": [
            "Jose\n"
          ]
        }
      ]
    },
    {
      "cell_type": "markdown",
      "metadata": {
        "id": "zr-_Z4aYXMhB"
      },
      "source": [
        "#Tipo de dato en Python\n",
        "\n",
        "- str --> String cadena de caractéres.\n",
        "- int --> Numero enteros\n",
        "- float --> Numeros con notación de punto flotante \n",
        "- complex --> Numeros complejos \n",
        "- bool -->Boleano (True or False)\n",
        "- byte --> 8 bits \n",
        "\n",
        "### Tipos de datos estructurados (compuestos)\n",
        "- list --> Listas \n",
        "- dict --> diccionarios\n",
        "- set y frozenset --> Conjuntos \n",
        "- tuple --> Listas no mutables"
      ]
    },
    {
      "cell_type": "code",
      "metadata": {
        "colab": {
          "base_uri": "https://localhost:8080/"
        },
        "id": "qe07PijAXL-8",
        "outputId": "4616f391-2aa5-49dc-edfd-239fdcfc7255"
      },
      "source": [
        "import sys\n",
        "edad = 19 \n",
        "print ( \"Tu edad es :\" , edad) # al final de una línea de código \n",
        "# este es un comentario de linea simple\n",
        "\n",
        "\"\"\"\n",
        "comentario de multiple línea\n",
        "En lenguaje C, C ++ y Java el comentario de multiple linea es con \n",
        "/* ..... */\n",
        "\n",
        "El comentario de una sola linea es con :\n",
        "\n",
        "//\n",
        "\n",
        "Aqui puedes explicar en prosa el segmento de un codigo para futura referencia\n",
        "\n",
        "\"\"\"\n",
        "# tipos de dato numerico int y float\n",
        "\n",
        "print (sys.getsizeof(edad))\n",
        "#el tipo de dato INT utiliza diferente cantidad de bits segun el \n",
        "# leg de programa por ejemplo en C utilizaria 16 bits\n",
        "\n",
        "edad = edad + 1\n",
        "\n",
        "print( edad )\n",
        "\n",
        "estatura = 1.56\n",
        "print(sys.getsizeof(estatura))\n",
        "estatura = estatura + 0.1\n",
        "print( estatura )\n",
        "print(round(estatura,2))\n",
        "\n",
        "\n",
        "edad += 1 #edad = edad + 1 \n",
        "print( \"Tu edad es :\", edad)\n",
        "edad /=2 # edad = edad / 1 \n",
        "print(\"La mitad de tu edad es :\", edad)\n",
        "\n",
        "edad = 21\n",
        "#volver a calcular la mitad de la edad \n",
        "#parte entera\n",
        "edad = edad // 2\n",
        "print ( \"La mitad de tu edad es\", edad )\n",
        "\n",
        "#En la mayoria de los leng no permite operaciones entre \n",
        "# diferentes tipos de datos, en python \n",
        "\n",
        "numero = edad / 2 \n",
        "print( numero)\n",
        "\n",
        "numero *= 3\n",
        "print(numero )\n",
        "\n",
        "numero = 5.0\n",
        "numero = numero **3 #El doble asterisco es potencia y el numero de a lado es a que potencia se va a elevar  \n",
        "print( numero)\n",
        "\n",
        "#Operador modulo \n",
        "numero = 21\n",
        "print(numero / 2) # asi se plantea la division en print \n",
        "print ( numero//2)\n",
        "\n",
        "#Operador modulo da como resultado el residuo de una division entera \n",
        "print ( numero % 2)\n",
        "\n",
        "numero= 24 \n",
        "print(\"Residuo de 24 / 5:\", numero % 5)\n",
        "\n",
        "\n",
        "#Operadores relacionales(lógicos)\n",
        "print ( numero % 2== 0 )\n",
        "#Diferencia\n",
        "print(\"24 es diferente que 23=\", numero !=23)\n",
        "\n",
        "print( \"24 es mayor que 23=\", numero > 23 )\n",
        "\n",
        "print(\"24 es menor que 23=\", numero < 23 )\n",
        "\n",
        "print(\"24 es menor o igual que 23\", numero <=23\n",
        "      )\n",
        "\n",
        "print(\"El tipo de dato de la var numero es: \", type(numero/2.0))\n",
        "\n",
        "\n",
        "\n",
        "\n",
        "\n",
        "\n",
        "\n",
        "\n",
        "\n",
        "\n",
        "\n"
      ],
      "execution_count": null,
      "outputs": [
        {
          "output_type": "stream",
          "name": "stdout",
          "text": [
            "Tu edad es : 19\n",
            "28\n",
            "20\n",
            "24\n",
            "1.6600000000000001\n",
            "1.66\n",
            "Tu edad es : 21\n",
            "La mitad de tu edad es : 10.5\n",
            "La mitad de tu edad es 10\n",
            "5.0\n",
            "15.0\n",
            "125.0\n",
            "10.5\n",
            "10\n",
            "1\n",
            "Residuo de 24 / 5: 4\n",
            "True\n",
            "24 es diferente que 23= True\n",
            "24 es mayor que 23= True\n",
            "24 es menor que 23= False\n",
            "24 es menor o igual que 23 False\n",
            "El tipo de dato de la var numero es:  <class 'float'>\n"
          ]
        }
      ]
    },
    {
      "cell_type": "markdown",
      "metadata": {
        "id": "rSwJhBE_qweP"
      },
      "source": [
        ""
      ]
    },
    {
      "cell_type": "code",
      "metadata": {
        "colab": {
          "base_uri": "https://localhost:8080/"
        },
        "id": "aW4BL06gqOz_",
        "outputId": "cf5afe11-98d5-43f7-f573-9ec71bbb6e2a"
      },
      "source": [
        "nombre = \"diana\"\n",
        "carrera = \"Ingenieria en computacion\"\n",
        "frase = \"\"\" El conocimiento \n",
        "me persigue,..\n",
        "pero\n",
        "yo soy rapido\n",
        "\"\"\"\n",
        "\n",
        "print(nombre)\n",
        "print(carrera)\n",
        "print(frase)\n",
        "\n",
        "#La funcion type de Python te devuelve el tipo de dato de una variable \n",
        "print(type(nombre))\n",
        "\n",
        "paterno= str(\"Moreno\")\n",
        "print( paterno)\n"
      ],
      "execution_count": null,
      "outputs": [
        {
          "output_type": "stream",
          "name": "stdout",
          "text": [
            "diana\n",
            "Ingenieria en computacion\n",
            " El conocimiento \n",
            "me persigue,..\n",
            "pero\n",
            "yo soy rapido\n",
            "\n",
            "<class 'str'>\n",
            "Moreno\n"
          ]
        }
      ]
    },
    {
      "cell_type": "markdown",
      "metadata": {
        "id": "ZJO4pX54qMR_"
      },
      "source": [
        ""
      ]
    },
    {
      "cell_type": "markdown",
      "metadata": {
        "id": "d0mENNP7x6wf"
      },
      "source": [
        "#Silcing(rebanado) de cadenas\n",
        "Permite seleccionar subcadenas con el operador\n",
        "###[inicio : stop : incremento]\n",
        "El stop no se incluye, es por eso que debemos agregar una posición extra.\n",
        "\n",
        "### Slicing y valores por defecto \n",
        "\n",
        "inicio por defecto siempre será 0\n",
        "stop: tamaño del arreglo (index\n",
        "\n",
        "incremento: es q (indexado positivo)"
      ]
    },
    {
      "cell_type": "markdown",
      "metadata": {
        "id": "jEZ3GG95x_xR"
      },
      "source": [
        ""
      ]
    },
    {
      "cell_type": "code",
      "metadata": {
        "colab": {
          "base_uri": "https://localhost:8080/"
        },
        "id": "izE5SYrDyCGm",
        "outputId": "42374326-9591-4547-95c6-6335e65ca875"
      },
      "source": [
        "carrera = \"Ingeniería en computación\"\n",
        "print(carrera[0:10:1])\n",
        "print(carrera[14:25:1])\n",
        "#lo mismo pero con indexado negativo\n",
        "print(carrera[-11: -1 : 1])\n",
        "print( carrera [:10:])\n",
        "print(carrera[14:25:])\n",
        "print(carrera[ -11: :1])\n",
        "\n",
        "#SOLUCION PREVIA \n",
        "print(\"--------\")\n",
        "print( carrera[-11 : -1 : 1])\n",
        "print( carrera [-11 : : 1])\n",
        "\n",
        "#Ejercicio para ver incremento \n",
        "print( carrera[0:10:2]) #Incremento es los saltos que se daran desde el inicio al stop\n",
        "print( carrera[-1:-12-1]) #Imprimir una palabra al reves\n"
      ],
      "execution_count": null,
      "outputs": [
        {
          "output_type": "stream",
          "name": "stdout",
          "text": [
            "Ingeniería\n",
            "computación\n",
            "computació\n",
            "Ingeniería\n",
            "computación\n",
            "computación\n",
            "--------\n",
            "computació\n",
            "computación\n",
            "Igneí\n",
            "\n"
          ]
        }
      ]
    },
    {
      "cell_type": "markdown",
      "metadata": {
        "id": "mORn-bT40kET"
      },
      "source": [
        "#String y sus metodos \n",
        "#Todos los tipos de dato en Python son objetos(CLASES de la POO)\n",
        "###Lo cual significa que tienen atributos y métodos\n",
        "##dir() y help() funciones para obtener ayuda del lenguaje Python \n",
        "\n",
        "###dir muestra las funciones de un tipo de dato como resumen \n",
        "\n",
        "###Help muestra la misma ayuda pero a detalle \n",
        "\n",
        "Metodos que inician con doble guion bajo, son privados de uso interno de la clase y no deberiamos de usarlo\n",
        "\n",
        "Todos los demas son para uso exterior (usuario)"
      ]
    },
    {
      "cell_type": "code",
      "metadata": {
        "colab": {
          "base_uri": "https://localhost:8080/"
        },
        "id": "gZEFY_Kh08jw",
        "outputId": "96a09ecd-4b9b-471c-f949-a7a023a6d88f"
      },
      "source": [
        "frutas =  \"  limon , fresa, manzana  , aguacate  \"\n",
        "nombre = \"diana\"\n",
        "print(frutas)\n",
        "dir(frutas) \n",
        "\n",
        "print( nombre.capitalize() )\n",
        "print( nombre.upper() )\n",
        "print(frutas.replace( 'a' , '4' ).replace('e','3').upper()) \n",
        "frutas= frutas.replace( 'a' , '4').replace('e','3').upper()\n",
        "print(frutas)\n",
        "print(\".-.-.-.-.-.-.-.-.-.-.-.-.-.-.\")\n",
        "frutas =\" limon , fresas, manzana , aguacate \"\n",
        "print( frutas.strip())\n",
        "print( frutas.split()) #Es separado cada elemento por el espacio \n",
        "print( frutas.split(',') )\n",
        "print( frutas)\n"
      ],
      "execution_count": null,
      "outputs": [
        {
          "output_type": "stream",
          "name": "stdout",
          "text": [
            "  limon , fresa, manzana  , aguacate  \n",
            "Diana\n",
            "DIANA\n",
            "  LIMON , FR3S4, M4NZ4N4  , 4GU4C4T3  \n",
            "  LIMON , FR3S4, M4NZ4N4  , 4GU4C4T3  \n",
            ".-.-.-.-.-.-.-.-.-.-.-.-.-.-.\n",
            "limon , fresas, manzana , aguacate\n",
            "['limon', ',', 'fresas,', 'manzana', ',', 'aguacate']\n",
            "[' limon ', ' fresas', ' manzana ', ' aguacate ']\n"
          ]
        }
      ]
    },
    {
      "cell_type": "code",
      "metadata": {
        "colab": {
          "base_uri": "https://localhost:8080/"
        },
        "id": "oiw3a_vX7l_T",
        "outputId": "61204c8c-99c0-456f-a31e-a7119fce7e05"
      },
      "source": [
        "dir(str)\n",
        "help(str.find)#Asi busco el metodo y me dice como se usa "
      ],
      "execution_count": null,
      "outputs": [
        {
          "output_type": "stream",
          "name": "stdout",
          "text": [
            "Help on method_descriptor:\n",
            "\n",
            "find(...)\n",
            "    S.find(sub[, start[, end]]) -> int\n",
            "    \n",
            "    Return the lowest index in S where substring sub is found,\n",
            "    such that sub is contained within S[start:end].  Optional\n",
            "    arguments start and end are interpreted as in slice notation.\n",
            "    \n",
            "    Return -1 on failure.\n",
            "\n"
          ]
        }
      ]
    },
    {
      "cell_type": "markdown",
      "metadata": {
        "id": "ZnwUH2AK8Z1i"
      },
      "source": [
        "#String y caracteres de escape\n",
        "\n",
        "\"Diana\"\n",
        "- \\\" ---> \"\n",
        "- \\' ---> '\n",
        "- \\n ---> Salto de linea(Tecla enter)\n",
        "- \\t ---> tabulador espacios a la izq\n",
        "- \\uxxxx ---> caracteres unicode\n",
        "- \\Uxxxxxxxx --> unicode extendido "
      ]
    },
    {
      "cell_type": "code",
      "metadata": {
        "colab": {
          "base_uri": "https://localhost:8080/"
        },
        "id": "vwRMHjAp8XqY",
        "outputId": "937ec2fe-bcef-41f8-8c8d-3e07647474e3"
      },
      "source": [
        "print(\"\\\"diana\\\" \")\n",
        "nombre = \"\\\"Diana\\\" \"\n",
        "print( nombre )\n",
        "carrera = \"Ingenieria \\nen \\nComputación\" \n",
        "print( carrera )\n",
        "carreras = \"Ingenieria \\n\\ten \\n\\t\\tComputación\" \n",
        "print( carreras)\n",
        "\n"
      ],
      "execution_count": null,
      "outputs": [
        {
          "output_type": "stream",
          "name": "stdout",
          "text": [
            "\"diana\" \n",
            "\"Diana\" \n",
            "Ingenieria \n",
            "en \n",
            "Computación\n",
            "Ingenieria \n",
            "\ten \n",
            "\t\tComputación\n"
          ]
        }
      ]
    },
    {
      "cell_type": "markdown",
      "metadata": {
        "id": "WPa6_sa38Zg7"
      },
      "source": [
        ""
      ]
    }
  ]
}